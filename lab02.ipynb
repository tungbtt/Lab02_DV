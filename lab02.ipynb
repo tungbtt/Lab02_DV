{
 "cells": [
  {
   "cell_type": "markdown",
   "metadata": {},
   "source": [
    "# **LAB 02: LÀM VIỆC VÀ TRỰC QUAN HÓA DỮ LIỆU CHUỖI THỜI GIAN**"
   ]
  },
  {
   "cell_type": "markdown",
   "metadata": {},
   "source": [
    "#### Môn học: Trực quan hóa dữ liệu\n",
    "\n",
    "#### Nhóm: 5\n"
   ]
  },
  {
   "cell_type": "markdown",
   "metadata": {},
   "source": [
    "## **A. Thu thập dữ liệu**"
   ]
  },
  {
   "cell_type": "markdown",
   "metadata": {},
   "source": [
    "\n",
    "\n",
    "\n",
    "nhóm 5 lựa chọn bộ dữ liệu *U.S. Air Pollution* cho lab 01. Bộ dữ liệu được chia sẻ miễn phí trên nền tảng data.world. (Link dataset: https://data.world/data-society/us-air-pollution-data)\n",
    "\n",
    "License: <a href=\"http://opendatacommons.org/licenses/dbcl/1.0/\">Database: Open Database, Contents: Database Contents</a>\n",
    "\n",
    "\n",
    "Bộ dữ liệu được thu thập bằng cách scraped từ database của trang U.S. EPA : https://aqsdr1.epa.gov/aqsweb/aqstmp/airdata/download_files.html\n"
   ]
  },
  {
   "cell_type": "markdown",
   "metadata": {},
   "source": [
    "## **B. Khám phá dữ liệu**"
   ]
  },
  {
   "cell_type": "markdown",
   "metadata": {},
   "source": [
    "### **Import các thư viện**"
   ]
  },
  {
   "cell_type": "code",
   "execution_count": 1,
   "metadata": {},
   "outputs": [],
   "source": [
    "#!pip install pingouin\n",
    "#!pip install category_encoders\n",
    "#!pip install plotly\n",
    "#!pip install yellowbrick"
   ]
  },
  {
   "cell_type": "code",
   "execution_count": 2,
   "metadata": {},
   "outputs": [],
   "source": [
    "import pandas as pd\n",
    "import matplotlib.pyplot as plt\n",
    "import numpy as np\n",
    "import seaborn as sns\n",
    "\n",
    "\n",
    "import warnings\n",
    "warnings.filterwarnings('ignore')\n",
    "sns.set_style(\"whitegrid\")\n",
    "\"\"\"\n",
    "import seaborn as sns\n",
    "import plotly.express as px\n",
    "import plotly.offline as py\n",
    "import matplotlib.pyplot as plt\n",
    "import numpy as np\n",
    "\n",
    "import plotly.graph_objs as go\n",
    "from plotly.subplots import make_subplots\n",
    "import plotly.figure_factory as ff\n",
    "\n",
    "import pingouin as pg #for ANOVA\n",
    "\n",
    "#from sklearn.preprocessing import OneHotEncoder\n",
    "from sklearn import decomposition\n",
    "import category_encoders as ce\n",
    "from sklearn.cluster import KMeans\n",
    "#from sklearn.metrics import silhouette_score\n",
    "from scipy.stats import zscore\n",
    "from yellowbrick.cluster import KElbowVisualizer\n",
    "\"\"\"\n",
    "\n",
    "%matplotlib inline  "
   ]
  },
  {
   "cell_type": "markdown",
   "metadata": {},
   "source": [
    "### **Đọc file dữ liệu vào dataframe**"
   ]
  },
  {
   "cell_type": "code",
   "execution_count": 3,
   "metadata": {},
   "outputs": [
    {
     "data": {
      "text/html": [
       "<div>\n",
       "<style scoped>\n",
       "    .dataframe tbody tr th:only-of-type {\n",
       "        vertical-align: middle;\n",
       "    }\n",
       "\n",
       "    .dataframe tbody tr th {\n",
       "        vertical-align: top;\n",
       "    }\n",
       "\n",
       "    .dataframe thead th {\n",
       "        text-align: right;\n",
       "    }\n",
       "</style>\n",
       "<table border=\"1\" class=\"dataframe\">\n",
       "  <thead>\n",
       "    <tr style=\"text-align: right;\">\n",
       "      <th></th>\n",
       "      <th>Unnamed: 0</th>\n",
       "      <th>State Code</th>\n",
       "      <th>County Code</th>\n",
       "      <th>Site Num</th>\n",
       "      <th>Address</th>\n",
       "      <th>State</th>\n",
       "      <th>County</th>\n",
       "      <th>City</th>\n",
       "      <th>Date Local</th>\n",
       "      <th>NO2 Units</th>\n",
       "      <th>...</th>\n",
       "      <th>SO2 Units</th>\n",
       "      <th>SO2 Mean</th>\n",
       "      <th>SO2 1st Max Value</th>\n",
       "      <th>SO2 1st Max Hour</th>\n",
       "      <th>SO2 AQI</th>\n",
       "      <th>CO Units</th>\n",
       "      <th>CO Mean</th>\n",
       "      <th>CO 1st Max Value</th>\n",
       "      <th>CO 1st Max Hour</th>\n",
       "      <th>CO AQI</th>\n",
       "    </tr>\n",
       "  </thead>\n",
       "  <tbody>\n",
       "    <tr>\n",
       "      <th>0</th>\n",
       "      <td>0</td>\n",
       "      <td>4</td>\n",
       "      <td>13</td>\n",
       "      <td>3002</td>\n",
       "      <td>1645 E ROOSEVELT ST-CENTRAL PHOENIX STN</td>\n",
       "      <td>Arizona</td>\n",
       "      <td>Maricopa</td>\n",
       "      <td>Phoenix</td>\n",
       "      <td>2000-01-01</td>\n",
       "      <td>Parts per billion</td>\n",
       "      <td>...</td>\n",
       "      <td>Parts per billion</td>\n",
       "      <td>3.000000</td>\n",
       "      <td>9.0</td>\n",
       "      <td>21</td>\n",
       "      <td>13.0</td>\n",
       "      <td>Parts per million</td>\n",
       "      <td>1.145833</td>\n",
       "      <td>4.2</td>\n",
       "      <td>21</td>\n",
       "      <td>NaN</td>\n",
       "    </tr>\n",
       "    <tr>\n",
       "      <th>1</th>\n",
       "      <td>1</td>\n",
       "      <td>4</td>\n",
       "      <td>13</td>\n",
       "      <td>3002</td>\n",
       "      <td>1645 E ROOSEVELT ST-CENTRAL PHOENIX STN</td>\n",
       "      <td>Arizona</td>\n",
       "      <td>Maricopa</td>\n",
       "      <td>Phoenix</td>\n",
       "      <td>2000-01-01</td>\n",
       "      <td>Parts per billion</td>\n",
       "      <td>...</td>\n",
       "      <td>Parts per billion</td>\n",
       "      <td>3.000000</td>\n",
       "      <td>9.0</td>\n",
       "      <td>21</td>\n",
       "      <td>13.0</td>\n",
       "      <td>Parts per million</td>\n",
       "      <td>0.878947</td>\n",
       "      <td>2.2</td>\n",
       "      <td>23</td>\n",
       "      <td>25.0</td>\n",
       "    </tr>\n",
       "    <tr>\n",
       "      <th>2</th>\n",
       "      <td>2</td>\n",
       "      <td>4</td>\n",
       "      <td>13</td>\n",
       "      <td>3002</td>\n",
       "      <td>1645 E ROOSEVELT ST-CENTRAL PHOENIX STN</td>\n",
       "      <td>Arizona</td>\n",
       "      <td>Maricopa</td>\n",
       "      <td>Phoenix</td>\n",
       "      <td>2000-01-01</td>\n",
       "      <td>Parts per billion</td>\n",
       "      <td>...</td>\n",
       "      <td>Parts per billion</td>\n",
       "      <td>2.975000</td>\n",
       "      <td>6.6</td>\n",
       "      <td>23</td>\n",
       "      <td>NaN</td>\n",
       "      <td>Parts per million</td>\n",
       "      <td>1.145833</td>\n",
       "      <td>4.2</td>\n",
       "      <td>21</td>\n",
       "      <td>NaN</td>\n",
       "    </tr>\n",
       "    <tr>\n",
       "      <th>3</th>\n",
       "      <td>3</td>\n",
       "      <td>4</td>\n",
       "      <td>13</td>\n",
       "      <td>3002</td>\n",
       "      <td>1645 E ROOSEVELT ST-CENTRAL PHOENIX STN</td>\n",
       "      <td>Arizona</td>\n",
       "      <td>Maricopa</td>\n",
       "      <td>Phoenix</td>\n",
       "      <td>2000-01-01</td>\n",
       "      <td>Parts per billion</td>\n",
       "      <td>...</td>\n",
       "      <td>Parts per billion</td>\n",
       "      <td>2.975000</td>\n",
       "      <td>6.6</td>\n",
       "      <td>23</td>\n",
       "      <td>NaN</td>\n",
       "      <td>Parts per million</td>\n",
       "      <td>0.878947</td>\n",
       "      <td>2.2</td>\n",
       "      <td>23</td>\n",
       "      <td>25.0</td>\n",
       "    </tr>\n",
       "    <tr>\n",
       "      <th>4</th>\n",
       "      <td>4</td>\n",
       "      <td>4</td>\n",
       "      <td>13</td>\n",
       "      <td>3002</td>\n",
       "      <td>1645 E ROOSEVELT ST-CENTRAL PHOENIX STN</td>\n",
       "      <td>Arizona</td>\n",
       "      <td>Maricopa</td>\n",
       "      <td>Phoenix</td>\n",
       "      <td>2000-01-02</td>\n",
       "      <td>Parts per billion</td>\n",
       "      <td>...</td>\n",
       "      <td>Parts per billion</td>\n",
       "      <td>1.958333</td>\n",
       "      <td>3.0</td>\n",
       "      <td>22</td>\n",
       "      <td>4.0</td>\n",
       "      <td>Parts per million</td>\n",
       "      <td>0.850000</td>\n",
       "      <td>1.6</td>\n",
       "      <td>23</td>\n",
       "      <td>NaN</td>\n",
       "    </tr>\n",
       "  </tbody>\n",
       "</table>\n",
       "<p>5 rows × 29 columns</p>\n",
       "</div>"
      ],
      "text/plain": [
       "   Unnamed: 0  State Code  County Code  Site Num  \\\n",
       "0           0           4           13      3002   \n",
       "1           1           4           13      3002   \n",
       "2           2           4           13      3002   \n",
       "3           3           4           13      3002   \n",
       "4           4           4           13      3002   \n",
       "\n",
       "                                   Address    State    County     City  \\\n",
       "0  1645 E ROOSEVELT ST-CENTRAL PHOENIX STN  Arizona  Maricopa  Phoenix   \n",
       "1  1645 E ROOSEVELT ST-CENTRAL PHOENIX STN  Arizona  Maricopa  Phoenix   \n",
       "2  1645 E ROOSEVELT ST-CENTRAL PHOENIX STN  Arizona  Maricopa  Phoenix   \n",
       "3  1645 E ROOSEVELT ST-CENTRAL PHOENIX STN  Arizona  Maricopa  Phoenix   \n",
       "4  1645 E ROOSEVELT ST-CENTRAL PHOENIX STN  Arizona  Maricopa  Phoenix   \n",
       "\n",
       "   Date Local          NO2 Units  ...          SO2 Units  SO2 Mean  \\\n",
       "0  2000-01-01  Parts per billion  ...  Parts per billion  3.000000   \n",
       "1  2000-01-01  Parts per billion  ...  Parts per billion  3.000000   \n",
       "2  2000-01-01  Parts per billion  ...  Parts per billion  2.975000   \n",
       "3  2000-01-01  Parts per billion  ...  Parts per billion  2.975000   \n",
       "4  2000-01-02  Parts per billion  ...  Parts per billion  1.958333   \n",
       "\n",
       "   SO2 1st Max Value  SO2 1st Max Hour SO2 AQI           CO Units   CO Mean  \\\n",
       "0                9.0                21    13.0  Parts per million  1.145833   \n",
       "1                9.0                21    13.0  Parts per million  0.878947   \n",
       "2                6.6                23     NaN  Parts per million  1.145833   \n",
       "3                6.6                23     NaN  Parts per million  0.878947   \n",
       "4                3.0                22     4.0  Parts per million  0.850000   \n",
       "\n",
       "   CO 1st Max Value  CO 1st Max Hour CO AQI  \n",
       "0               4.2               21    NaN  \n",
       "1               2.2               23   25.0  \n",
       "2               4.2               21    NaN  \n",
       "3               2.2               23   25.0  \n",
       "4               1.6               23    NaN  \n",
       "\n",
       "[5 rows x 29 columns]"
      ]
     },
     "execution_count": 3,
     "metadata": {},
     "output_type": "execute_result"
    }
   ],
   "source": [
    "df=pd.read_csv(\"pollution_us_2000_2016.csv\")\n",
    "df.head()\n"
   ]
  },
  {
   "cell_type": "markdown",
   "metadata": {},
   "source": [
    "### **Tiền xử lý và khám phá dữ liệu**"
   ]
  },
  {
   "cell_type": "markdown",
   "metadata": {},
   "source": [
    "Đầu tiên ta sẽ xóa dòng index của dataset."
   ]
  },
  {
   "cell_type": "code",
   "execution_count": 4,
   "metadata": {},
   "outputs": [],
   "source": [
    "df=df.drop(columns=\"Unnamed: 0\")"
   ]
  },
  {
   "cell_type": "markdown",
   "metadata": {},
   "source": [
    "**Số dòng** và **số cột** của bộ dữ liệu: 2000 dòng, 8 cột"
   ]
  },
  {
   "cell_type": "code",
   "execution_count": 5,
   "metadata": {},
   "outputs": [
    {
     "name": "stdout",
     "output_type": "stream",
     "text": [
      "Num rows:  1746661\n",
      "Num cols:  28\n"
     ]
    }
   ],
   "source": [
    "num_rows, num_cols = df.shape\n",
    "print(\"Num rows: \", num_rows)\n",
    "print(\"Num cols: \", num_cols)"
   ]
  },
  {
   "cell_type": "markdown",
   "metadata": {},
   "source": [
    "**Ý nghĩa của mỗi dòng**: Thông tin về nồng độ NO2, O3, SO2, CO trong không khí ở một thành phố trong một ngày."
   ]
  },
  {
   "cell_type": "code",
   "execution_count": 6,
   "metadata": {},
   "outputs": [
    {
     "data": {
      "text/html": [
       "<div>\n",
       "<style scoped>\n",
       "    .dataframe tbody tr th:only-of-type {\n",
       "        vertical-align: middle;\n",
       "    }\n",
       "\n",
       "    .dataframe tbody tr th {\n",
       "        vertical-align: top;\n",
       "    }\n",
       "\n",
       "    .dataframe thead th {\n",
       "        text-align: right;\n",
       "    }\n",
       "</style>\n",
       "<table border=\"1\" class=\"dataframe\">\n",
       "  <thead>\n",
       "    <tr style=\"text-align: right;\">\n",
       "      <th></th>\n",
       "      <th>State Code</th>\n",
       "      <th>County Code</th>\n",
       "      <th>Site Num</th>\n",
       "      <th>Address</th>\n",
       "      <th>State</th>\n",
       "      <th>County</th>\n",
       "      <th>City</th>\n",
       "      <th>Date Local</th>\n",
       "      <th>NO2 Units</th>\n",
       "      <th>NO2 Mean</th>\n",
       "      <th>NO2 1st Max Value</th>\n",
       "      <th>NO2 1st Max Hour</th>\n",
       "      <th>NO2 AQI</th>\n",
       "      <th>O3 Units</th>\n",
       "      <th>O3 Mean</th>\n",
       "      <th>O3 1st Max Value</th>\n",
       "      <th>O3 1st Max Hour</th>\n",
       "      <th>O3 AQI</th>\n",
       "      <th>SO2 Units</th>\n",
       "      <th>SO2 Mean</th>\n",
       "      <th>SO2 1st Max Value</th>\n",
       "      <th>SO2 1st Max Hour</th>\n",
       "      <th>SO2 AQI</th>\n",
       "      <th>CO Units</th>\n",
       "      <th>CO Mean</th>\n",
       "      <th>CO 1st Max Value</th>\n",
       "      <th>CO 1st Max Hour</th>\n",
       "      <th>CO AQI</th>\n",
       "    </tr>\n",
       "  </thead>\n",
       "  <tbody>\n",
       "    <tr>\n",
       "      <th>0</th>\n",
       "      <td>4</td>\n",
       "      <td>13</td>\n",
       "      <td>3002</td>\n",
       "      <td>1645 E ROOSEVELT ST-CENTRAL PHOENIX STN</td>\n",
       "      <td>Arizona</td>\n",
       "      <td>Maricopa</td>\n",
       "      <td>Phoenix</td>\n",
       "      <td>2000-01-01</td>\n",
       "      <td>Parts per billion</td>\n",
       "      <td>19.041667</td>\n",
       "      <td>49.0</td>\n",
       "      <td>19</td>\n",
       "      <td>46</td>\n",
       "      <td>Parts per million</td>\n",
       "      <td>0.0225</td>\n",
       "      <td>0.04</td>\n",
       "      <td>10</td>\n",
       "      <td>34</td>\n",
       "      <td>Parts per billion</td>\n",
       "      <td>3.0</td>\n",
       "      <td>9.0</td>\n",
       "      <td>21</td>\n",
       "      <td>13.0</td>\n",
       "      <td>Parts per million</td>\n",
       "      <td>1.145833</td>\n",
       "      <td>4.2</td>\n",
       "      <td>21</td>\n",
       "      <td>NaN</td>\n",
       "    </tr>\n",
       "  </tbody>\n",
       "</table>\n",
       "</div>"
      ],
      "text/plain": [
       "   State Code  County Code  Site Num                                  Address  \\\n",
       "0           4           13      3002  1645 E ROOSEVELT ST-CENTRAL PHOENIX STN   \n",
       "\n",
       "     State    County     City  Date Local          NO2 Units   NO2 Mean  \\\n",
       "0  Arizona  Maricopa  Phoenix  2000-01-01  Parts per billion  19.041667   \n",
       "\n",
       "   NO2 1st Max Value  NO2 1st Max Hour  NO2 AQI           O3 Units  O3 Mean  \\\n",
       "0               49.0                19       46  Parts per million   0.0225   \n",
       "\n",
       "   O3 1st Max Value  O3 1st Max Hour  O3 AQI          SO2 Units  SO2 Mean  \\\n",
       "0              0.04               10      34  Parts per billion       3.0   \n",
       "\n",
       "   SO2 1st Max Value  SO2 1st Max Hour  SO2 AQI           CO Units   CO Mean  \\\n",
       "0                9.0                21     13.0  Parts per million  1.145833   \n",
       "\n",
       "   CO 1st Max Value  CO 1st Max Hour  CO AQI  \n",
       "0               4.2               21     NaN  "
      ]
     },
     "execution_count": 6,
     "metadata": {},
     "output_type": "execute_result"
    }
   ],
   "source": [
    "pd.set_option('display.max_columns', None)\n",
    "df.head(1)"
   ]
  },
  {
   "cell_type": "markdown",
   "metadata": {},
   "source": [
    "Kiểm tra xem có dòng nào bị trùng lặp hay không:"
   ]
  },
  {
   "cell_type": "code",
   "execution_count": 7,
   "metadata": {},
   "outputs": [
    {
     "data": {
      "text/plain": [
       "5032"
      ]
     },
     "execution_count": 7,
     "metadata": {},
     "output_type": "execute_result"
    }
   ],
   "source": [
    "df.duplicated().sum()"
   ]
  },
  {
   "cell_type": "markdown",
   "metadata": {},
   "source": [
    "Thực hiện loại bỏ các dòng trùng lặp:"
   ]
  },
  {
   "cell_type": "code",
   "execution_count": 8,
   "metadata": {},
   "outputs": [],
   "source": [
    "df=df.drop_duplicates()"
   ]
  },
  {
   "cell_type": "markdown",
   "metadata": {},
   "source": [
    "**Ý nghĩa của mỗi cột**: \n",
    "\n",
    "- `State Code` : Mã tiểu bang.\n",
    "- `County code` : Mã quận.\n",
    "- `Site Num` : Số site ở mỗi quận.\n",
    "- `Address`: Địa chỉ\n",
    "- `State` : Tên tiểu bang.\n",
    "- `County` : Tên quận\n",
    "- `City` : Tên thành phố\n",
    "- `Date Local` : Ngày thực hiện đo.\n",
    "\n",
    "\n",
    "4 chất gây ô nhiễm không khí ($NO_2, O_3, SO_2$ và  $O_3$), ứng với mỗi chất có 5 cột giá trị. Ví dụ đối với $NO_2$:\n",
    "\n",
    "- `NO2 Units` : đơn vị đo lường NO2\n",
    "- `NO2 Mean` : trung bình nồng độ NO2 trong một ngày cụ thể.\n",
    "- `NO2 AQI` : chỉ số chất lượng không khí được tính toán bởi NO2 trong một ngày cụ thể.\n",
    "-   `NO2 1st Max Value` : Giá trị lớn nhất của nồng độ NO2 trong ngày.\n",
    "- `NO2 1st Max Hour` : Thời gian mà nồng độ NO2 đạt giá trị lớn nhất."
   ]
  },
  {
   "cell_type": "markdown",
   "metadata": {},
   "source": [
    "Ta sẽ thực hiện chuẩn hóa tên các cột để thuận tiện hơn cho việc sử dụng về sau:"
   ]
  },
  {
   "cell_type": "code",
   "execution_count": 9,
   "metadata": {},
   "outputs": [],
   "source": [
    "df.rename(columns=lambda x: x.replace(' ', '_'), inplace=True)"
   ]
  },
  {
   "cell_type": "markdown",
   "metadata": {},
   "source": [
    "**Kiểu dữ liệu của mỗi cột:**"
   ]
  },
  {
   "cell_type": "code",
   "execution_count": 10,
   "metadata": {},
   "outputs": [
    {
     "data": {
      "text/plain": [
       "State_Code             int64\n",
       "County_Code            int64\n",
       "Site_Num               int64\n",
       "Address               object\n",
       "State                 object\n",
       "County                object\n",
       "City                  object\n",
       "Date_Local            object\n",
       "NO2_Units             object\n",
       "NO2_Mean             float64\n",
       "NO2_1st_Max_Value    float64\n",
       "NO2_1st_Max_Hour       int64\n",
       "NO2_AQI                int64\n",
       "O3_Units              object\n",
       "O3_Mean              float64\n",
       "O3_1st_Max_Value     float64\n",
       "O3_1st_Max_Hour        int64\n",
       "O3_AQI                 int64\n",
       "SO2_Units             object\n",
       "SO2_Mean             float64\n",
       "SO2_1st_Max_Value    float64\n",
       "SO2_1st_Max_Hour       int64\n",
       "SO2_AQI              float64\n",
       "CO_Units              object\n",
       "CO_Mean              float64\n",
       "CO_1st_Max_Value     float64\n",
       "CO_1st_Max_Hour        int64\n",
       "CO_AQI               float64\n",
       "dtype: object"
      ]
     },
     "execution_count": 10,
     "metadata": {},
     "output_type": "execute_result"
    }
   ],
   "source": [
    "df.dtypes"
   ]
  },
  {
   "cell_type": "markdown",
   "metadata": {},
   "source": [
    "Cột `Date_Local` chưa có kiểu dữ liệu phù hợp, ta sẽ thực hiện chuyển kiểu dữ liệu về kiểm **datetime**"
   ]
  },
  {
   "cell_type": "code",
   "execution_count": 11,
   "metadata": {},
   "outputs": [],
   "source": [
    "df['Date_Local'] = pd.to_datetime(df['Date_Local'], format='%Y-%m-%d')"
   ]
  },
  {
   "cell_type": "markdown",
   "metadata": {},
   "source": [
    "Chuyển các cột `State_Code`, `County_Code` sang **string**"
   ]
  },
  {
   "cell_type": "code",
   "execution_count": 12,
   "metadata": {},
   "outputs": [],
   "source": [
    "df[['State_Code', 'County_Code']]=df[['State_Code', 'County_Code']].astype(str)"
   ]
  },
  {
   "cell_type": "markdown",
   "metadata": {},
   "source": [
    "**Kiểm tra giá trị bị thiếu:**"
   ]
  },
  {
   "cell_type": "code",
   "execution_count": 13,
   "metadata": {},
   "outputs": [
    {
     "data": {
      "text/plain": [
       "State_Code           0.00000\n",
       "County_Code          0.00000\n",
       "Site_Num             0.00000\n",
       "Address              0.00000\n",
       "State                0.00000\n",
       "County               0.00000\n",
       "City                 0.00000\n",
       "Date_Local           0.00000\n",
       "NO2_Units            0.00000\n",
       "NO2_Mean             0.00000\n",
       "NO2_1st_Max_Value    0.00000\n",
       "NO2_1st_Max_Hour     0.00000\n",
       "NO2_AQI              0.00000\n",
       "O3_Units             0.00000\n",
       "O3_Mean              0.00000\n",
       "O3_1st_Max_Value     0.00000\n",
       "O3_1st_Max_Hour      0.00000\n",
       "O3_AQI               0.00000\n",
       "SO2_Units            0.00000\n",
       "SO2_Mean             0.00000\n",
       "SO2_1st_Max_Value    0.00000\n",
       "SO2_1st_Max_Hour     0.00000\n",
       "SO2_AQI              0.49973\n",
       "CO_Units             0.00000\n",
       "CO_Mean              0.00000\n",
       "CO_1st_Max_Value     0.00000\n",
       "CO_1st_Max_Hour      0.00000\n",
       "CO_AQI               0.50010\n",
       "dtype: float64"
      ]
     },
     "execution_count": 13,
     "metadata": {},
     "output_type": "execute_result"
    }
   ],
   "source": [
    "df.isna().sum()/df.shape[0]"
   ]
  },
  {
   "cell_type": "markdown",
   "metadata": {},
   "source": [
    "Có gần 50% giá trị bị thiếu ở 2 cột `SO2_AQI` và `CO_AQI`"
   ]
  },
  {
   "cell_type": "markdown",
   "metadata": {},
   "source": [
    "**Phân bố giá trị của các cột numerical:**\n",
    "\n",
    "Bảng thống kê cơ bản về các phân bố giá trị của các thuộc tính **numeric**:"
   ]
  },
  {
   "cell_type": "code",
   "execution_count": 14,
   "metadata": {},
   "outputs": [],
   "source": [
    "numeric_cols = df.select_dtypes(include=np.number).columns.tolist()\n"
   ]
  },
  {
   "cell_type": "code",
   "execution_count": 15,
   "metadata": {},
   "outputs": [
    {
     "data": {
      "text/html": [
       "<div>\n",
       "<style scoped>\n",
       "    .dataframe tbody tr th:only-of-type {\n",
       "        vertical-align: middle;\n",
       "    }\n",
       "\n",
       "    .dataframe tbody tr th {\n",
       "        vertical-align: top;\n",
       "    }\n",
       "\n",
       "    .dataframe thead th {\n",
       "        text-align: right;\n",
       "    }\n",
       "</style>\n",
       "<table border=\"1\" class=\"dataframe\">\n",
       "  <thead>\n",
       "    <tr style=\"text-align: right;\">\n",
       "      <th></th>\n",
       "      <th>Site_Num</th>\n",
       "      <th>NO2_Mean</th>\n",
       "      <th>NO2_1st_Max_Value</th>\n",
       "      <th>NO2_1st_Max_Hour</th>\n",
       "      <th>NO2_AQI</th>\n",
       "      <th>O3_Mean</th>\n",
       "      <th>O3_1st_Max_Value</th>\n",
       "      <th>O3_1st_Max_Hour</th>\n",
       "      <th>O3_AQI</th>\n",
       "      <th>SO2_Mean</th>\n",
       "      <th>SO2_1st_Max_Value</th>\n",
       "      <th>SO2_1st_Max_Hour</th>\n",
       "      <th>SO2_AQI</th>\n",
       "      <th>CO_Mean</th>\n",
       "      <th>CO_1st_Max_Value</th>\n",
       "      <th>CO_1st_Max_Hour</th>\n",
       "      <th>CO_AQI</th>\n",
       "    </tr>\n",
       "  </thead>\n",
       "  <tbody>\n",
       "    <tr>\n",
       "      <th>count</th>\n",
       "      <td>1741629.00</td>\n",
       "      <td>1741629.00</td>\n",
       "      <td>1741629.00</td>\n",
       "      <td>1741629.00</td>\n",
       "      <td>1741629.00</td>\n",
       "      <td>1741629.00</td>\n",
       "      <td>1741629.00</td>\n",
       "      <td>1741629.00</td>\n",
       "      <td>1741629.00</td>\n",
       "      <td>1741629.00</td>\n",
       "      <td>1741629.00</td>\n",
       "      <td>1741629.00</td>\n",
       "      <td>871285.00</td>\n",
       "      <td>1741629.00</td>\n",
       "      <td>1741629.00</td>\n",
       "      <td>1741629.00</td>\n",
       "      <td>870641.00</td>\n",
       "    </tr>\n",
       "    <tr>\n",
       "      <th>mean</th>\n",
       "      <td>1120.18</td>\n",
       "      <td>12.82</td>\n",
       "      <td>25.41</td>\n",
       "      <td>11.73</td>\n",
       "      <td>23.89</td>\n",
       "      <td>0.03</td>\n",
       "      <td>0.04</td>\n",
       "      <td>10.17</td>\n",
       "      <td>36.04</td>\n",
       "      <td>1.87</td>\n",
       "      <td>4.50</td>\n",
       "      <td>9.66</td>\n",
       "      <td>7.12</td>\n",
       "      <td>0.37</td>\n",
       "      <td>0.62</td>\n",
       "      <td>7.87</td>\n",
       "      <td>6.00</td>\n",
       "    </tr>\n",
       "    <tr>\n",
       "      <th>std</th>\n",
       "      <td>2004.00</td>\n",
       "      <td>9.51</td>\n",
       "      <td>16.00</td>\n",
       "      <td>7.88</td>\n",
       "      <td>15.16</td>\n",
       "      <td>0.01</td>\n",
       "      <td>0.02</td>\n",
       "      <td>4.00</td>\n",
       "      <td>19.74</td>\n",
       "      <td>2.76</td>\n",
       "      <td>7.69</td>\n",
       "      <td>6.73</td>\n",
       "      <td>11.94</td>\n",
       "      <td>0.31</td>\n",
       "      <td>0.64</td>\n",
       "      <td>7.98</td>\n",
       "      <td>5.85</td>\n",
       "    </tr>\n",
       "    <tr>\n",
       "      <th>min</th>\n",
       "      <td>1.00</td>\n",
       "      <td>-2.00</td>\n",
       "      <td>-2.00</td>\n",
       "      <td>0.00</td>\n",
       "      <td>0.00</td>\n",
       "      <td>0.00</td>\n",
       "      <td>0.00</td>\n",
       "      <td>0.00</td>\n",
       "      <td>0.00</td>\n",
       "      <td>-2.00</td>\n",
       "      <td>-2.00</td>\n",
       "      <td>0.00</td>\n",
       "      <td>0.00</td>\n",
       "      <td>-0.44</td>\n",
       "      <td>-0.40</td>\n",
       "      <td>0.00</td>\n",
       "      <td>0.00</td>\n",
       "    </tr>\n",
       "    <tr>\n",
       "      <th>25%</th>\n",
       "      <td>9.00</td>\n",
       "      <td>5.75</td>\n",
       "      <td>13.00</td>\n",
       "      <td>5.00</td>\n",
       "      <td>12.00</td>\n",
       "      <td>0.02</td>\n",
       "      <td>0.03</td>\n",
       "      <td>9.00</td>\n",
       "      <td>25.00</td>\n",
       "      <td>0.26</td>\n",
       "      <td>0.90</td>\n",
       "      <td>5.00</td>\n",
       "      <td>1.00</td>\n",
       "      <td>0.18</td>\n",
       "      <td>0.29</td>\n",
       "      <td>0.00</td>\n",
       "      <td>2.00</td>\n",
       "    </tr>\n",
       "    <tr>\n",
       "      <th>50%</th>\n",
       "      <td>60.00</td>\n",
       "      <td>10.74</td>\n",
       "      <td>24.00</td>\n",
       "      <td>9.00</td>\n",
       "      <td>23.00</td>\n",
       "      <td>0.03</td>\n",
       "      <td>0.04</td>\n",
       "      <td>10.00</td>\n",
       "      <td>33.00</td>\n",
       "      <td>0.99</td>\n",
       "      <td>2.00</td>\n",
       "      <td>8.00</td>\n",
       "      <td>3.00</td>\n",
       "      <td>0.29</td>\n",
       "      <td>0.40</td>\n",
       "      <td>6.00</td>\n",
       "      <td>5.00</td>\n",
       "    </tr>\n",
       "    <tr>\n",
       "      <th>75%</th>\n",
       "      <td>1039.00</td>\n",
       "      <td>17.71</td>\n",
       "      <td>35.60</td>\n",
       "      <td>20.00</td>\n",
       "      <td>33.00</td>\n",
       "      <td>0.03</td>\n",
       "      <td>0.05</td>\n",
       "      <td>11.00</td>\n",
       "      <td>42.00</td>\n",
       "      <td>2.33</td>\n",
       "      <td>5.00</td>\n",
       "      <td>14.00</td>\n",
       "      <td>9.00</td>\n",
       "      <td>0.47</td>\n",
       "      <td>0.80</td>\n",
       "      <td>13.00</td>\n",
       "      <td>8.00</td>\n",
       "    </tr>\n",
       "    <tr>\n",
       "      <th>max</th>\n",
       "      <td>9997.00</td>\n",
       "      <td>139.54</td>\n",
       "      <td>267.00</td>\n",
       "      <td>23.00</td>\n",
       "      <td>132.00</td>\n",
       "      <td>0.10</td>\n",
       "      <td>0.14</td>\n",
       "      <td>23.00</td>\n",
       "      <td>218.00</td>\n",
       "      <td>321.62</td>\n",
       "      <td>351.00</td>\n",
       "      <td>23.00</td>\n",
       "      <td>200.00</td>\n",
       "      <td>7.51</td>\n",
       "      <td>19.90</td>\n",
       "      <td>23.00</td>\n",
       "      <td>201.00</td>\n",
       "    </tr>\n",
       "  </tbody>\n",
       "</table>\n",
       "</div>"
      ],
      "text/plain": [
       "         Site_Num    NO2_Mean  NO2_1st_Max_Value  NO2_1st_Max_Hour  \\\n",
       "count  1741629.00  1741629.00         1741629.00        1741629.00   \n",
       "mean      1120.18       12.82              25.41             11.73   \n",
       "std       2004.00        9.51              16.00              7.88   \n",
       "min          1.00       -2.00              -2.00              0.00   \n",
       "25%          9.00        5.75              13.00              5.00   \n",
       "50%         60.00       10.74              24.00              9.00   \n",
       "75%       1039.00       17.71              35.60             20.00   \n",
       "max       9997.00      139.54             267.00             23.00   \n",
       "\n",
       "          NO2_AQI     O3_Mean  O3_1st_Max_Value  O3_1st_Max_Hour      O3_AQI  \\\n",
       "count  1741629.00  1741629.00        1741629.00       1741629.00  1741629.00   \n",
       "mean        23.89        0.03              0.04            10.17       36.04   \n",
       "std         15.16        0.01              0.02             4.00       19.74   \n",
       "min          0.00        0.00              0.00             0.00        0.00   \n",
       "25%         12.00        0.02              0.03             9.00       25.00   \n",
       "50%         23.00        0.03              0.04            10.00       33.00   \n",
       "75%         33.00        0.03              0.05            11.00       42.00   \n",
       "max        132.00        0.10              0.14            23.00      218.00   \n",
       "\n",
       "         SO2_Mean  SO2_1st_Max_Value  SO2_1st_Max_Hour    SO2_AQI     CO_Mean  \\\n",
       "count  1741629.00         1741629.00        1741629.00  871285.00  1741629.00   \n",
       "mean         1.87               4.50              9.66       7.12        0.37   \n",
       "std          2.76               7.69              6.73      11.94        0.31   \n",
       "min         -2.00              -2.00              0.00       0.00       -0.44   \n",
       "25%          0.26               0.90              5.00       1.00        0.18   \n",
       "50%          0.99               2.00              8.00       3.00        0.29   \n",
       "75%          2.33               5.00             14.00       9.00        0.47   \n",
       "max        321.62             351.00             23.00     200.00        7.51   \n",
       "\n",
       "       CO_1st_Max_Value  CO_1st_Max_Hour     CO_AQI  \n",
       "count        1741629.00       1741629.00  870641.00  \n",
       "mean               0.62             7.87       6.00  \n",
       "std                0.64             7.98       5.85  \n",
       "min               -0.40             0.00       0.00  \n",
       "25%                0.29             0.00       2.00  \n",
       "50%                0.40             6.00       5.00  \n",
       "75%                0.80            13.00       8.00  \n",
       "max               19.90            23.00     201.00  "
      ]
     },
     "execution_count": 15,
     "metadata": {},
     "output_type": "execute_result"
    }
   ],
   "source": [
    "df[numeric_cols].describe().round(2)"
   ]
  },
  {
   "cell_type": "markdown",
   "metadata": {},
   "source": [
    "**Phân bố giá trị của các cột categorical:**"
   ]
  },
  {
   "cell_type": "code",
   "execution_count": 16,
   "metadata": {},
   "outputs": [
    {
     "data": {
      "text/html": [
       "<div>\n",
       "<style scoped>\n",
       "    .dataframe tbody tr th:only-of-type {\n",
       "        vertical-align: middle;\n",
       "    }\n",
       "\n",
       "    .dataframe tbody tr th {\n",
       "        vertical-align: top;\n",
       "    }\n",
       "\n",
       "    .dataframe thead th {\n",
       "        text-align: right;\n",
       "    }\n",
       "</style>\n",
       "<table border=\"1\" class=\"dataframe\">\n",
       "  <thead>\n",
       "    <tr style=\"text-align: right;\">\n",
       "      <th></th>\n",
       "      <th>NO2_Units</th>\n",
       "      <th>County_Code</th>\n",
       "      <th>County</th>\n",
       "      <th>SO2_Units</th>\n",
       "      <th>State</th>\n",
       "      <th>City</th>\n",
       "      <th>Date_Local</th>\n",
       "      <th>CO_Units</th>\n",
       "      <th>Address</th>\n",
       "      <th>O3_Units</th>\n",
       "      <th>State_Code</th>\n",
       "    </tr>\n",
       "  </thead>\n",
       "  <tbody>\n",
       "    <tr>\n",
       "      <th>count</th>\n",
       "      <td>1741629</td>\n",
       "      <td>1741629</td>\n",
       "      <td>1741629</td>\n",
       "      <td>1741629</td>\n",
       "      <td>1741629</td>\n",
       "      <td>1741629</td>\n",
       "      <td>1741629</td>\n",
       "      <td>1741629</td>\n",
       "      <td>1741629</td>\n",
       "      <td>1741629</td>\n",
       "      <td>1741629</td>\n",
       "    </tr>\n",
       "    <tr>\n",
       "      <th>unique</th>\n",
       "      <td>1</td>\n",
       "      <td>73</td>\n",
       "      <td>133</td>\n",
       "      <td>1</td>\n",
       "      <td>47</td>\n",
       "      <td>144</td>\n",
       "      <td>5996</td>\n",
       "      <td>1</td>\n",
       "      <td>204</td>\n",
       "      <td>1</td>\n",
       "      <td>47</td>\n",
       "    </tr>\n",
       "    <tr>\n",
       "      <th>top</th>\n",
       "      <td>Parts per billion</td>\n",
       "      <td>13</td>\n",
       "      <td>Los Angeles</td>\n",
       "      <td>Parts per billion</td>\n",
       "      <td>California</td>\n",
       "      <td>Not in a city</td>\n",
       "      <td>2013-04-17 00:00:00</td>\n",
       "      <td>Parts per million</td>\n",
       "      <td>PIKE AVE AT RIVER ROAD</td>\n",
       "      <td>Parts per million</td>\n",
       "      <td>6</td>\n",
       "    </tr>\n",
       "    <tr>\n",
       "      <th>freq</th>\n",
       "      <td>1741629</td>\n",
       "      <td>149178</td>\n",
       "      <td>93371</td>\n",
       "      <td>1741629</td>\n",
       "      <td>575628</td>\n",
       "      <td>138375</td>\n",
       "      <td>408</td>\n",
       "      <td>1741629</td>\n",
       "      <td>35117</td>\n",
       "      <td>1741629</td>\n",
       "      <td>575628</td>\n",
       "    </tr>\n",
       "    <tr>\n",
       "      <th>first</th>\n",
       "      <td>NaN</td>\n",
       "      <td>NaN</td>\n",
       "      <td>NaN</td>\n",
       "      <td>NaN</td>\n",
       "      <td>NaN</td>\n",
       "      <td>NaN</td>\n",
       "      <td>2000-01-01 00:00:00</td>\n",
       "      <td>NaN</td>\n",
       "      <td>NaN</td>\n",
       "      <td>NaN</td>\n",
       "      <td>NaN</td>\n",
       "    </tr>\n",
       "    <tr>\n",
       "      <th>last</th>\n",
       "      <td>NaN</td>\n",
       "      <td>NaN</td>\n",
       "      <td>NaN</td>\n",
       "      <td>NaN</td>\n",
       "      <td>NaN</td>\n",
       "      <td>NaN</td>\n",
       "      <td>2016-05-31 00:00:00</td>\n",
       "      <td>NaN</td>\n",
       "      <td>NaN</td>\n",
       "      <td>NaN</td>\n",
       "      <td>NaN</td>\n",
       "    </tr>\n",
       "  </tbody>\n",
       "</table>\n",
       "</div>"
      ],
      "text/plain": [
       "                NO2_Units County_Code       County          SO2_Units  \\\n",
       "count             1741629     1741629      1741629            1741629   \n",
       "unique                  1          73          133                  1   \n",
       "top     Parts per billion          13  Los Angeles  Parts per billion   \n",
       "freq              1741629      149178        93371            1741629   \n",
       "first                 NaN         NaN          NaN                NaN   \n",
       "last                  NaN         NaN          NaN                NaN   \n",
       "\n",
       "             State           City           Date_Local           CO_Units  \\\n",
       "count      1741629        1741629              1741629            1741629   \n",
       "unique          47            144                 5996                  1   \n",
       "top     California  Not in a city  2013-04-17 00:00:00  Parts per million   \n",
       "freq        575628         138375                  408            1741629   \n",
       "first          NaN            NaN  2000-01-01 00:00:00                NaN   \n",
       "last           NaN            NaN  2016-05-31 00:00:00                NaN   \n",
       "\n",
       "                       Address           O3_Units State_Code  \n",
       "count                  1741629            1741629    1741629  \n",
       "unique                     204                  1         47  \n",
       "top     PIKE AVE AT RIVER ROAD  Parts per million          6  \n",
       "freq                     35117            1741629     575628  \n",
       "first                      NaN                NaN        NaN  \n",
       "last                       NaN                NaN        NaN  "
      ]
     },
     "execution_count": 16,
     "metadata": {},
     "output_type": "execute_result"
    }
   ],
   "source": [
    "df[set(df.columns)-set(numeric_cols)].describe()"
   ]
  },
  {
   "cell_type": "markdown",
   "metadata": {},
   "source": [
    "## **C. Khám phá mối quan hệ trong dữ liệu**"
   ]
  },
  {
   "cell_type": "markdown",
   "metadata": {},
   "source": [
    "##### **Mối Quan Hệ Giữa 2 Thuộc Tính: `Date Local` và `NO2 Mean`**"
   ]
  },
  {
   "cell_type": "code",
   "execution_count": 28,
   "metadata": {},
   "outputs": [
    {
     "data": {
      "application/vnd.plotly.v1+json": {
       "config": {
        "plotlyServerURL": "https://plot.ly"
       },
       "data": [
        {
         "hovertemplate": "County=Bronx<br>Date_Local=%{x}<br>NO2_Mean=%{y}<extra></extra>",
         "legendgroup": "Bronx",
         "marker": {
          "color": "#2E91E5",
          "opacity": 0.7,
          "symbol": "circle"
         },
         "mode": "markers",
         "name": "Bronx",
         "orientation": "v",
         "showlegend": true,
         "type": "scatter",
         "x": [
          "2013-11-22T00:00:00",
          "2011-04-13T00:00:00",
          "2008-07-13T00:00:00",
          "2004-08-11T00:00:00",
          "2003-07-27T00:00:00",
          "2004-07-22T00:00:00",
          "2007-06-15T00:00:00",
          "2006-02-17T00:00:00",
          "2001-10-09T00:00:00"
         ],
         "xaxis": "x",
         "y": [
          30.141667,
          15.025,
          9.416667,
          23.583333,
          20.791667,
          28.434783,
          20.791667,
          29.291667,
          39.125
         ],
         "yaxis": "y"
        },
        {
         "hovertemplate": "County=Marion<br>Date_Local=%{x}<br>NO2_Mean=%{y}<extra></extra>",
         "legendgroup": "Marion",
         "marker": {
          "color": "#E15F99",
          "opacity": 0.7,
          "symbol": "circle"
         },
         "mode": "markers",
         "name": "Marion",
         "orientation": "v",
         "showlegend": true,
         "type": "scatter",
         "x": [
          "2000-06-18T00:00:00",
          "2015-06-14T00:00:00",
          "2001-04-28T00:00:00",
          "2014-03-21T00:00:00",
          "2015-09-15T00:00:00",
          "2007-06-24T00:00:00",
          "2013-06-17T00:00:00",
          "2015-06-01T00:00:00",
          "2000-09-20T00:00:00"
         ],
         "xaxis": "x",
         "y": [
          9.541667,
          9.808333,
          11,
          14.64,
          15.65,
          6.541667,
          13.7,
          9.866667,
          11.333333
         ],
         "yaxis": "y"
        },
        {
         "hovertemplate": "County=Fresno<br>Date_Local=%{x}<br>NO2_Mean=%{y}<extra></extra>",
         "legendgroup": "Fresno",
         "marker": {
          "color": "#1CA71C",
          "opacity": 0.7,
          "symbol": "circle"
         },
         "mode": "markers",
         "name": "Fresno",
         "orientation": "v",
         "showlegend": true,
         "type": "scatter",
         "x": [
          "2007-12-09T00:00:00",
          "2014-11-04T00:00:00",
          "2012-03-25T00:00:00",
          "2009-12-17T00:00:00",
          "2015-01-15T00:00:00",
          "2009-02-01T00:00:00",
          "2011-07-31T00:00:00",
          "2009-10-05T00:00:00",
          "2016-01-25T00:00:00",
          "2008-12-22T00:00:00",
          "2009-09-05T00:00:00",
          "2003-07-18T00:00:00",
          "2003-04-18T00:00:00"
         ],
         "xaxis": "x",
         "y": [
          20.347826,
          16.495652,
          9.109524,
          17.086957,
          12.308696,
          21.043478,
          7.26087,
          13.521739,
          13.254545,
          17.772727,
          6.304348,
          24.521739,
          10.652174
         ],
         "yaxis": "y"
        },
        {
         "hovertemplate": "County=Maricopa<br>Date_Local=%{x}<br>NO2_Mean=%{y}<extra></extra>",
         "legendgroup": "Maricopa",
         "marker": {
          "color": "#FB0D0D",
          "opacity": 0.7,
          "symbol": "circle"
         },
         "mode": "markers",
         "name": "Maricopa",
         "orientation": "v",
         "showlegend": true,
         "type": "scatter",
         "x": [
          "2012-03-02T00:00:00",
          "2004-06-15T00:00:00",
          "2004-12-12T00:00:00",
          "2000-01-18T00:00:00",
          "2007-12-31T00:00:00",
          "2006-09-18T00:00:00",
          "2005-08-01T00:00:00",
          "2009-03-03T00:00:00",
          "2008-09-15T00:00:00",
          "2009-02-01T00:00:00",
          "2001-03-28T00:00:00",
          "2008-03-12T00:00:00",
          "2005-03-02T00:00:00",
          "2001-03-22T00:00:00",
          "2008-02-03T00:00:00",
          "2011-05-21T00:00:00",
          "2014-04-26T00:00:00",
          "2008-02-09T00:00:00",
          "2010-05-29T00:00:00",
          "2014-09-07T00:00:00",
          "2011-07-12T00:00:00",
          "2005-08-11T00:00:00",
          "2006-06-25T00:00:00",
          "2007-09-17T00:00:00",
          "2015-11-21T00:00:00",
          "2011-01-31T00:00:00",
          "2006-03-14T00:00:00",
          "2011-11-07T00:00:00"
         ],
         "xaxis": "x",
         "y": [
          21.375,
          20.083333,
          21.291667,
          110.136364,
          23.875,
          26.779167,
          10.291667,
          31.333333,
          6.190476,
          26.75,
          33.5,
          20.958333,
          23.75,
          22.208333,
          18.291667,
          16.041667,
          5.083333,
          32,
          13.25,
          4.708333,
          12.541667,
          15.558333,
          14.583333,
          12.904762,
          24.333333,
          17.083333,
          33.791667,
          15.26087
         ],
         "yaxis": "y"
        },
        {
         "hovertemplate": "County=Humboldt<br>Date_Local=%{x}<br>NO2_Mean=%{y}<extra></extra>",
         "legendgroup": "Humboldt",
         "marker": {
          "color": "#DA16FF",
          "opacity": 0.7,
          "symbol": "circle"
         },
         "mode": "markers",
         "name": "Humboldt",
         "orientation": "v",
         "showlegend": true,
         "type": "scatter",
         "x": [
          "2007-09-29T00:00:00",
          "2012-03-05T00:00:00",
          "2014-02-08T00:00:00",
          "2011-12-27T00:00:00",
          "2016-01-28T00:00:00",
          "2010-09-09T00:00:00",
          "2007-11-03T00:00:00",
          "2015-12-02T00:00:00",
          "2013-05-30T00:00:00",
          "2015-07-31T00:00:00"
         ],
         "xaxis": "x",
         "y": [
          3.619048,
          0.833333,
          1.890909,
          0.529167,
          3.465217,
          2.628571,
          7.142857,
          0.285,
          0.629167,
          1.55
         ],
         "yaxis": "y"
        },
        {
         "hovertemplate": "County=Washington<br>Date_Local=%{x}<br>NO2_Mean=%{y}<extra></extra>",
         "legendgroup": "Washington",
         "marker": {
          "color": "#222A2A",
          "opacity": 0.7,
          "symbol": "circle"
         },
         "mode": "markers",
         "name": "Washington",
         "orientation": "v",
         "showlegend": true,
         "type": "scatter",
         "x": [
          "2011-04-29T00:00:00",
          "2003-08-24T00:00:00",
          "2000-10-21T00:00:00",
          "2013-11-24T00:00:00",
          "2015-12-29T00:00:00",
          "2011-12-22T00:00:00",
          "2002-04-02T00:00:00",
          "2002-09-08T00:00:00",
          "2014-05-28T00:00:00",
          "2015-12-09T00:00:00"
         ],
         "xaxis": "x",
         "y": [
          2.958333,
          11.916667,
          16.375,
          1.458333,
          8.916667,
          12.333333,
          20.75,
          22.791667,
          6.666667,
          11.916667
         ],
         "yaxis": "y"
        },
        {
         "hovertemplate": "County=Santa Barbara<br>Date_Local=%{x}<br>NO2_Mean=%{y}<extra></extra>",
         "legendgroup": "Santa Barbara",
         "marker": {
          "color": "#B68100",
          "opacity": 0.7,
          "symbol": "circle"
         },
         "mode": "markers",
         "name": "Santa Barbara",
         "orientation": "v",
         "showlegend": true,
         "type": "scatter",
         "x": [
          "2013-07-24T00:00:00",
          "2010-09-01T00:00:00",
          "2004-04-01T00:00:00",
          "2012-10-01T00:00:00",
          "2002-04-19T00:00:00",
          "2011-12-21T00:00:00",
          "2015-06-22T00:00:00",
          "2007-06-05T00:00:00",
          "2005-02-16T00:00:00",
          "2005-08-28T00:00:00",
          "2008-04-04T00:00:00",
          "2003-06-27T00:00:00",
          "2005-09-16T00:00:00",
          "2000-08-20T00:00:00",
          "2007-05-31T00:00:00",
          "2013-06-14T00:00:00",
          "2001-06-11T00:00:00",
          "2004-06-22T00:00:00",
          "2003-10-18T00:00:00",
          "2010-06-23T00:00:00",
          "2008-05-11T00:00:00",
          "2003-05-16T00:00:00",
          "2015-05-06T00:00:00",
          "2012-06-04T00:00:00",
          "2015-04-05T00:00:00",
          "2004-04-08T00:00:00",
          "2009-08-13T00:00:00",
          "2012-04-05T00:00:00",
          "2012-02-09T00:00:00",
          "2003-07-02T00:00:00",
          "2004-10-16T00:00:00",
          "2002-05-21T00:00:00",
          "2009-02-20T00:00:00",
          "2004-04-17T00:00:00",
          "2015-08-26T00:00:00",
          "2000-01-25T00:00:00",
          "2009-01-25T00:00:00"
         ],
         "xaxis": "x",
         "y": [
          3.521739,
          5.173913,
          2.25,
          1.285714,
          5.73913,
          7.956522,
          0.714286,
          5.173913,
          10.869565,
          5.285714,
          1,
          6.26087,
          4.391304,
          0,
          5.913043,
          0.043478,
          3.043478,
          6.73913,
          13.428571,
          0.391304,
          1,
          0.1,
          0,
          1,
          0.086957,
          2.608696,
          0.869565,
          0.954545,
          8.391304,
          0.090909,
          2.380952,
          4.086957,
          1.608696,
          0.904762,
          1.478261,
          6.608696,
          2.521739
         ],
         "yaxis": "y"
        },
        {
         "hovertemplate": "County=Henrico<br>Date_Local=%{x}<br>NO2_Mean=%{y}<extra></extra>",
         "legendgroup": "Henrico",
         "marker": {
          "color": "#750D86",
          "opacity": 0.7,
          "symbol": "circle"
         },
         "mode": "markers",
         "name": "Henrico",
         "orientation": "v",
         "showlegend": true,
         "type": "scatter",
         "x": [
          "2011-10-14T00:00:00",
          "2012-04-28T00:00:00"
         ],
         "xaxis": "x",
         "y": [
          8.921739,
          5.15
         ],
         "yaxis": "y"
        },
        {
         "hovertemplate": "County=Steuben<br>Date_Local=%{x}<br>NO2_Mean=%{y}<extra></extra>",
         "legendgroup": "Steuben",
         "marker": {
          "color": "#EB663B",
          "opacity": 0.7,
          "symbol": "circle"
         },
         "mode": "markers",
         "name": "Steuben",
         "orientation": "v",
         "showlegend": true,
         "type": "scatter",
         "x": [
          "2011-05-08T00:00:00"
         ],
         "xaxis": "x",
         "y": [
          1.3375
         ],
         "yaxis": "y"
        },
        {
         "hovertemplate": "County=Contra Costa<br>Date_Local=%{x}<br>NO2_Mean=%{y}<extra></extra>",
         "legendgroup": "Contra Costa",
         "marker": {
          "color": "#511CFB",
          "opacity": 0.7,
          "symbol": "circle"
         },
         "mode": "markers",
         "name": "Contra Costa",
         "orientation": "v",
         "showlegend": true,
         "type": "scatter",
         "x": [
          "2000-06-30T00:00:00",
          "2012-03-11T00:00:00",
          "2003-04-16T00:00:00",
          "2012-12-14T00:00:00",
          "2005-02-13T00:00:00",
          "2014-02-12T00:00:00",
          "2007-05-16T00:00:00",
          "2003-04-27T00:00:00",
          "2007-03-25T00:00:00",
          "2015-12-15T00:00:00",
          "2011-08-20T00:00:00",
          "2000-06-09T00:00:00",
          "2016-01-29T00:00:00",
          "2012-01-23T00:00:00",
          "2010-01-22T00:00:00",
          "2006-11-13T00:00:00",
          "2013-11-14T00:00:00",
          "2013-04-18T00:00:00",
          "2003-10-30T00:00:00",
          "2008-07-21T00:00:00",
          "2000-02-22T00:00:00",
          "2011-11-16T00:00:00",
          "2000-01-19T00:00:00",
          "2005-01-14T00:00:00",
          "2000-11-05T00:00:00",
          "2007-01-28T00:00:00",
          "2005-12-25T00:00:00",
          "2007-01-03T00:00:00",
          "2006-08-28T00:00:00",
          "2004-09-17T00:00:00",
          "2003-09-15T00:00:00",
          "2006-09-01T00:00:00",
          "2008-04-20T00:00:00",
          "2002-06-01T00:00:00",
          "2008-09-21T00:00:00",
          "2008-11-29T00:00:00",
          "2013-02-11T00:00:00",
          "2014-02-14T00:00:00",
          "2005-01-09T00:00:00",
          "2004-05-18T00:00:00",
          "2013-10-26T00:00:00",
          "2003-02-26T00:00:00",
          "2010-08-30T00:00:00",
          "2006-08-10T00:00:00",
          "2010-10-20T00:00:00",
          "2002-02-19T00:00:00",
          "2012-08-27T00:00:00",
          "2004-05-14T00:00:00",
          "2002-10-13T00:00:00",
          "2007-05-13T00:00:00",
          "2008-09-11T00:00:00",
          "2008-04-18T00:00:00",
          "2008-02-18T00:00:00",
          "2003-07-11T00:00:00",
          "2009-09-02T00:00:00",
          "2006-03-25T00:00:00",
          "2007-12-10T00:00:00",
          "2002-03-16T00:00:00"
         ],
         "xaxis": "x",
         "y": [
          7.826087,
          5.865217,
          8.956522,
          18.469565,
          12.913043,
          9.730435,
          6.347826,
          9.913043,
          2.347826,
          11.513043,
          4.104348,
          5.565217,
          6.965217,
          9.945833,
          12.478261,
          9.722222,
          13.458824,
          4.495652,
          5.869565,
          4.043478,
          10.26087,
          12.578261,
          13.217391,
          16.347826,
          13.043478,
          17.347826,
          12.608696,
          23.304348,
          6.521739,
          7,
          8.347826,
          9.521739,
          3.652174,
          6.652174,
          3.826087,
          15.26087,
          18.009091,
          8.53913,
          15.565217,
          5.304348,
          10.526087,
          14.130435,
          5.090909,
          14.136364,
          12.978261,
          12.869565,
          10.6,
          8.521739,
          17.478261,
          5.434783,
          6.956522,
          8.73913,
          10.391304,
          11.26087,
          11.086957,
          4.434783,
          9.636364,
          5.347826
         ],
         "yaxis": "y"
        },
        {
         "hovertemplate": "County=Los Angeles<br>Date_Local=%{x}<br>NO2_Mean=%{y}<extra></extra>",
         "legendgroup": "Los Angeles",
         "marker": {
          "color": "#00A08B",
          "opacity": 0.7,
          "symbol": "circle"
         },
         "mode": "markers",
         "name": "Los Angeles",
         "orientation": "v",
         "showlegend": true,
         "type": "scatter",
         "x": [
          "2004-10-24T00:00:00",
          "2012-07-29T00:00:00",
          "2014-05-16T00:00:00",
          "2012-09-10T00:00:00",
          "2001-06-26T00:00:00",
          "2010-05-01T00:00:00",
          "2013-09-10T00:00:00",
          "2013-12-04T00:00:00",
          "2001-03-10T00:00:00",
          "2000-08-30T00:00:00",
          "2003-09-24T00:00:00",
          "2012-01-03T00:00:00",
          "2009-03-12T00:00:00",
          "2011-08-30T00:00:00",
          "2014-01-05T00:00:00",
          "2003-04-06T00:00:00",
          "2004-09-20T00:00:00",
          "2011-03-03T00:00:00",
          "2015-06-01T00:00:00",
          "2006-03-13T00:00:00",
          "2011-11-04T00:00:00",
          "2000-07-26T00:00:00",
          "2004-02-11T00:00:00",
          "2003-12-07T00:00:00",
          "2011-10-18T00:00:00",
          "2011-01-04T00:00:00",
          "2010-05-07T00:00:00",
          "2006-12-16T00:00:00",
          "2013-12-17T00:00:00",
          "2004-06-09T00:00:00",
          "2013-07-04T00:00:00",
          "2003-03-06T00:00:00",
          "2010-01-04T00:00:00",
          "2004-02-14T00:00:00",
          "2004-11-09T00:00:00",
          "2010-07-14T00:00:00",
          "2007-10-06T00:00:00",
          "2003-07-29T00:00:00",
          "2009-01-19T00:00:00",
          "2004-01-06T00:00:00",
          "2003-04-17T00:00:00",
          "2005-12-03T00:00:00",
          "2012-12-08T00:00:00",
          "2009-12-09T00:00:00",
          "2001-10-19T00:00:00",
          "2000-10-09T00:00:00",
          "2003-05-13T00:00:00",
          "2007-05-17T00:00:00",
          "2014-05-05T00:00:00",
          "2003-03-20T00:00:00",
          "2015-04-12T00:00:00",
          "2003-11-22T00:00:00",
          "2010-02-20T00:00:00",
          "2006-12-07T00:00:00",
          "2003-03-22T00:00:00",
          "2015-12-24T00:00:00",
          "2003-07-23T00:00:00"
         ],
         "xaxis": "x",
         "y": [
          18.086957,
          18.452174,
          20.056522,
          21.136364,
          15.130435,
          10.169565,
          15.131818,
          23.436364,
          23.363636,
          19.043478,
          28.166667,
          25.4,
          2.956522,
          22.245833,
          32.978261,
          20.26087,
          22.695652,
          18.677273,
          13.521739,
          25.521739,
          11.426087,
          41.869565,
          45.869565,
          20.434783,
          25.772727,
          22.468182,
          24.238095,
          10.695652,
          22.657143,
          15,
          11.008333,
          32.565217,
          39.782609,
          51.608696,
          14.26087,
          34.373913,
          23.956522,
          23.608696,
          37.652174,
          42.636364,
          19.391304,
          28.043478,
          30.386364,
          32.391304,
          60.304348,
          15.73913,
          30.26087,
          22.434783,
          4.919048,
          24.956522,
          7.227273,
          28.434783,
          12.555556,
          49.26087,
          44.521739,
          19.4,
          32.086957
         ],
         "yaxis": "y"
        },
        {
         "hovertemplate": "County=Jackson<br>Date_Local=%{x}<br>NO2_Mean=%{y}<extra></extra>",
         "legendgroup": "Jackson",
         "marker": {
          "color": "#FB00D1",
          "opacity": 0.7,
          "symbol": "circle"
         },
         "mode": "markers",
         "name": "Jackson",
         "orientation": "v",
         "showlegend": true,
         "type": "scatter",
         "x": [
          "2014-01-07T00:00:00"
         ],
         "xaxis": "x",
         "y": [
          2.238095
         ],
         "yaxis": "y"
        },
        {
         "hovertemplate": "County=Multnomah<br>Date_Local=%{x}<br>NO2_Mean=%{y}<extra></extra>",
         "legendgroup": "Multnomah",
         "marker": {
          "color": "#FC0080",
          "opacity": 0.7,
          "symbol": "circle"
         },
         "mode": "markers",
         "name": "Multnomah",
         "orientation": "v",
         "showlegend": true,
         "type": "scatter",
         "x": [
          "2009-05-15T00:00:00",
          "2013-09-23T00:00:00",
          "2009-06-07T00:00:00",
          "2011-05-10T00:00:00",
          "2009-07-15T00:00:00",
          "2015-04-27T00:00:00",
          "2009-05-21T00:00:00"
         ],
         "xaxis": "x",
         "y": [
          13.26087,
          6.004167,
          3.041667,
          12.6375,
          9.541667,
          6.920833,
          7
         ],
         "yaxis": "y"
        },
        {
         "hovertemplate": "County=DeKalb<br>Date_Local=%{x}<br>NO2_Mean=%{y}<extra></extra>",
         "legendgroup": "DeKalb",
         "marker": {
          "color": "#B2828D",
          "opacity": 0.7,
          "symbol": "circle"
         },
         "mode": "markers",
         "name": "DeKalb",
         "orientation": "v",
         "showlegend": true,
         "type": "scatter",
         "x": [
          "2015-08-02T00:00:00",
          "2011-01-23T00:00:00",
          "2011-09-11T00:00:00",
          "2014-04-11T00:00:00",
          "2011-07-02T00:00:00"
         ],
         "xaxis": "x",
         "y": [
          7.029167,
          26.291667,
          17.920833,
          21.3875,
          13.357143
         ],
         "yaxis": "y"
        },
        {
         "hovertemplate": "County=Denver<br>Date_Local=%{x}<br>NO2_Mean=%{y}<extra></extra>",
         "legendgroup": "Denver",
         "marker": {
          "color": "#6C7C32",
          "opacity": 0.7,
          "symbol": "circle"
         },
         "mode": "markers",
         "name": "Denver",
         "orientation": "v",
         "showlegend": true,
         "type": "scatter",
         "x": [
          "2015-09-01T00:00:00",
          "2014-02-24T00:00:00",
          "2014-10-08T00:00:00",
          "2014-12-24T00:00:00",
          "2016-02-12T00:00:00",
          "2014-11-16T00:00:00",
          "2007-06-23T00:00:00",
          "2012-04-22T00:00:00",
          "2006-01-05T00:00:00",
          "2014-03-02T00:00:00"
         ],
         "xaxis": "x",
         "y": [
          13.913636,
          21.004348,
          29.447826,
          31.130435,
          30.2875,
          28.13913,
          24.652174,
          14.608696,
          39.391304,
          20.373913
         ],
         "yaxis": "y"
        },
        {
         "hovertemplate": "County=Camden<br>Date_Local=%{x}<br>NO2_Mean=%{y}<extra></extra>",
         "legendgroup": "Camden",
         "marker": {
          "color": "#778AAE",
          "opacity": 0.7,
          "symbol": "circle"
         },
         "mode": "markers",
         "name": "Camden",
         "orientation": "v",
         "showlegend": true,
         "type": "scatter",
         "x": [
          "2014-10-23T00:00:00",
          "2006-04-11T00:00:00",
          "2007-02-26T00:00:00",
          "2002-10-28T00:00:00",
          "2001-03-13T00:00:00",
          "2015-06-01T00:00:00",
          "2014-12-02T00:00:00",
          "2002-10-16T00:00:00",
          "2008-09-13T00:00:00",
          "2007-08-13T00:00:00",
          "2000-01-07T00:00:00",
          "2012-12-06T00:00:00"
         ],
         "xaxis": "x",
         "y": [
          6.47619,
          20.666667,
          33.916667,
          25,
          43,
          8.291667,
          19.375,
          16,
          13.291667,
          11.541667,
          19.454545,
          16.208333
         ],
         "yaxis": "y"
        },
        {
         "hovertemplate": "County=Northampton<br>Date_Local=%{x}<br>NO2_Mean=%{y}<extra></extra>",
         "legendgroup": "Northampton",
         "marker": {
          "color": "#862A16",
          "opacity": 0.7,
          "symbol": "circle"
         },
         "mode": "markers",
         "name": "Northampton",
         "orientation": "v",
         "showlegend": true,
         "type": "scatter",
         "x": [
          "2000-05-09T00:00:00",
          "2002-07-15T00:00:00",
          "2007-09-24T00:00:00",
          "2005-09-18T00:00:00",
          "2005-07-30T00:00:00"
         ],
         "xaxis": "x",
         "y": [
          18.541667,
          13.541667,
          18.625,
          10.541667,
          7.666667
         ],
         "yaxis": "y"
        },
        {
         "hovertemplate": "County=Cook<br>Date_Local=%{x}<br>NO2_Mean=%{y}<extra></extra>",
         "legendgroup": "Cook",
         "marker": {
          "color": "#A777F1",
          "opacity": 0.7,
          "symbol": "circle"
         },
         "mode": "markers",
         "name": "Cook",
         "orientation": "v",
         "showlegend": true,
         "type": "scatter",
         "x": [
          "2007-07-27T00:00:00",
          "2000-10-23T00:00:00",
          "2011-09-28T00:00:00",
          "2011-08-01T00:00:00",
          "2003-05-31T00:00:00",
          "2004-07-06T00:00:00",
          "2001-07-09T00:00:00",
          "2008-05-27T00:00:00",
          "2009-05-05T00:00:00",
          "2005-07-16T00:00:00",
          "2009-04-25T00:00:00"
         ],
         "xaxis": "x",
         "y": [
          8.090909,
          40,
          20.041667,
          17.416667,
          20.25,
          18.208333,
          36.458333,
          4,
          18.954545,
          17.833333,
          2.958333
         ],
         "yaxis": "y"
        },
        {
         "hovertemplate": "County=Adams<br>Date_Local=%{x}<br>NO2_Mean=%{y}<extra></extra>",
         "legendgroup": "Adams",
         "marker": {
          "color": "#620042",
          "opacity": 0.7,
          "symbol": "circle"
         },
         "mode": "markers",
         "name": "Adams",
         "orientation": "v",
         "showlegend": true,
         "type": "scatter",
         "x": [
          "2000-06-12T00:00:00",
          "2009-05-05T00:00:00",
          "2014-08-29T00:00:00",
          "2000-07-08T00:00:00",
          "2009-06-21T00:00:00",
          "2007-11-26T00:00:00",
          "2008-01-30T00:00:00",
          "2008-04-11T00:00:00",
          "2005-06-11T00:00:00",
          "2006-09-05T00:00:00",
          "2006-03-29T00:00:00",
          "2000-04-25T00:00:00",
          "2011-11-18T00:00:00",
          "2003-01-20T00:00:00"
         ],
         "xaxis": "x",
         "y": [
          17,
          9.130435,
          22.043478,
          22.478261,
          3,
          31.695652,
          23,
          3.608696,
          13.565217,
          22.565217,
          23.391304,
          4.043478,
          28.521739,
          33.652174
         ],
         "yaxis": "y"
        },
        {
         "hovertemplate": "County=Pulaski<br>Date_Local=%{x}<br>NO2_Mean=%{y}<extra></extra>",
         "legendgroup": "Pulaski",
         "marker": {
          "color": "#1616A7",
          "opacity": 0.7,
          "symbol": "circle"
         },
         "mode": "markers",
         "name": "Pulaski",
         "orientation": "v",
         "showlegend": true,
         "type": "scatter",
         "x": [
          "2011-09-05T00:00:00",
          "2011-01-07T00:00:00",
          "2014-04-08T00:00:00",
          "2010-05-28T00:00:00",
          "2013-09-26T00:00:00",
          "2012-01-04T00:00:00",
          "2011-02-10T00:00:00",
          "2010-05-31T00:00:00",
          "2013-12-12T00:00:00",
          "2010-05-14T00:00:00",
          "2015-05-01T00:00:00",
          "2015-10-01T00:00:00",
          "2014-05-02T00:00:00",
          "2010-05-25T00:00:00",
          "2012-02-20T00:00:00",
          "2008-03-31T00:00:00",
          "2012-07-28T00:00:00",
          "2011-07-08T00:00:00",
          "2012-04-15T00:00:00",
          "2011-12-10T00:00:00",
          "2010-01-09T00:00:00",
          "2011-09-13T00:00:00",
          "2011-11-14T00:00:00",
          "2008-08-14T00:00:00",
          "2013-10-09T00:00:00"
         ],
         "xaxis": "x",
         "y": [
          4.141667,
          8.2125,
          6.375,
          7.916667,
          12.133333,
          17.1375,
          10.65,
          11.375,
          19.358333,
          7.75,
          13.158333,
          4.829167,
          13.658333,
          13.291667,
          16.545833,
          4.666667,
          7.620833,
          8.041667,
          3.45,
          13.883333,
          5.875,
          21.595833,
          5.256522,
          7.875,
          12.216667
         ],
         "yaxis": "y"
        },
        {
         "hovertemplate": "County=San Diego<br>Date_Local=%{x}<br>NO2_Mean=%{y}<extra></extra>",
         "legendgroup": "San Diego",
         "marker": {
          "color": "#DA60CA",
          "opacity": 0.7,
          "symbol": "circle"
         },
         "mode": "markers",
         "name": "San Diego",
         "orientation": "v",
         "showlegend": true,
         "type": "scatter",
         "x": [
          "2008-10-27T00:00:00",
          "2000-04-15T00:00:00",
          "2006-07-16T00:00:00",
          "2004-07-20T00:00:00",
          "2009-03-12T00:00:00",
          "2000-11-18T00:00:00",
          "2002-12-18T00:00:00",
          "2000-08-22T00:00:00",
          "2007-07-25T00:00:00",
          "2006-05-09T00:00:00",
          "2002-03-21T00:00:00",
          "2003-05-02T00:00:00",
          "2008-10-27T00:00:00",
          "2001-01-18T00:00:00",
          "2000-12-13T00:00:00",
          "2005-09-06T00:00:00",
          "2005-04-28T00:00:00",
          "2009-06-04T00:00:00",
          "2002-01-08T00:00:00",
          "2000-03-01T00:00:00",
          "2009-08-21T00:00:00",
          "2002-03-25T00:00:00",
          "2000-06-07T00:00:00",
          "2012-05-02T00:00:00",
          "2013-03-18T00:00:00",
          "2002-01-25T00:00:00",
          "2006-02-07T00:00:00",
          "2006-11-01T00:00:00",
          "2004-07-16T00:00:00"
         ],
         "xaxis": "x",
         "y": [
          48.73913,
          9.652174,
          5.130435,
          13.217391,
          14,
          29.086957,
          21.652174,
          9.727273,
          16.5,
          15.333333,
          51.227273,
          7.869565,
          48.73913,
          33.043478,
          17.363636,
          21.333333,
          12.391304,
          4.956522,
          39.869565,
          39,
          23.608696,
          13.73913,
          14.608696,
          3.875,
          8.130435,
          33.695652,
          31.782609,
          33.434783,
          22.130435
         ],
         "yaxis": "y"
        },
        {
         "hovertemplate": "County=Sacramento<br>Date_Local=%{x}<br>NO2_Mean=%{y}<extra></extra>",
         "legendgroup": "Sacramento",
         "marker": {
          "color": "#6C4516",
          "opacity": 0.7,
          "symbol": "circle"
         },
         "mode": "markers",
         "name": "Sacramento",
         "orientation": "v",
         "showlegend": true,
         "type": "scatter",
         "x": [
          "2012-12-23T00:00:00",
          "2000-05-30T00:00:00",
          "2011-01-21T00:00:00",
          "2005-03-28T00:00:00",
          "2006-03-13T00:00:00",
          "2004-02-14T00:00:00",
          "2008-07-23T00:00:00",
          "2004-09-20T00:00:00",
          "2009-04-11T00:00:00",
          "2002-05-27T00:00:00",
          "2014-03-02T00:00:00",
          "2013-06-12T00:00:00",
          "2005-08-05T00:00:00",
          "2011-12-21T00:00:00",
          "2013-12-28T00:00:00",
          "2005-11-29T00:00:00",
          "2010-09-20T00:00:00",
          "2002-02-04T00:00:00",
          "2005-12-10T00:00:00"
         ],
         "xaxis": "x",
         "y": [
          1.708333,
          13.391304,
          19.3,
          4.608696,
          5.782609,
          17.130435,
          9.565217,
          10.608696,
          5.956522,
          4.913043,
          3.090909,
          2.636364,
          12.833333,
          13.375,
          10.5,
          8.565217,
          6.695652,
          27.26087,
          18.478261
         ],
         "yaxis": "y"
        },
        {
         "hovertemplate": "County=Solano<br>Date_Local=%{x}<br>NO2_Mean=%{y}<extra></extra>",
         "legendgroup": "Solano",
         "marker": {
          "color": "#0D2A63",
          "opacity": 0.7,
          "symbol": "circle"
         },
         "mode": "markers",
         "name": "Solano",
         "orientation": "v",
         "showlegend": true,
         "type": "scatter",
         "x": [
          "2014-04-25T00:00:00",
          "2016-01-26T00:00:00",
          "2001-01-28T00:00:00",
          "2006-05-27T00:00:00",
          "2002-11-27T00:00:00",
          "2007-03-01T00:00:00",
          "2008-11-17T00:00:00",
          "2015-06-22T00:00:00",
          "2001-03-02T00:00:00",
          "2003-10-16T00:00:00",
          "2000-02-19T00:00:00"
         ],
         "xaxis": "x",
         "y": [
          3.891304,
          14.030435,
          22.043478,
          2.695652,
          30.26087,
          15.652174,
          15.347826,
          3.731818,
          22.954545,
          14.913043,
          14.869565
         ],
         "yaxis": "y"
        },
        {
         "hovertemplate": "County=Suffolk<br>Date_Local=%{x}<br>NO2_Mean=%{y}<extra></extra>",
         "legendgroup": "Suffolk",
         "marker": {
          "color": "#AF0038",
          "opacity": 0.7,
          "symbol": "circle"
         },
         "mode": "markers",
         "name": "Suffolk",
         "orientation": "v",
         "showlegend": true,
         "type": "scatter",
         "x": [
          "2011-04-26T00:00:00",
          "2008-06-09T00:00:00",
          "2010-01-05T00:00:00",
          "2009-04-30T00:00:00",
          "2005-01-02T00:00:00",
          "2007-01-26T00:00:00",
          "2004-08-05T00:00:00",
          "2008-11-23T00:00:00",
          "2001-08-01T00:00:00",
          "2000-06-22T00:00:00",
          "2009-05-23T00:00:00",
          "2002-05-13T00:00:00",
          "2009-06-12T00:00:00",
          "2009-04-24T00:00:00",
          "2015-11-10T00:00:00",
          "2012-10-13T00:00:00",
          "2001-12-13T00:00:00"
         ],
         "xaxis": "x",
         "y": [
          21.105263,
          25.833333,
          26.9,
          7.833333,
          12.583333,
          16.333333,
          16.083333,
          13.708333,
          28.833333,
          17.125,
          9.833333,
          11.136364,
          9.227273,
          8.869565,
          28.272727,
          16.833333,
          21.375
         ],
         "yaxis": "y"
        },
        {
         "hovertemplate": "County=Saint Clair<br>Date_Local=%{x}<br>NO2_Mean=%{y}<extra></extra>",
         "legendgroup": "Saint Clair",
         "marker": {
          "color": "#2E91E5",
          "opacity": 0.7,
          "symbol": "circle"
         },
         "mode": "markers",
         "name": "Saint Clair",
         "orientation": "v",
         "showlegend": true,
         "type": "scatter",
         "x": [
          "2003-02-22T00:00:00",
          "2001-07-02T00:00:00",
          "2008-02-24T00:00:00",
          "2014-01-02T00:00:00",
          "2009-04-16T00:00:00",
          "2012-11-30T00:00:00",
          "2013-10-13T00:00:00",
          "2015-06-01T00:00:00",
          "2010-11-26T00:00:00",
          "2012-11-05T00:00:00",
          "2012-05-10T00:00:00",
          "2013-12-02T00:00:00",
          "2012-01-14T00:00:00",
          "2010-12-31T00:00:00"
         ],
         "xaxis": "x",
         "y": [
          14.25,
          16.541667,
          17.916667,
          8.791667,
          18.136364,
          23.5,
          13.041667,
          3.958333,
          11.375,
          10.958333,
          12.166667,
          22.291667,
          23.833333,
          12.541667
         ],
         "yaxis": "y"
        },
        {
         "hovertemplate": "County=Harris<br>Date_Local=%{x}<br>NO2_Mean=%{y}<extra></extra>",
         "legendgroup": "Harris",
         "marker": {
          "color": "#E15F99",
          "opacity": 0.7,
          "symbol": "circle"
         },
         "mode": "markers",
         "name": "Harris",
         "orientation": "v",
         "showlegend": true,
         "type": "scatter",
         "x": [
          "2015-08-07T00:00:00",
          "2009-02-17T00:00:00",
          "2014-06-14T00:00:00",
          "2004-05-16T00:00:00",
          "2008-05-29T00:00:00",
          "2012-12-22T00:00:00",
          "2007-06-29T00:00:00",
          "2014-07-30T00:00:00",
          "2013-06-25T00:00:00",
          "2010-09-22T00:00:00",
          "2014-11-28T00:00:00",
          "2012-07-28T00:00:00",
          "2001-08-06T00:00:00",
          "2013-04-05T00:00:00",
          "2008-04-21T00:00:00",
          "2007-08-08T00:00:00",
          "2015-05-23T00:00:00",
          "2013-02-17T00:00:00",
          "2008-03-30T00:00:00",
          "2013-04-25T00:00:00",
          "2006-07-27T00:00:00",
          "2013-07-12T00:00:00"
         ],
         "xaxis": "x",
         "y": [
          9.595833,
          2.541667,
          4.854167,
          6.681818,
          12.458333,
          15.025,
          8.416667,
          11.933333,
          4.7,
          12.295833,
          14.308333,
          3.241667,
          26.083333,
          18.070833,
          5.181818,
          5.166667,
          6.395833,
          13.555,
          2.541667,
          8.279167,
          13.708333,
          4.695833
         ],
         "yaxis": "y"
        },
        {
         "hovertemplate": "County=Philadelphia<br>Date_Local=%{x}<br>NO2_Mean=%{y}<extra></extra>",
         "legendgroup": "Philadelphia",
         "marker": {
          "color": "#1CA71C",
          "opacity": 0.7,
          "symbol": "circle"
         },
         "mode": "markers",
         "name": "Philadelphia",
         "orientation": "v",
         "showlegend": true,
         "type": "scatter",
         "x": [
          "2001-07-28T00:00:00",
          "2004-12-24T00:00:00",
          "2011-12-22T00:00:00",
          "2007-01-07T00:00:00",
          "2003-07-02T00:00:00",
          "2003-02-18T00:00:00",
          "2002-08-12T00:00:00",
          "2006-10-10T00:00:00",
          "2007-11-02T00:00:00",
          "2002-08-12T00:00:00",
          "2002-10-29T00:00:00",
          "2011-06-12T00:00:00"
         ],
         "xaxis": "x",
         "y": [
          22.125,
          19.666667,
          23.066667,
          10.208333,
          27.208333,
          29.791667,
          31.333333,
          30,
          19.291667,
          31.333333,
          24.208333,
          11.543478
         ],
         "yaxis": "y"
        },
        {
         "hovertemplate": "County=Cuyahoga<br>Date_Local=%{x}<br>NO2_Mean=%{y}<extra></extra>",
         "legendgroup": "Cuyahoga",
         "marker": {
          "color": "#FB0D0D",
          "opacity": 0.7,
          "symbol": "circle"
         },
         "mode": "markers",
         "name": "Cuyahoga",
         "orientation": "v",
         "showlegend": true,
         "type": "scatter",
         "x": [
          "2013-04-27T00:00:00",
          "2016-04-20T00:00:00",
          "2012-01-05T00:00:00",
          "2014-09-07T00:00:00",
          "2012-05-09T00:00:00",
          "2011-02-17T00:00:00",
          "2014-05-11T00:00:00",
          "2015-06-16T00:00:00",
          "2011-09-02T00:00:00",
          "2015-12-31T00:00:00",
          "2014-09-07T00:00:00",
          "2015-08-31T00:00:00"
         ],
         "xaxis": "x",
         "y": [
          24.434783,
          24.478261,
          14.086957,
          6.782609,
          15,
          12.826087,
          7.521739,
          10.2,
          24,
          6,
          6.782609,
          17.826087
         ],
         "yaxis": "y"
        },
        {
         "hovertemplate": "County=Westmoreland<br>Date_Local=%{x}<br>NO2_Mean=%{y}<extra></extra>",
         "legendgroup": "Westmoreland",
         "marker": {
          "color": "#DA16FF",
          "opacity": 0.7,
          "symbol": "circle"
         },
         "mode": "markers",
         "name": "Westmoreland",
         "orientation": "v",
         "showlegend": true,
         "type": "scatter",
         "x": [
          "2008-05-04T00:00:00",
          "2001-07-27T00:00:00",
          "2001-05-18T00:00:00",
          "2005-08-12T00:00:00",
          "2001-07-11T00:00:00",
          "2006-08-16T00:00:00",
          "2001-08-11T00:00:00",
          "2000-04-03T00:00:00"
         ],
         "xaxis": "x",
         "y": [
          5.166667,
          9.375,
          18.916667,
          15.666667,
          8.583333,
          10.083333,
          10.541667,
          13.916667
         ],
         "yaxis": "y"
        },
        {
         "hovertemplate": "County=Aroostook<br>Date_Local=%{x}<br>NO2_Mean=%{y}<extra></extra>",
         "legendgroup": "Aroostook",
         "marker": {
          "color": "#222A2A",
          "opacity": 0.7,
          "symbol": "circle"
         },
         "mode": "markers",
         "name": "Aroostook",
         "orientation": "v",
         "showlegend": true,
         "type": "scatter",
         "x": [
          "2011-11-01T00:00:00",
          "2008-07-03T00:00:00",
          "2014-11-25T00:00:00",
          "2015-11-09T00:00:00",
          "2008-01-08T00:00:00",
          "2012-09-01T00:00:00",
          "2008-03-24T00:00:00",
          "2010-03-11T00:00:00",
          "2014-11-17T00:00:00",
          "2014-02-15T00:00:00",
          "2014-05-25T00:00:00",
          "2011-06-12T00:00:00",
          "2009-08-25T00:00:00"
         ],
         "xaxis": "x",
         "y": [
          4.488235,
          1.808333,
          0.82,
          1.05,
          11.229167,
          -0.504167,
          6.421053,
          5.008333,
          3.65,
          2.9625,
          0.858333,
          0.995833,
          1.111111
         ],
         "yaxis": "y"
        },
        {
         "hovertemplate": "County=District of Columbia<br>Date_Local=%{x}<br>NO2_Mean=%{y}<extra></extra>",
         "legendgroup": "District of Columbia",
         "marker": {
          "color": "#B68100",
          "opacity": 0.7,
          "symbol": "circle"
         },
         "mode": "markers",
         "name": "District of Columbia",
         "orientation": "v",
         "showlegend": true,
         "type": "scatter",
         "x": [
          "2008-03-10T00:00:00",
          "2009-09-01T00:00:00",
          "2014-03-24T00:00:00",
          "2015-05-15T00:00:00",
          "2015-10-30T00:00:00",
          "2011-03-21T00:00:00",
          "2007-05-11T00:00:00",
          "2014-01-02T00:00:00",
          "2010-02-24T00:00:00",
          "2008-03-18T00:00:00",
          "2013-07-24T00:00:00",
          "2008-10-20T00:00:00",
          "2011-11-21T00:00:00",
          "2011-12-28T00:00:00",
          "2003-04-04T00:00:00",
          "2002-02-15T00:00:00",
          "2004-09-19T00:00:00"
         ],
         "xaxis": "x",
         "y": [
          24.625,
          21.416667,
          8.5375,
          8.1625,
          11.008333,
          12.333333,
          14.583333,
          23.1125,
          21.125,
          19.869565,
          8.125,
          29,
          34,
          9.083333,
          22.583333,
          24.166667,
          10.791667
         ],
         "yaxis": "y"
        },
        {
         "hovertemplate": "County=Litchfield<br>Date_Local=%{x}<br>NO2_Mean=%{y}<extra></extra>",
         "legendgroup": "Litchfield",
         "marker": {
          "color": "#750D86",
          "opacity": 0.7,
          "symbol": "circle"
         },
         "mode": "markers",
         "name": "Litchfield",
         "orientation": "v",
         "showlegend": true,
         "type": "scatter",
         "x": [
          "2011-12-26T00:00:00",
          "2015-08-11T00:00:00",
          "2012-11-13T00:00:00",
          "2014-09-16T00:00:00",
          "2010-12-25T00:00:00"
         ],
         "xaxis": "x",
         "y": [
          0.833333,
          1.404167,
          0.826087,
          1.956522,
          1.041667
         ],
         "yaxis": "y"
        },
        {
         "hovertemplate": "County=Lackawanna<br>Date_Local=%{x}<br>NO2_Mean=%{y}<extra></extra>",
         "legendgroup": "Lackawanna",
         "marker": {
          "color": "#EB663B",
          "opacity": 0.7,
          "symbol": "circle"
         },
         "mode": "markers",
         "name": "Lackawanna",
         "orientation": "v",
         "showlegend": true,
         "type": "scatter",
         "x": [
          "2008-04-23T00:00:00",
          "2002-05-28T00:00:00",
          "2005-09-05T00:00:00",
          "2001-05-10T00:00:00",
          "2007-06-04T00:00:00"
         ],
         "xaxis": "x",
         "y": [
          14,
          18.583333,
          4.708333,
          23.083333,
          6.625
         ],
         "yaxis": "y"
        },
        {
         "hovertemplate": "County=Wake<br>Date_Local=%{x}<br>NO2_Mean=%{y}<extra></extra>",
         "legendgroup": "Wake",
         "marker": {
          "color": "#511CFB",
          "opacity": 0.7,
          "symbol": "circle"
         },
         "mode": "markers",
         "name": "Wake",
         "orientation": "v",
         "showlegend": true,
         "type": "scatter",
         "x": [
          "2014-06-30T00:00:00",
          "2014-03-17T00:00:00",
          "2014-03-23T00:00:00"
         ],
         "xaxis": "x",
         "y": [
          3.734783,
          2.947826,
          4.165217
         ],
         "yaxis": "y"
        },
        {
         "hovertemplate": "County=St. Louis City<br>Date_Local=%{x}<br>NO2_Mean=%{y}<extra></extra>",
         "legendgroup": "St. Louis City",
         "marker": {
          "color": "#00A08B",
          "opacity": 0.7,
          "symbol": "circle"
         },
         "mode": "markers",
         "name": "St. Louis City",
         "orientation": "v",
         "showlegend": true,
         "type": "scatter",
         "x": [
          "2015-05-31T00:00:00",
          "2006-08-08T00:00:00",
          "2005-06-23T00:00:00",
          "2008-09-21T00:00:00",
          "2015-06-22T00:00:00",
          "2008-09-22T00:00:00"
         ],
         "xaxis": "x",
         "y": [
          9.825,
          4.125,
          14.391304,
          14.541667,
          8.63,
          21.583333
         ],
         "yaxis": "y"
        },
        {
         "hovertemplate": "County=Orange<br>Date_Local=%{x}<br>NO2_Mean=%{y}<extra></extra>",
         "legendgroup": "Orange",
         "marker": {
          "color": "#FB00D1",
          "opacity": 0.7,
          "symbol": "circle"
         },
         "mode": "markers",
         "name": "Orange",
         "orientation": "v",
         "showlegend": true,
         "type": "scatter",
         "x": [
          "2008-02-07T00:00:00",
          "2001-09-26T00:00:00",
          "2015-04-15T00:00:00",
          "2011-07-11T00:00:00",
          "2013-09-12T00:00:00",
          "2015-12-15T00:00:00",
          "2006-08-31T00:00:00",
          "2008-11-05T00:00:00",
          "2008-02-06T00:00:00",
          "2011-08-21T00:00:00",
          "2000-11-25T00:00:00",
          "2006-05-07T00:00:00",
          "2007-10-30T00:00:00",
          "2014-06-11T00:00:00",
          "2013-01-28T00:00:00",
          "2013-03-17T00:00:00",
          "2012-08-11T00:00:00",
          "2010-05-05T00:00:00",
          "2006-04-03T00:00:00",
          "2008-10-29T00:00:00",
          "2008-11-10T00:00:00",
          "2002-03-07T00:00:00",
          "2005-05-10T00:00:00",
          "2015-09-03T00:00:00",
          "2014-11-03T00:00:00",
          "2012-10-21T00:00:00",
          "2006-04-28T00:00:00",
          "2008-03-23T00:00:00",
          "2005-06-04T00:00:00",
          "2006-01-03T00:00:00"
         ],
         "xaxis": "x",
         "y": [
          10.291667,
          14.125,
          3.833333,
          1.273913,
          10.95,
          23.327273,
          9.166667,
          4.285714,
          8.272727,
          2.541667,
          50.73913,
          4.833333,
          1.833333,
          6.458333,
          16.204545,
          6.541667,
          2.295455,
          6.5,
          5.333333,
          12.631579,
          5.333333,
          8.043478,
          10.166667,
          2.80625,
          17.985714,
          4.333333,
          5.347826,
          4.458333,
          4,
          21.826087
         ],
         "yaxis": "y"
        },
        {
         "hovertemplate": "County=Cambria<br>Date_Local=%{x}<br>NO2_Mean=%{y}<extra></extra>",
         "legendgroup": "Cambria",
         "marker": {
          "color": "#FC0080",
          "opacity": 0.7,
          "symbol": "circle"
         },
         "mode": "markers",
         "name": "Cambria",
         "orientation": "v",
         "showlegend": true,
         "type": "scatter",
         "x": [
          "2005-07-17T00:00:00",
          "2013-01-14T00:00:00",
          "2010-10-16T00:00:00",
          "2002-05-07T00:00:00",
          "2012-06-15T00:00:00",
          "2003-08-16T00:00:00",
          "2013-05-17T00:00:00",
          "2004-09-15T00:00:00",
          "2011-11-19T00:00:00",
          "2001-06-13T00:00:00",
          "2000-08-18T00:00:00",
          "2009-06-14T00:00:00",
          "2014-03-03T00:00:00",
          "2007-06-26T00:00:00",
          "2012-04-15T00:00:00"
         ],
         "xaxis": "x",
         "y": [
          5.875,
          7.416667,
          12.791667,
          13.583333,
          3.916667,
          8.25,
          7.041667,
          5.958333,
          13.708333,
          13.833333,
          18.833333,
          5.666667,
          6.916667,
          7.041667,
          7.333333
         ],
         "yaxis": "y"
        },
        {
         "hovertemplate": "County=Dallas<br>Date_Local=%{x}<br>NO2_Mean=%{y}<extra></extra>",
         "legendgroup": "Dallas",
         "marker": {
          "color": "#B2828D",
          "opacity": 0.7,
          "symbol": "circle"
         },
         "mode": "markers",
         "name": "Dallas",
         "orientation": "v",
         "showlegend": true,
         "type": "scatter",
         "x": [
          "2007-06-20T00:00:00",
          "2014-10-28T00:00:00",
          "2013-08-24T00:00:00",
          "2008-11-24T00:00:00",
          "2007-01-05T00:00:00",
          "2014-05-04T00:00:00",
          "2015-02-09T00:00:00",
          "2011-03-28T00:00:00",
          "2007-06-19T00:00:00",
          "2015-08-16T00:00:00",
          "2002-12-31T00:00:00",
          "2006-05-18T00:00:00"
         ],
         "xaxis": "x",
         "y": [
          12.5,
          8.033333,
          8.108333,
          18.583333,
          19.708333,
          6.040909,
          21.931818,
          6.9625,
          8.166667,
          5.713636,
          18.772727,
          23.75
         ],
         "yaxis": "y"
        },
        {
         "hovertemplate": "County=Ventura<br>Date_Local=%{x}<br>NO2_Mean=%{y}<extra></extra>",
         "legendgroup": "Ventura",
         "marker": {
          "color": "#6C7C32",
          "opacity": 0.7,
          "symbol": "circle"
         },
         "mode": "markers",
         "name": "Ventura",
         "orientation": "v",
         "showlegend": true,
         "type": "scatter",
         "x": [
          "2004-01-07T00:00:00",
          "2003-05-03T00:00:00",
          "2004-01-08T00:00:00",
          "2000-02-22T00:00:00"
         ],
         "xaxis": "x",
         "y": [
          34.952381,
          3,
          34.272727,
          14.521739
         ],
         "yaxis": "y"
        },
        {
         "hovertemplate": "County=Cass<br>Date_Local=%{x}<br>NO2_Mean=%{y}<extra></extra>",
         "legendgroup": "Cass",
         "marker": {
          "color": "#778AAE",
          "opacity": 0.7,
          "symbol": "circle"
         },
         "mode": "markers",
         "name": "Cass",
         "orientation": "v",
         "showlegend": true,
         "type": "scatter",
         "x": [
          "2014-11-03T00:00:00",
          "2009-08-26T00:00:00",
          "2008-03-29T00:00:00",
          "2014-10-07T00:00:00"
         ],
         "xaxis": "x",
         "y": [
          3.428571,
          9.25,
          2.416667,
          1.529167
         ],
         "yaxis": "y"
        },
        {
         "hovertemplate": "County=Salt Lake<br>Date_Local=%{x}<br>NO2_Mean=%{y}<extra></extra>",
         "legendgroup": "Salt Lake",
         "marker": {
          "color": "#862A16",
          "opacity": 0.7,
          "symbol": "circle"
         },
         "mode": "markers",
         "name": "Salt Lake",
         "orientation": "v",
         "showlegend": true,
         "type": "scatter",
         "x": [
          "2012-03-21T00:00:00",
          "2015-04-06T00:00:00",
          "2015-12-12T00:00:00",
          "2013-06-15T00:00:00",
          "2012-05-26T00:00:00"
         ],
         "xaxis": "x",
         "y": [
          16.190476,
          10.708333,
          16.625,
          9.708333,
          6.875
         ],
         "yaxis": "y"
        },
        {
         "hovertemplate": "County=Washoe<br>Date_Local=%{x}<br>NO2_Mean=%{y}<extra></extra>",
         "legendgroup": "Washoe",
         "marker": {
          "color": "#A777F1",
          "opacity": 0.7,
          "symbol": "circle"
         },
         "mode": "markers",
         "name": "Washoe",
         "orientation": "v",
         "showlegend": true,
         "type": "scatter",
         "x": [
          "2013-08-01T00:00:00",
          "2014-04-27T00:00:00",
          "2012-07-11T00:00:00"
         ],
         "xaxis": "x",
         "y": [
          6.291667,
          3.558333,
          10.066667
         ],
         "yaxis": "y"
        },
        {
         "hovertemplate": "County=Bernalillo<br>Date_Local=%{x}<br>NO2_Mean=%{y}<extra></extra>",
         "legendgroup": "Bernalillo",
         "marker": {
          "color": "#620042",
          "opacity": 0.7,
          "symbol": "circle"
         },
         "mode": "markers",
         "name": "Bernalillo",
         "orientation": "v",
         "showlegend": true,
         "type": "scatter",
         "x": [
          "2011-05-23T00:00:00",
          "2011-03-26T00:00:00",
          "2011-03-31T00:00:00"
         ],
         "xaxis": "x",
         "y": [
          11,
          7.570833,
          6.770833
         ],
         "yaxis": "y"
        },
        {
         "hovertemplate": "County=Alameda<br>Date_Local=%{x}<br>NO2_Mean=%{y}<extra></extra>",
         "legendgroup": "Alameda",
         "marker": {
          "color": "#1616A7",
          "opacity": 0.7,
          "symbol": "circle"
         },
         "mode": "markers",
         "name": "Alameda",
         "orientation": "v",
         "showlegend": true,
         "type": "scatter",
         "x": [
          "2002-06-28T00:00:00",
          "2002-06-30T00:00:00",
          "2012-08-09T00:00:00",
          "2012-07-01T00:00:00",
          "2011-04-20T00:00:00"
         ],
         "xaxis": "x",
         "y": [
          7.304348,
          10.583333,
          15.427273,
          5.578261,
          8.25
         ],
         "yaxis": "y"
        },
        {
         "hovertemplate": "County=Scott<br>Date_Local=%{x}<br>NO2_Mean=%{y}<extra></extra>",
         "legendgroup": "Scott",
         "marker": {
          "color": "#DA60CA",
          "opacity": 0.7,
          "symbol": "circle"
         },
         "mode": "markers",
         "name": "Scott",
         "orientation": "v",
         "showlegend": true,
         "type": "scatter",
         "x": [
          "2012-08-28T00:00:00",
          "2013-05-17T00:00:00",
          "2014-09-06T00:00:00",
          "2007-08-03T00:00:00",
          "2015-07-27T00:00:00",
          "2014-02-05T00:00:00",
          "2014-07-29T00:00:00",
          "2011-04-08T00:00:00",
          "2016-02-10T00:00:00",
          "2013-04-06T00:00:00",
          "2013-11-18T00:00:00",
          "2012-04-22T00:00:00"
         ],
         "xaxis": "x",
         "y": [
          10.655556,
          7.518182,
          4.55,
          5.454167,
          3.731818,
          7.809524,
          4.122727,
          9.983333,
          6.859091,
          5.422727,
          5.695238,
          6.459091
         ],
         "yaxis": "y"
        },
        {
         "hovertemplate": "County=Prince George's<br>Date_Local=%{x}<br>NO2_Mean=%{y}<extra></extra>",
         "legendgroup": "Prince George's",
         "marker": {
          "color": "#6C4516",
          "opacity": 0.7,
          "symbol": "circle"
         },
         "mode": "markers",
         "name": "Prince George's",
         "orientation": "v",
         "showlegend": true,
         "type": "scatter",
         "x": [
          "2007-04-27T00:00:00",
          "2013-10-26T00:00:00",
          "2012-05-14T00:00:00"
         ],
         "xaxis": "x",
         "y": [
          13.73913,
          8.4375,
          3.004167
         ],
         "yaxis": "y"
        },
        {
         "hovertemplate": "County=Cumberland<br>Date_Local=%{x}<br>NO2_Mean=%{y}<extra></extra>",
         "legendgroup": "Cumberland",
         "marker": {
          "color": "#0D2A63",
          "opacity": 0.7,
          "symbol": "circle"
         },
         "mode": "markers",
         "name": "Cumberland",
         "orientation": "v",
         "showlegend": true,
         "type": "scatter",
         "x": [
          "2011-06-26T00:00:00",
          "2012-10-31T00:00:00",
          "2014-12-24T00:00:00",
          "2012-10-19T00:00:00",
          "2015-01-10T00:00:00",
          "2012-09-02T00:00:00"
         ],
         "xaxis": "x",
         "y": [
          3.625,
          7.083333,
          5.3875,
          8.654167,
          8.579167,
          7.429167
         ],
         "yaxis": "y"
        },
        {
         "hovertemplate": "County=El Paso<br>Date_Local=%{x}<br>NO2_Mean=%{y}<extra></extra>",
         "legendgroup": "El Paso",
         "marker": {
          "color": "#AF0038",
          "opacity": 0.7,
          "symbol": "circle"
         },
         "mode": "markers",
         "name": "El Paso",
         "orientation": "v",
         "showlegend": true,
         "type": "scatter",
         "x": [
          "2014-03-13T00:00:00",
          "2015-06-22T00:00:00",
          "2012-07-27T00:00:00",
          "2007-02-05T00:00:00",
          "2004-04-03T00:00:00",
          "2010-05-25T00:00:00",
          "2009-01-16T00:00:00",
          "2002-07-21T00:00:00",
          "2000-09-26T00:00:00",
          "2004-07-11T00:00:00",
          "2008-07-17T00:00:00",
          "2007-12-05T00:00:00",
          "2004-02-15T00:00:00",
          "2005-02-25T00:00:00",
          "2012-06-21T00:00:00",
          "2004-04-27T00:00:00",
          "2006-12-15T00:00:00",
          "2012-10-12T00:00:00",
          "2003-08-19T00:00:00"
         ],
         "xaxis": "x",
         "y": [
          13.483333,
          9.620833,
          11.441667,
          28.041667,
          12.125,
          18.269565,
          27.85,
          12.4,
          27.9,
          10.363636,
          13.666667,
          32.333333,
          31.727273,
          12.25,
          9.245833,
          6.166667,
          22.333333,
          11.320833,
          9.875
         ],
         "yaxis": "y"
        },
        {
         "hovertemplate": "County=Mecklenburg<br>Date_Local=%{x}<br>NO2_Mean=%{y}<extra></extra>",
         "legendgroup": "Mecklenburg",
         "marker": {
          "color": "#2E91E5",
          "opacity": 0.7,
          "symbol": "circle"
         },
         "mode": "markers",
         "name": "Mecklenburg",
         "orientation": "v",
         "showlegend": true,
         "type": "scatter",
         "x": [
          "2000-09-26T00:00:00",
          "2008-12-02T00:00:00",
          "2013-10-07T00:00:00",
          "2011-07-19T00:00:00",
          "2009-06-16T00:00:00",
          "2006-08-02T00:00:00",
          "2008-01-27T00:00:00",
          "2015-10-30T00:00:00",
          "2015-08-25T00:00:00",
          "2012-07-06T00:00:00",
          "2015-02-16T00:00:00",
          "2011-01-01T00:00:00",
          "2007-03-06T00:00:00",
          "2008-09-02T00:00:00",
          "2008-11-07T00:00:00",
          "2010-10-06T00:00:00",
          "2003-04-13T00:00:00",
          "2007-06-18T00:00:00",
          "2013-04-05T00:00:00",
          "2007-12-21T00:00:00",
          "2008-10-29T00:00:00",
          "2011-10-18T00:00:00",
          "2010-11-09T00:00:00",
          "2003-06-09T00:00:00",
          "2001-07-08T00:00:00",
          "2014-02-18T00:00:00"
         ],
         "xaxis": "x",
         "y": [
          11,
          18.541667,
          3.916667,
          10.083333,
          3.25,
          13.041667,
          21.541667,
          10.7,
          5.8,
          10.916667,
          4.682609,
          14.916667,
          19.227273,
          13.454545,
          15.166667,
          16.666667,
          23,
          22.875,
          8.791667,
          13.25,
          16.416667,
          6.666667,
          24.708333,
          18.208333,
          12.208333,
          17.708333
         ],
         "yaxis": "y"
        },
        {
         "hovertemplate": "County=Bucks<br>Date_Local=%{x}<br>NO2_Mean=%{y}<extra></extra>",
         "legendgroup": "Bucks",
         "marker": {
          "color": "#E15F99",
          "opacity": 0.7,
          "symbol": "circle"
         },
         "mode": "markers",
         "name": "Bucks",
         "orientation": "v",
         "showlegend": true,
         "type": "scatter",
         "x": [
          "2007-04-14T00:00:00",
          "2011-12-31T00:00:00",
          "2003-09-18T00:00:00",
          "2010-07-25T00:00:00",
          "2004-09-12T00:00:00",
          "2004-05-14T00:00:00",
          "2008-10-19T00:00:00",
          "2010-08-30T00:00:00",
          "2013-12-21T00:00:00"
         ],
         "xaxis": "x",
         "y": [
          7.958333,
          12.416667,
          6.090909,
          3.791667,
          11.666667,
          11.625,
          6.833333,
          18.75,
          8.083333
         ],
         "yaxis": "y"
        },
        {
         "hovertemplate": "County=Erie<br>Date_Local=%{x}<br>NO2_Mean=%{y}<extra></extra>",
         "legendgroup": "Erie",
         "marker": {
          "color": "#1CA71C",
          "opacity": 0.7,
          "symbol": "circle"
         },
         "mode": "markers",
         "name": "Erie",
         "orientation": "v",
         "showlegend": true,
         "type": "scatter",
         "x": [
          "2015-06-08T00:00:00",
          "2015-12-24T00:00:00",
          "2015-05-06T00:00:00",
          "2014-03-10T00:00:00",
          "2014-03-09T00:00:00",
          "2013-08-26T00:00:00",
          "2012-04-10T00:00:00",
          "2008-07-22T00:00:00",
          "2012-05-02T00:00:00",
          "2015-04-16T00:00:00",
          "2013-05-24T00:00:00",
          "2015-08-21T00:00:00",
          "2006-05-09T00:00:00",
          "2015-10-23T00:00:00",
          "2015-02-14T00:00:00",
          "2007-04-06T00:00:00"
         ],
         "xaxis": "x",
         "y": [
          4.25,
          6.75,
          7.291667,
          10.208333,
          7.041667,
          6.25,
          3.166667,
          10.833333,
          9.833333,
          4.583333,
          1.458333,
          4.458333,
          18.25,
          8.333333,
          3.708333,
          3.458333
         ],
         "yaxis": "y"
        },
        {
         "hovertemplate": "County=Berks<br>Date_Local=%{x}<br>NO2_Mean=%{y}<extra></extra>",
         "legendgroup": "Berks",
         "marker": {
          "color": "#FB0D0D",
          "opacity": 0.7,
          "symbol": "circle"
         },
         "mode": "markers",
         "name": "Berks",
         "orientation": "v",
         "showlegend": true,
         "type": "scatter",
         "x": [
          "2007-10-16T00:00:00",
          "2009-05-18T00:00:00",
          "2007-08-11T00:00:00",
          "2001-04-17T00:00:00",
          "2014-06-28T00:00:00"
         ],
         "xaxis": "x",
         "y": [
          16.791667,
          6.25,
          7.875,
          14.833333,
          3.166667
         ],
         "yaxis": "y"
        },
        {
         "hovertemplate": "County=Hillsborough<br>Date_Local=%{x}<br>NO2_Mean=%{y}<extra></extra>",
         "legendgroup": "Hillsborough",
         "marker": {
          "color": "#DA16FF",
          "opacity": 0.7,
          "symbol": "circle"
         },
         "mode": "markers",
         "name": "Hillsborough",
         "orientation": "v",
         "showlegend": true,
         "type": "scatter",
         "x": [
          "2002-07-07T00:00:00",
          "2008-08-24T00:00:00",
          "2009-12-18T00:00:00",
          "2003-07-02T00:00:00",
          "2008-02-08T00:00:00",
          "2007-05-12T00:00:00",
          "2010-09-01T00:00:00",
          "2004-07-07T00:00:00",
          "2004-04-30T00:00:00"
         ],
         "xaxis": "x",
         "y": [
          6.208333,
          0.291667,
          7.316667,
          13,
          8.041667,
          4.391304,
          8.604348,
          7.416667,
          18.458333
         ],
         "yaxis": "y"
        },
        {
         "hovertemplate": "County=Fairfield<br>Date_Local=%{x}<br>NO2_Mean=%{y}<extra></extra>",
         "legendgroup": "Fairfield",
         "marker": {
          "color": "#222A2A",
          "opacity": 0.7,
          "symbol": "circle"
         },
         "mode": "markers",
         "name": "Fairfield",
         "orientation": "v",
         "showlegend": true,
         "type": "scatter",
         "x": [
          "2009-07-25T00:00:00",
          "2008-08-19T00:00:00",
          "2009-08-25T00:00:00"
         ],
         "xaxis": "x",
         "y": [
          6.833333,
          8.666667,
          5.913043
         ],
         "yaxis": "y"
        },
        {
         "hovertemplate": "County=San Bernardino<br>Date_Local=%{x}<br>NO2_Mean=%{y}<extra></extra>",
         "legendgroup": "San Bernardino",
         "marker": {
          "color": "#B68100",
          "opacity": 0.7,
          "symbol": "circle"
         },
         "mode": "markers",
         "name": "San Bernardino",
         "orientation": "v",
         "showlegend": true,
         "type": "scatter",
         "x": [
          "2015-12-30T00:00:00",
          "2008-07-01T00:00:00",
          "2008-10-12T00:00:00",
          "2000-08-01T00:00:00",
          "2010-11-15T00:00:00",
          "2000-02-12T00:00:00",
          "2000-03-11T00:00:00",
          "2010-12-22T00:00:00",
          "2013-02-15T00:00:00",
          "2003-07-03T00:00:00",
          "2013-02-16T00:00:00",
          "2004-01-23T00:00:00",
          "2006-02-08T00:00:00",
          "2008-11-10T00:00:00",
          "2014-11-06T00:00:00",
          "2014-10-25T00:00:00",
          "2008-07-23T00:00:00",
          "2013-03-12T00:00:00",
          "2005-10-04T00:00:00",
          "2009-03-09T00:00:00",
          "2007-07-25T00:00:00",
          "2003-08-04T00:00:00",
          "2013-10-24T00:00:00",
          "2000-04-09T00:00:00",
          "2002-06-14T00:00:00",
          "2012-02-16T00:00:00",
          "2002-02-04T00:00:00"
         ],
         "xaxis": "x",
         "y": [
          23.552174,
          35.695652,
          0,
          32.391304,
          27.26087,
          10,
          18.695652,
          10.26087,
          24.672727,
          7.434783,
          26.082609,
          28,
          34.26087,
          21.956522,
          22.655,
          7.877273,
          15.565217,
          37.418182,
          9.727273,
          9.478261,
          15.913043,
          28,
          22.722727,
          1.956522,
          30.521739,
          1.779167,
          33.6875
         ],
         "yaxis": "y"
        },
        {
         "hovertemplate": "County=Lancaster<br>Date_Local=%{x}<br>NO2_Mean=%{y}<extra></extra>",
         "legendgroup": "Lancaster",
         "marker": {
          "color": "#750D86",
          "opacity": 0.7,
          "symbol": "circle"
         },
         "mode": "markers",
         "name": "Lancaster",
         "orientation": "v",
         "showlegend": true,
         "type": "scatter",
         "x": [
          "2004-08-04T00:00:00",
          "2003-07-17T00:00:00",
          "2007-09-30T00:00:00",
          "2003-05-25T00:00:00",
          "2007-10-24T00:00:00",
          "2003-07-09T00:00:00"
         ],
         "xaxis": "x",
         "y": [
          11.166667,
          13,
          9.916667,
          3.833333,
          10.555556,
          12.375
         ],
         "yaxis": "y"
        },
        {
         "hovertemplate": "County=Milwaukee<br>Date_Local=%{x}<br>NO2_Mean=%{y}<extra></extra>",
         "legendgroup": "Milwaukee",
         "marker": {
          "color": "#EB663B",
          "opacity": 0.7,
          "symbol": "circle"
         },
         "mode": "markers",
         "name": "Milwaukee",
         "orientation": "v",
         "showlegend": true,
         "type": "scatter",
         "x": [
          "2006-03-19T00:00:00",
          "2006-06-06T00:00:00"
         ],
         "xaxis": "x",
         "y": [
          17.083333,
          22.041667
         ],
         "yaxis": "y"
        },
        {
         "hovertemplate": "County=Riverside<br>Date_Local=%{x}<br>NO2_Mean=%{y}<extra></extra>",
         "legendgroup": "Riverside",
         "marker": {
          "color": "#511CFB",
          "opacity": 0.7,
          "symbol": "circle"
         },
         "mode": "markers",
         "name": "Riverside",
         "orientation": "v",
         "showlegend": true,
         "type": "scatter",
         "x": [
          "2006-09-03T00:00:00",
          "2006-11-24T00:00:00",
          "2000-02-07T00:00:00",
          "2014-10-22T00:00:00",
          "2008-10-12T00:00:00",
          "2005-10-15T00:00:00",
          "2010-05-05T00:00:00",
          "2011-12-08T00:00:00"
         ],
         "xaxis": "x",
         "y": [
          19.869565,
          20.347826,
          20.478261,
          27.309091,
          0,
          23.956522,
          12.914286,
          32.704545
         ],
         "yaxis": "y"
        },
        {
         "hovertemplate": "County=Henderson<br>Date_Local=%{x}<br>NO2_Mean=%{y}<extra></extra>",
         "legendgroup": "Henderson",
         "marker": {
          "color": "#00A08B",
          "opacity": 0.7,
          "symbol": "circle"
         },
         "mode": "markers",
         "name": "Henderson",
         "orientation": "v",
         "showlegend": true,
         "type": "scatter",
         "x": [
          "2000-09-24T00:00:00",
          "2000-05-19T00:00:00"
         ],
         "xaxis": "x",
         "y": [
          7.26087,
          12.565217
         ],
         "yaxis": "y"
        },
        {
         "hovertemplate": "County=Honolulu<br>Date_Local=%{x}<br>NO2_Mean=%{y}<extra></extra>",
         "legendgroup": "Honolulu",
         "marker": {
          "color": "#FB00D1",
          "opacity": 0.7,
          "symbol": "circle"
         },
         "mode": "markers",
         "name": "Honolulu",
         "orientation": "v",
         "showlegend": true,
         "type": "scatter",
         "x": [
          "2011-01-08T00:00:00",
          "2012-05-30T00:00:00",
          "2014-05-03T00:00:00",
          "2011-04-03T00:00:00",
          "2011-09-22T00:00:00",
          "2012-03-08T00:00:00",
          "2011-11-26T00:00:00",
          "2011-12-30T00:00:00",
          "2015-04-10T00:00:00",
          "2015-09-24T00:00:00",
          "2013-04-12T00:00:00",
          "2015-08-31T00:00:00",
          "2013-07-06T00:00:00",
          "2015-10-25T00:00:00"
         ],
         "xaxis": "x",
         "y": [
          6.041667,
          2.416667,
          4.3125,
          2.434783,
          2.4375,
          1.857143,
          1.291667,
          4.833333,
          2.779167,
          2.82381,
          2.75,
          3.390476,
          3.916667,
          3.319048
         ],
         "yaxis": "y"
        },
        {
         "hovertemplate": "County=Boyd<br>Date_Local=%{x}<br>NO2_Mean=%{y}<extra></extra>",
         "legendgroup": "Boyd",
         "marker": {
          "color": "#FC0080",
          "opacity": 0.7,
          "symbol": "circle"
         },
         "mode": "markers",
         "name": "Boyd",
         "orientation": "v",
         "showlegend": true,
         "type": "scatter",
         "x": [
          "2001-07-24T00:00:00",
          "2002-06-28T00:00:00",
          "2000-05-01T00:00:00"
         ],
         "xaxis": "x",
         "y": [
          17.695652,
          6.695652,
          23.695652
         ],
         "yaxis": "y"
        },
        {
         "hovertemplate": "County=San Francisco<br>Date_Local=%{x}<br>NO2_Mean=%{y}<extra></extra>",
         "legendgroup": "San Francisco",
         "marker": {
          "color": "#B2828D",
          "opacity": 0.7,
          "symbol": "circle"
         },
         "mode": "markers",
         "name": "San Francisco",
         "orientation": "v",
         "showlegend": true,
         "type": "scatter",
         "x": [
          "2008-07-05T00:00:00",
          "2000-10-24T00:00:00",
          "2008-07-31T00:00:00",
          "2008-02-29T00:00:00",
          "2008-10-26T00:00:00",
          "2005-02-10T00:00:00",
          "2004-01-14T00:00:00",
          "2007-10-28T00:00:00",
          "2002-11-18T00:00:00",
          "2004-12-17T00:00:00",
          "2000-02-06T00:00:00",
          "2000-01-25T00:00:00",
          "2003-07-31T00:00:00"
         ],
         "xaxis": "x",
         "y": [
          4.478261,
          34.173913,
          7.652174,
          11.608696,
          12.608696,
          33.869565,
          29.173913,
          23,
          33.782609,
          26.521739,
          27.782609,
          22.5,
          13.086957
         ],
         "yaxis": "y"
        },
        {
         "hovertemplate": "County=Cherokee<br>Date_Local=%{x}<br>NO2_Mean=%{y}<extra></extra>",
         "legendgroup": "Cherokee",
         "marker": {
          "color": "#6C7C32",
          "opacity": 0.7,
          "symbol": "circle"
         },
         "mode": "markers",
         "name": "Cherokee",
         "orientation": "v",
         "showlegend": true,
         "type": "scatter",
         "x": [
          "2005-02-16T00:00:00",
          "2001-10-29T00:00:00",
          "2001-09-07T00:00:00",
          "2007-08-26T00:00:00"
         ],
         "xaxis": "x",
         "y": [
          10.652174,
          12.521739,
          3.347826,
          5.041667
         ],
         "yaxis": "y"
        },
        {
         "hovertemplate": "County=Allegheny<br>Date_Local=%{x}<br>NO2_Mean=%{y}<extra></extra>",
         "legendgroup": "Allegheny",
         "marker": {
          "color": "#778AAE",
          "opacity": 0.7,
          "symbol": "circle"
         },
         "mode": "markers",
         "name": "Allegheny",
         "orientation": "v",
         "showlegend": true,
         "type": "scatter",
         "x": [
          "2014-04-25T00:00:00",
          "2011-11-15T00:00:00",
          "2002-10-12T00:00:00",
          "2014-05-27T00:00:00",
          "2001-10-19T00:00:00",
          "2004-06-05T00:00:00",
          "2013-05-18T00:00:00"
         ],
         "xaxis": "x",
         "y": [
          14.408333,
          8.870833,
          12.791667,
          12.445833,
          28.695652,
          17.583333,
          8.808333
         ],
         "yaxis": "y"
        },
        {
         "hovertemplate": "County=East Baton Rouge<br>Date_Local=%{x}<br>NO2_Mean=%{y}<extra></extra>",
         "legendgroup": "East Baton Rouge",
         "marker": {
          "color": "#862A16",
          "opacity": 0.7,
          "symbol": "circle"
         },
         "mode": "markers",
         "name": "East Baton Rouge",
         "orientation": "v",
         "showlegend": true,
         "type": "scatter",
         "x": [
          "2000-03-21T00:00:00",
          "2003-03-12T00:00:00",
          "2000-05-11T00:00:00",
          "2008-06-16T00:00:00",
          "2011-01-31T00:00:00",
          "2013-02-28T00:00:00",
          "2008-10-05T00:00:00",
          "2003-01-09T00:00:00"
         ],
         "xaxis": "x",
         "y": [
          21.166667,
          19.73913,
          9,
          10.708333,
          13.770833,
          16.891667,
          7.952381,
          14.833333
         ],
         "yaxis": "y"
        },
        {
         "hovertemplate": "County=Saint Louis<br>Date_Local=%{x}<br>NO2_Mean=%{y}<extra></extra>",
         "legendgroup": "Saint Louis",
         "marker": {
          "color": "#A777F1",
          "opacity": 0.7,
          "symbol": "circle"
         },
         "mode": "markers",
         "name": "Saint Louis",
         "orientation": "v",
         "showlegend": true,
         "type": "scatter",
         "x": [
          "2000-07-08T00:00:00",
          "2000-04-26T00:00:00",
          "2000-05-05T00:00:00",
          "2004-04-20T00:00:00",
          "2000-09-30T00:00:00",
          "2000-06-14T00:00:00",
          "2000-06-01T00:00:00"
         ],
         "xaxis": "x",
         "y": [
          13.708333,
          29.833333,
          13.333333,
          4.958333,
          17.958333,
          12.458333,
          28.565217
         ],
         "yaxis": "y"
        },
        {
         "hovertemplate": "County=Beaver<br>Date_Local=%{x}<br>NO2_Mean=%{y}<extra></extra>",
         "legendgroup": "Beaver",
         "marker": {
          "color": "#620042",
          "opacity": 0.7,
          "symbol": "circle"
         },
         "mode": "markers",
         "name": "Beaver",
         "orientation": "v",
         "showlegend": true,
         "type": "scatter",
         "x": [
          "2000-08-10T00:00:00",
          "2007-05-25T00:00:00",
          "2001-07-26T00:00:00"
         ],
         "xaxis": "x",
         "y": [
          12.208333,
          15.458333,
          8.708333
         ],
         "yaxis": "y"
        },
        {
         "hovertemplate": "County=Polk<br>Date_Local=%{x}<br>NO2_Mean=%{y}<extra></extra>",
         "legendgroup": "Polk",
         "marker": {
          "color": "#1616A7",
          "opacity": 0.7,
          "symbol": "circle"
         },
         "mode": "markers",
         "name": "Polk",
         "orientation": "v",
         "showlegend": true,
         "type": "scatter",
         "x": [
          "2013-08-25T00:00:00",
          "2009-04-26T00:00:00",
          "2009-07-21T00:00:00",
          "2010-07-27T00:00:00",
          "2014-05-26T00:00:00",
          "2012-09-17T00:00:00",
          "2007-04-16T00:00:00"
         ],
         "xaxis": "x",
         "y": [
          3.195833,
          5.666667,
          10.291667,
          5.458333,
          3.958333,
          5.608333,
          17.625
         ],
         "yaxis": "y"
        },
        {
         "hovertemplate": "County=Santa Cruz<br>Date_Local=%{x}<br>NO2_Mean=%{y}<extra></extra>",
         "legendgroup": "Santa Cruz",
         "marker": {
          "color": "#DA60CA",
          "opacity": 0.7,
          "symbol": "circle"
         },
         "mode": "markers",
         "name": "Santa Cruz",
         "orientation": "v",
         "showlegend": true,
         "type": "scatter",
         "x": [
          "2008-02-25T00:00:00",
          "2004-12-07T00:00:00",
          "2004-10-26T00:00:00",
          "2005-05-12T00:00:00"
         ],
         "xaxis": "x",
         "y": [
          2.666667,
          2.521739,
          2.222222,
          3.666667
         ],
         "yaxis": "y"
        },
        {
         "hovertemplate": "County=Queens<br>Date_Local=%{x}<br>NO2_Mean=%{y}<extra></extra>",
         "legendgroup": "Queens",
         "marker": {
          "color": "#6C4516",
          "opacity": 0.7,
          "symbol": "circle"
         },
         "mode": "markers",
         "name": "Queens",
         "orientation": "v",
         "showlegend": true,
         "type": "scatter",
         "x": [
          "2013-05-06T00:00:00",
          "2015-04-13T00:00:00",
          "2003-11-15T00:00:00",
          "2005-10-23T00:00:00",
          "2015-04-20T00:00:00",
          "2001-10-13T00:00:00",
          "2005-02-12T00:00:00"
         ],
         "xaxis": "x",
         "y": [
          14.808333,
          22.983333,
          18.666667,
          17.904762,
          10.369565,
          27.208333,
          22.958333
         ],
         "yaxis": "y"
        },
        {
         "hovertemplate": "County=Kent<br>Date_Local=%{x}<br>NO2_Mean=%{y}<extra></extra>",
         "legendgroup": "Kent",
         "marker": {
          "color": "#0D2A63",
          "opacity": 0.7,
          "symbol": "circle"
         },
         "mode": "markers",
         "name": "Kent",
         "orientation": "v",
         "showlegend": true,
         "type": "scatter",
         "x": [
          "2004-06-30T00:00:00"
         ],
         "xaxis": "x",
         "y": [
          15.391304
         ],
         "yaxis": "y"
        },
        {
         "hovertemplate": "County=Jefferson<br>Date_Local=%{x}<br>NO2_Mean=%{y}<extra></extra>",
         "legendgroup": "Jefferson",
         "marker": {
          "color": "#AF0038",
          "opacity": 0.7,
          "symbol": "circle"
         },
         "mode": "markers",
         "name": "Jefferson",
         "orientation": "v",
         "showlegend": true,
         "type": "scatter",
         "x": [
          "2002-04-30T00:00:00",
          "2015-09-28T00:00:00",
          "2015-10-16T00:00:00"
         ],
         "xaxis": "x",
         "y": [
          15.291667,
          6.191667,
          7.0625
         ],
         "yaxis": "y"
        },
        {
         "hovertemplate": "County=Blount<br>Date_Local=%{x}<br>NO2_Mean=%{y}<extra></extra>",
         "legendgroup": "Blount",
         "marker": {
          "color": "#2E91E5",
          "opacity": 0.7,
          "symbol": "circle"
         },
         "mode": "markers",
         "name": "Blount",
         "orientation": "v",
         "showlegend": true,
         "type": "scatter",
         "x": [
          "2009-10-13T00:00:00",
          "2015-08-22T00:00:00",
          "2009-12-20T00:00:00",
          "2009-07-12T00:00:00"
         ],
         "xaxis": "x",
         "y": [
          0.8,
          0.479167,
          4.479167,
          0.125
         ],
         "yaxis": "y"
        },
        {
         "hovertemplate": "County=Fairfax<br>Date_Local=%{x}<br>NO2_Mean=%{y}<extra></extra>",
         "legendgroup": "Fairfax",
         "marker": {
          "color": "#E15F99",
          "opacity": 0.7,
          "symbol": "circle"
         },
         "mode": "markers",
         "name": "Fairfax",
         "orientation": "v",
         "showlegend": true,
         "type": "scatter",
         "x": [
          "2000-10-28T00:00:00",
          "2006-05-26T00:00:00",
          "2008-05-21T00:00:00",
          "2006-10-13T00:00:00",
          "2008-05-30T00:00:00",
          "2008-05-02T00:00:00",
          "2000-12-29T00:00:00",
          "2006-05-04T00:00:00",
          "2009-02-27T00:00:00",
          "2000-02-22T00:00:00",
          "2006-11-07T00:00:00"
         ],
         "xaxis": "x",
         "y": [
          13,
          7.541667,
          2.791667,
          14.583333,
          5.347826,
          14.333333,
          20.666667,
          16.416667,
          11.208333,
          15.666667,
          20.583333
         ],
         "yaxis": "y"
        },
        {
         "hovertemplate": "County=Tulsa<br>Date_Local=%{x}<br>NO2_Mean=%{y}<extra></extra>",
         "legendgroup": "Tulsa",
         "marker": {
          "color": "#1CA71C",
          "opacity": 0.7,
          "symbol": "circle"
         },
         "mode": "markers",
         "name": "Tulsa",
         "orientation": "v",
         "showlegend": true,
         "type": "scatter",
         "x": [
          "2011-12-22T00:00:00",
          "2009-09-06T00:00:00",
          "2006-12-30T00:00:00",
          "2007-08-24T00:00:00",
          "2015-01-26T00:00:00",
          "2007-08-09T00:00:00"
         ],
         "xaxis": "x",
         "y": [
          7.529167,
          7.708333,
          7.458333,
          10.166667,
          17.129167,
          10.25
         ],
         "yaxis": "y"
        },
        {
         "hovertemplate": "County=Bexar<br>Date_Local=%{x}<br>NO2_Mean=%{y}<extra></extra>",
         "legendgroup": "Bexar",
         "marker": {
          "color": "#FB0D0D",
          "opacity": 0.7,
          "symbol": "circle"
         },
         "mode": "markers",
         "name": "Bexar",
         "orientation": "v",
         "showlegend": true,
         "type": "scatter",
         "x": [
          "2008-01-27T00:00:00",
          "2008-04-09T00:00:00"
         ],
         "xaxis": "x",
         "y": [
          12.55,
          2.5
         ],
         "yaxis": "y"
        },
        {
         "hovertemplate": "County=Blair<br>Date_Local=%{x}<br>NO2_Mean=%{y}<extra></extra>",
         "legendgroup": "Blair",
         "marker": {
          "color": "#DA16FF",
          "opacity": 0.7,
          "symbol": "circle"
         },
         "mode": "markers",
         "name": "Blair",
         "orientation": "v",
         "showlegend": true,
         "type": "scatter",
         "x": [
          "2000-08-02T00:00:00",
          "2001-05-08T00:00:00",
          "2001-04-23T00:00:00",
          "2006-07-28T00:00:00",
          "2007-09-28T00:00:00"
         ],
         "xaxis": "x",
         "y": [
          11.833333,
          13.208333,
          16.375,
          10,
          5.375
         ],
         "yaxis": "y"
        },
        {
         "hovertemplate": "County=Travis<br>Date_Local=%{x}<br>NO2_Mean=%{y}<extra></extra>",
         "legendgroup": "Travis",
         "marker": {
          "color": "#222A2A",
          "opacity": 0.7,
          "symbol": "circle"
         },
         "mode": "markers",
         "name": "Travis",
         "orientation": "v",
         "showlegend": true,
         "type": "scatter",
         "x": [
          "2013-09-24T00:00:00"
         ],
         "xaxis": "x",
         "y": [
          10.741667
         ],
         "yaxis": "y"
        },
        {
         "hovertemplate": "County=Garrett<br>Date_Local=%{x}<br>NO2_Mean=%{y}<extra></extra>",
         "legendgroup": "Garrett",
         "marker": {
          "color": "#B68100",
          "opacity": 0.7,
          "symbol": "circle"
         },
         "mode": "markers",
         "name": "Garrett",
         "orientation": "v",
         "showlegend": true,
         "type": "scatter",
         "x": [
          "2015-01-13T00:00:00",
          "2015-04-21T00:00:00",
          "2015-01-03T00:00:00",
          "2014-05-02T00:00:00"
         ],
         "xaxis": "x",
         "y": [
          2.63913,
          1.295652,
          3.4625,
          2.904167
         ],
         "yaxis": "y"
        },
        {
         "hovertemplate": "County=New Haven<br>Date_Local=%{x}<br>NO2_Mean=%{y}<extra></extra>",
         "legendgroup": "New Haven",
         "marker": {
          "color": "#750D86",
          "opacity": 0.7,
          "symbol": "circle"
         },
         "mode": "markers",
         "name": "New Haven",
         "orientation": "v",
         "showlegend": true,
         "type": "scatter",
         "x": [
          "2011-01-23T00:00:00",
          "2015-05-22T00:00:00",
          "2006-09-24T00:00:00",
          "2010-04-18T00:00:00"
         ],
         "xaxis": "x",
         "y": [
          16.958333,
          8.566667,
          20.916667,
          5.25
         ],
         "yaxis": "y"
        },
        {
         "hovertemplate": "County=Hartford<br>Date_Local=%{x}<br>NO2_Mean=%{y}<extra></extra>",
         "legendgroup": "Hartford",
         "marker": {
          "color": "#EB663B",
          "opacity": 0.7,
          "symbol": "circle"
         },
         "mode": "markers",
         "name": "Hartford",
         "orientation": "v",
         "showlegend": true,
         "type": "scatter",
         "x": [
          "2009-04-15T00:00:00",
          "2008-07-30T00:00:00",
          "2015-07-14T00:00:00",
          "2012-07-23T00:00:00"
         ],
         "xaxis": "x",
         "y": [
          7.217391,
          8.083333,
          5.4,
          9.708333
         ],
         "yaxis": "y"
        },
        {
         "hovertemplate": "County=York<br>Date_Local=%{x}<br>NO2_Mean=%{y}<extra></extra>",
         "legendgroup": "York",
         "marker": {
          "color": "#511CFB",
          "opacity": 0.7,
          "symbol": "circle"
         },
         "mode": "markers",
         "name": "York",
         "orientation": "v",
         "showlegend": true,
         "type": "scatter",
         "x": [
          "2004-09-08T00:00:00",
          "2012-06-17T00:00:00",
          "2002-05-27T00:00:00",
          "2001-07-24T00:00:00",
          "2005-09-27T00:00:00",
          "2016-02-16T00:00:00",
          "2012-09-02T00:00:00",
          "2004-09-06T00:00:00",
          "2010-08-23T00:00:00",
          "2007-04-04T00:00:00",
          "2012-01-20T00:00:00"
         ],
         "xaxis": "x",
         "y": [
          9.083333,
          4.583333,
          8.208333,
          10.166667,
          15.333333,
          14.541667,
          7.5,
          1.916667,
          8.333333,
          9.909091,
          14.25
         ],
         "yaxis": "y"
        },
        {
         "hovertemplate": "County=Adair<br>Date_Local=%{x}<br>NO2_Mean=%{y}<extra></extra>",
         "legendgroup": "Adair",
         "marker": {
          "color": "#00A08B",
          "opacity": 0.7,
          "symbol": "circle"
         },
         "mode": "markers",
         "name": "Adair",
         "orientation": "v",
         "showlegend": true,
         "type": "scatter",
         "x": [
          "2012-10-30T00:00:00"
         ],
         "xaxis": "x",
         "y": [
          3.763636
         ],
         "yaxis": "y"
        },
        {
         "hovertemplate": "County=Pima<br>Date_Local=%{x}<br>NO2_Mean=%{y}<extra></extra>",
         "legendgroup": "Pima",
         "marker": {
          "color": "#FB00D1",
          "opacity": 0.7,
          "symbol": "circle"
         },
         "mode": "markers",
         "name": "Pima",
         "orientation": "v",
         "showlegend": true,
         "type": "scatter",
         "x": [
          "2003-06-20T00:00:00",
          "2015-05-08T00:00:00",
          "2009-09-05T00:00:00",
          "2002-01-16T00:00:00",
          "2002-05-01T00:00:00",
          "2009-09-28T00:00:00",
          "2006-12-01T00:00:00",
          "2009-11-25T00:00:00",
          "2009-05-26T00:00:00"
         ],
         "xaxis": "x",
         "y": [
          8.541667,
          3.395833,
          6.541667,
          27.173913,
          13.916667,
          12.708333,
          25.125,
          13.083333,
          7.5
         ],
         "yaxis": "y"
        },
        {
         "hovertemplate": "County=Meigs<br>Date_Local=%{x}<br>NO2_Mean=%{y}<extra></extra>",
         "legendgroup": "Meigs",
         "marker": {
          "color": "#FC0080",
          "opacity": 0.7,
          "symbol": "circle"
         },
         "mode": "markers",
         "name": "Meigs",
         "orientation": "v",
         "showlegend": true,
         "type": "scatter",
         "x": [
          "2002-09-28T00:00:00",
          "2003-03-01T00:00:00"
         ],
         "xaxis": "x",
         "y": [
          2.782609,
          8.826087
         ],
         "yaxis": "y"
        },
        {
         "hovertemplate": "County=Charleston<br>Date_Local=%{x}<br>NO2_Mean=%{y}<extra></extra>",
         "legendgroup": "Charleston",
         "marker": {
          "color": "#B2828D",
          "opacity": 0.7,
          "symbol": "circle"
         },
         "mode": "markers",
         "name": "Charleston",
         "orientation": "v",
         "showlegend": true,
         "type": "scatter",
         "x": [
          "2006-03-19T00:00:00"
         ],
         "xaxis": "x",
         "y": [
          3.25
         ],
         "yaxis": "y"
        },
        {
         "hovertemplate": "County=Laramie<br>Date_Local=%{x}<br>NO2_Mean=%{y}<extra></extra>",
         "legendgroup": "Laramie",
         "marker": {
          "color": "#6C7C32",
          "opacity": 0.7,
          "symbol": "circle"
         },
         "mode": "markers",
         "name": "Laramie",
         "orientation": "v",
         "showlegend": true,
         "type": "scatter",
         "x": [
          "2013-01-05T00:00:00",
          "2015-07-12T00:00:00",
          "2015-12-06T00:00:00",
          "2013-06-28T00:00:00"
         ],
         "xaxis": "x",
         "y": [
          4.9625,
          2.766667,
          9.690909,
          2.83913
         ],
         "yaxis": "y"
        },
        {
         "hovertemplate": "County=Oklahoma<br>Date_Local=%{x}<br>NO2_Mean=%{y}<extra></extra>",
         "legendgroup": "Oklahoma",
         "marker": {
          "color": "#778AAE",
          "opacity": 0.7,
          "symbol": "circle"
         },
         "mode": "markers",
         "name": "Oklahoma",
         "orientation": "v",
         "showlegend": true,
         "type": "scatter",
         "x": [
          "2012-11-08T00:00:00",
          "2014-10-12T00:00:00",
          "2014-11-02T00:00:00",
          "2011-12-16T00:00:00"
         ],
         "xaxis": "x",
         "y": [
          1.958333,
          4.375,
          2.083333,
          11.541667
         ],
         "yaxis": "y"
        },
        {
         "hovertemplate": "County=McLennan<br>Date_Local=%{x}<br>NO2_Mean=%{y}<extra></extra>",
         "legendgroup": "McLennan",
         "marker": {
          "color": "#862A16",
          "opacity": 0.7,
          "symbol": "circle"
         },
         "mode": "markers",
         "name": "McLennan",
         "orientation": "v",
         "showlegend": true,
         "type": "scatter",
         "x": [
          "2014-10-23T00:00:00",
          "2009-04-12T00:00:00",
          "2010-09-11T00:00:00",
          "2015-02-25T00:00:00",
          "2008-12-19T00:00:00",
          "2008-07-27T00:00:00",
          "2014-04-20T00:00:00",
          "2012-07-16T00:00:00"
         ],
         "xaxis": "x",
         "y": [
          1.929167,
          0.254545,
          1.85,
          1.65,
          5.941667,
          0.772727,
          -0.568182,
          1.008333
         ],
         "yaxis": "y"
        },
        {
         "hovertemplate": "County=Dauphin<br>Date_Local=%{x}<br>NO2_Mean=%{y}<extra></extra>",
         "legendgroup": "Dauphin",
         "marker": {
          "color": "#A777F1",
          "opacity": 0.7,
          "symbol": "circle"
         },
         "mode": "markers",
         "name": "Dauphin",
         "orientation": "v",
         "showlegend": true,
         "type": "scatter",
         "x": [
          "2008-07-01T00:00:00"
         ],
         "xaxis": "x",
         "y": [
          8.875
         ],
         "yaxis": "y"
        },
        {
         "hovertemplate": "County=Santa Clara<br>Date_Local=%{x}<br>NO2_Mean=%{y}<extra></extra>",
         "legendgroup": "Santa Clara",
         "marker": {
          "color": "#620042",
          "opacity": 0.7,
          "symbol": "circle"
         },
         "mode": "markers",
         "name": "Santa Clara",
         "orientation": "v",
         "showlegend": true,
         "type": "scatter",
         "x": [
          "2011-07-26T00:00:00",
          "2011-10-12T00:00:00",
          "2013-08-11T00:00:00",
          "2011-03-14T00:00:00",
          "2010-09-01T00:00:00",
          "2010-07-31T00:00:00",
          "2009-08-01T00:00:00",
          "2011-10-14T00:00:00",
          "2012-02-16T00:00:00"
         ],
         "xaxis": "x",
         "y": [
          5.838095,
          6.917391,
          4.209091,
          6.008696,
          10.210526,
          9.565217,
          5.782609,
          35.918182,
          12.4625
         ],
         "yaxis": "y"
        },
        {
         "hovertemplate": "County=Lawrence<br>Date_Local=%{x}<br>NO2_Mean=%{y}<extra></extra>",
         "legendgroup": "Lawrence",
         "marker": {
          "color": "#1616A7",
          "opacity": 0.7,
          "symbol": "circle"
         },
         "mode": "markers",
         "name": "Lawrence",
         "orientation": "v",
         "showlegend": true,
         "type": "scatter",
         "x": [
          "2002-05-14T00:00:00",
          "2001-07-05T00:00:00",
          "2004-06-08T00:00:00",
          "2002-08-13T00:00:00",
          "2001-06-18T00:00:00"
         ],
         "xaxis": "x",
         "y": [
          12.666667,
          16.125,
          19.75,
          23.625,
          18.916667
         ],
         "yaxis": "y"
        },
        {
         "hovertemplate": "County=Essex<br>Date_Local=%{x}<br>NO2_Mean=%{y}<extra></extra>",
         "legendgroup": "Essex",
         "marker": {
          "color": "#DA60CA",
          "opacity": 0.7,
          "symbol": "circle"
         },
         "mode": "markers",
         "name": "Essex",
         "orientation": "v",
         "showlegend": true,
         "type": "scatter",
         "x": [
          "2011-02-11T00:00:00",
          "2002-12-07T00:00:00",
          "2002-09-28T00:00:00",
          "2011-03-29T00:00:00",
          "2013-07-21T00:00:00",
          "2001-10-22T00:00:00"
         ],
         "xaxis": "x",
         "y": [
          39.125,
          41.458333,
          10.916667,
          11.75,
          13,
          37.208333
         ],
         "yaxis": "y"
        },
        {
         "hovertemplate": "County=Alexandria City<br>Date_Local=%{x}<br>NO2_Mean=%{y}<extra></extra>",
         "legendgroup": "Alexandria City",
         "marker": {
          "color": "#6C4516",
          "opacity": 0.7,
          "symbol": "circle"
         },
         "mode": "markers",
         "name": "Alexandria City",
         "orientation": "v",
         "showlegend": true,
         "type": "scatter",
         "x": [
          "2011-08-25T00:00:00",
          "2007-04-03T00:00:00",
          "2013-10-15T00:00:00",
          "2010-10-14T00:00:00"
         ],
         "xaxis": "x",
         "y": [
          9.991667,
          27.666667,
          16.620833,
          14.870833
         ],
         "yaxis": "y"
        },
        {
         "hovertemplate": "County=Kay<br>Date_Local=%{x}<br>NO2_Mean=%{y}<extra></extra>",
         "legendgroup": "Kay",
         "marker": {
          "color": "#0D2A63",
          "opacity": 0.7,
          "symbol": "circle"
         },
         "mode": "markers",
         "name": "Kay",
         "orientation": "v",
         "showlegend": true,
         "type": "scatter",
         "x": [
          "2003-10-13T00:00:00"
         ],
         "xaxis": "x",
         "y": [
          5.125
         ],
         "yaxis": "y"
        },
        {
         "hovertemplate": "County=Imperial<br>Date_Local=%{x}<br>NO2_Mean=%{y}<extra></extra>",
         "legendgroup": "Imperial",
         "marker": {
          "color": "#AF0038",
          "opacity": 0.7,
          "symbol": "circle"
         },
         "mode": "markers",
         "name": "Imperial",
         "orientation": "v",
         "showlegend": true,
         "type": "scatter",
         "x": [
          "2014-10-20T00:00:00",
          "2011-05-09T00:00:00",
          "2010-07-10T00:00:00",
          "2000-11-27T00:00:00",
          "2011-01-06T00:00:00",
          "2012-12-04T00:00:00",
          "2000-04-30T00:00:00",
          "2014-06-11T00:00:00",
          "2011-10-25T00:00:00",
          "2001-06-08T00:00:00",
          "2000-07-05T00:00:00"
         ],
         "xaxis": "x",
         "y": [
          15.717391,
          3.869565,
          13.043478,
          36.913043,
          20.347826,
          16.695652,
          14.826087,
          9.06087,
          11.26087,
          11.772727,
          13.217391
         ],
         "yaxis": "y"
        },
        {
         "hovertemplate": "County=Fremont<br>Date_Local=%{x}<br>NO2_Mean=%{y}<extra></extra>",
         "legendgroup": "Fremont",
         "marker": {
          "color": "#2E91E5",
          "opacity": 0.7,
          "symbol": "circle"
         },
         "mode": "markers",
         "name": "Fremont",
         "orientation": "v",
         "showlegend": true,
         "type": "scatter",
         "x": [
          "2014-10-08T00:00:00"
         ],
         "xaxis": "x",
         "y": [
          1.958333
         ],
         "yaxis": "y"
        },
        {
         "hovertemplate": "County=Baltimore<br>Date_Local=%{x}<br>NO2_Mean=%{y}<extra></extra>",
         "legendgroup": "Baltimore",
         "marker": {
          "color": "#E15F99",
          "opacity": 0.7,
          "symbol": "circle"
         },
         "mode": "markers",
         "name": "Baltimore",
         "orientation": "v",
         "showlegend": true,
         "type": "scatter",
         "x": [
          "2006-07-24T00:00:00"
         ],
         "xaxis": "x",
         "y": [
          12.478261
         ],
         "yaxis": "y"
        },
        {
         "hovertemplate": "County=Wyandotte<br>Date_Local=%{x}<br>NO2_Mean=%{y}<extra></extra>",
         "legendgroup": "Wyandotte",
         "marker": {
          "color": "#1CA71C",
          "opacity": 0.7,
          "symbol": "circle"
         },
         "mode": "markers",
         "name": "Wyandotte",
         "orientation": "v",
         "showlegend": true,
         "type": "scatter",
         "x": [
          "2012-05-04T00:00:00",
          "2001-01-25T00:00:00",
          "2009-11-25T00:00:00",
          "2006-03-25T00:00:00",
          "2006-01-02T00:00:00",
          "2005-06-22T00:00:00",
          "2010-09-10T00:00:00",
          "2005-05-30T00:00:00",
          "2012-08-24T00:00:00",
          "2008-06-12T00:00:00"
         ],
         "xaxis": "x",
         "y": [
          8.070833,
          21.083333,
          5.875,
          16.083333,
          11.416667,
          23.875,
          12.217391,
          8.833333,
          10.416667,
          10.125
         ],
         "yaxis": "y"
        },
        {
         "hovertemplate": "County=Kern<br>Date_Local=%{x}<br>NO2_Mean=%{y}<extra></extra>",
         "legendgroup": "Kern",
         "marker": {
          "color": "#FB0D0D",
          "opacity": 0.7,
          "symbol": "circle"
         },
         "mode": "markers",
         "name": "Kern",
         "orientation": "v",
         "showlegend": true,
         "type": "scatter",
         "x": [
          "2001-01-12T00:00:00"
         ],
         "xaxis": "x",
         "y": [
          22.521739
         ],
         "yaxis": "y"
        },
        {
         "hovertemplate": "County=Hamilton<br>Date_Local=%{x}<br>NO2_Mean=%{y}<extra></extra>",
         "legendgroup": "Hamilton",
         "marker": {
          "color": "#DA16FF",
          "opacity": 0.7,
          "symbol": "circle"
         },
         "mode": "markers",
         "name": "Hamilton",
         "orientation": "v",
         "showlegend": true,
         "type": "scatter",
         "x": [
          "2014-08-11T00:00:00",
          "2015-07-09T00:00:00"
         ],
         "xaxis": "x",
         "y": [
          7.875,
          5.208333
         ],
         "yaxis": "y"
        },
        {
         "hovertemplate": "County=Anoka<br>Date_Local=%{x}<br>NO2_Mean=%{y}<extra></extra>",
         "legendgroup": "Anoka",
         "marker": {
          "color": "#222A2A",
          "opacity": 0.7,
          "symbol": "circle"
         },
         "mode": "markers",
         "name": "Anoka",
         "orientation": "v",
         "showlegend": true,
         "type": "scatter",
         "x": [
          "2011-06-26T00:00:00",
          "2014-05-06T00:00:00"
         ],
         "xaxis": "x",
         "y": [
          2.75,
          1.958333
         ],
         "yaxis": "y"
        },
        {
         "hovertemplate": "County=Providence<br>Date_Local=%{x}<br>NO2_Mean=%{y}<extra></extra>",
         "legendgroup": "Providence",
         "marker": {
          "color": "#B68100",
          "opacity": 0.7,
          "symbol": "circle"
         },
         "mode": "markers",
         "name": "Providence",
         "orientation": "v",
         "showlegend": true,
         "type": "scatter",
         "x": [
          "2013-10-27T00:00:00",
          "2015-06-24T00:00:00",
          "2014-06-10T00:00:00",
          "2012-03-20T00:00:00"
         ],
         "xaxis": "x",
         "y": [
          6.225,
          2.8125,
          3.452174,
          10.0375
         ],
         "yaxis": "y"
        },
        {
         "hovertemplate": "County=Wayne<br>Date_Local=%{x}<br>NO2_Mean=%{y}<extra></extra>",
         "legendgroup": "Wayne",
         "marker": {
          "color": "#750D86",
          "opacity": 0.7,
          "symbol": "circle"
         },
         "mode": "markers",
         "name": "Wayne",
         "orientation": "v",
         "showlegend": true,
         "type": "scatter",
         "x": [
          "2002-07-17T00:00:00",
          "2002-04-17T00:00:00",
          "2003-08-02T00:00:00"
         ],
         "xaxis": "x",
         "y": [
          23.791667,
          24.333333,
          18.708333
         ],
         "yaxis": "y"
        },
        {
         "hovertemplate": "County=New Castle<br>Date_Local=%{x}<br>NO2_Mean=%{y}<extra></extra>",
         "legendgroup": "New Castle",
         "marker": {
          "color": "#EB663B",
          "opacity": 0.7,
          "symbol": "circle"
         },
         "mode": "markers",
         "name": "New Castle",
         "orientation": "v",
         "showlegend": true,
         "type": "scatter",
         "x": [
          "2011-09-22T00:00:00"
         ],
         "xaxis": "x",
         "y": [
          8.208333
         ],
         "yaxis": "y"
        },
        {
         "hovertemplate": "County=Fayette<br>Date_Local=%{x}<br>NO2_Mean=%{y}<extra></extra>",
         "legendgroup": "Fayette",
         "marker": {
          "color": "#511CFB",
          "opacity": 0.7,
          "symbol": "circle"
         },
         "mode": "markers",
         "name": "Fayette",
         "orientation": "v",
         "showlegend": true,
         "type": "scatter",
         "x": [
          "2002-07-01T00:00:00",
          "2001-05-27T00:00:00"
         ],
         "xaxis": "x",
         "y": [
          18.869565,
          3.826087
         ],
         "yaxis": "y"
        },
        {
         "hovertemplate": "County=Uinta<br>Date_Local=%{x}<br>NO2_Mean=%{y}<extra></extra>",
         "legendgroup": "Uinta",
         "marker": {
          "color": "#00A08B",
          "opacity": 0.7,
          "symbol": "circle"
         },
         "mode": "markers",
         "name": "Uinta",
         "orientation": "v",
         "showlegend": true,
         "type": "scatter",
         "x": [
          "2007-05-25T00:00:00",
          "2007-04-20T00:00:00",
          "2007-11-21T00:00:00"
         ],
         "xaxis": "x",
         "y": [
          0.666667,
          0,
          3.25
         ],
         "yaxis": "y"
        },
        {
         "hovertemplate": "County=Linn<br>Date_Local=%{x}<br>NO2_Mean=%{y}<extra></extra>",
         "legendgroup": "Linn",
         "marker": {
          "color": "#FB00D1",
          "opacity": 0.7,
          "symbol": "circle"
         },
         "mode": "markers",
         "name": "Linn",
         "orientation": "v",
         "showlegend": true,
         "type": "scatter",
         "x": [
          "2002-12-26T00:00:00"
         ],
         "xaxis": "x",
         "y": [
          8.041667
         ],
         "yaxis": "y"
        },
        {
         "hovertemplate": "County=Hampton City<br>Date_Local=%{x}<br>NO2_Mean=%{y}<extra></extra>",
         "legendgroup": "Hampton City",
         "marker": {
          "color": "#FC0080",
          "opacity": 0.7,
          "symbol": "circle"
         },
         "mode": "markers",
         "name": "Hampton City",
         "orientation": "v",
         "showlegend": true,
         "type": "scatter",
         "x": [
          "2010-10-20T00:00:00",
          "2010-08-18T00:00:00",
          "2012-10-15T00:00:00",
          "2011-08-16T00:00:00"
         ],
         "xaxis": "x",
         "y": [
          1.815789,
          3.768182,
          3.747826,
          5.142105
         ],
         "yaxis": "y"
        },
        {
         "hovertemplate": "County=Haywood<br>Date_Local=%{x}<br>NO2_Mean=%{y}<extra></extra>",
         "legendgroup": "Haywood",
         "marker": {
          "color": "#B2828D",
          "opacity": 0.7,
          "symbol": "circle"
         },
         "mode": "markers",
         "name": "Haywood",
         "orientation": "v",
         "showlegend": true,
         "type": "scatter",
         "x": [
          "2002-05-30T00:00:00"
         ],
         "xaxis": "x",
         "y": [
          1
         ],
         "yaxis": "y"
        },
        {
         "hovertemplate": "County=Montgomery<br>Date_Local=%{x}<br>NO2_Mean=%{y}<extra></extra>",
         "legendgroup": "Montgomery",
         "marker": {
          "color": "#6C7C32",
          "opacity": 0.7,
          "symbol": "circle"
         },
         "mode": "markers",
         "name": "Montgomery",
         "orientation": "v",
         "showlegend": true,
         "type": "scatter",
         "x": [
          "2006-06-28T00:00:00",
          "2003-06-08T00:00:00",
          "2006-05-09T00:00:00",
          "2001-09-14T00:00:00"
         ],
         "xaxis": "x",
         "y": [
          8.333333,
          9.5,
          11.75,
          11.25
         ],
         "yaxis": "y"
        },
        {
         "hovertemplate": "County=Union<br>Date_Local=%{x}<br>NO2_Mean=%{y}<extra></extra>",
         "legendgroup": "Union",
         "marker": {
          "color": "#778AAE",
          "opacity": 0.7,
          "symbol": "circle"
         },
         "mode": "markers",
         "name": "Union",
         "orientation": "v",
         "showlegend": true,
         "type": "scatter",
         "x": [
          "2013-04-01T00:00:00"
         ],
         "xaxis": "x",
         "y": [
          1.970833
         ],
         "yaxis": "y"
        },
        {
         "hovertemplate": "County=Fairbanks North Star <br>Date_Local=%{x}<br>NO2_Mean=%{y}<extra></extra>",
         "legendgroup": "Fairbanks North Star ",
         "marker": {
          "color": "#862A16",
          "opacity": 0.7,
          "symbol": "circle"
         },
         "mode": "markers",
         "name": "Fairbanks North Star ",
         "orientation": "v",
         "showlegend": true,
         "type": "scatter",
         "x": [
          "2014-11-25T00:00:00"
         ],
         "xaxis": "x",
         "y": [
          13.2
         ],
         "yaxis": "y"
        },
        {
         "hovertemplate": "County=Clark<br>Date_Local=%{x}<br>NO2_Mean=%{y}<extra></extra>",
         "legendgroup": "Clark",
         "marker": {
          "color": "#A777F1",
          "opacity": 0.7,
          "symbol": "circle"
         },
         "mode": "markers",
         "name": "Clark",
         "orientation": "v",
         "showlegend": true,
         "type": "scatter",
         "x": [
          "2003-01-08T00:00:00"
         ],
         "xaxis": "x",
         "y": [
          7.347826
         ],
         "yaxis": "y"
        },
        {
         "hovertemplate": "County=Luzerne<br>Date_Local=%{x}<br>NO2_Mean=%{y}<extra></extra>",
         "legendgroup": "Luzerne",
         "marker": {
          "color": "#620042",
          "opacity": 0.7,
          "symbol": "circle"
         },
         "mode": "markers",
         "name": "Luzerne",
         "orientation": "v",
         "showlegend": true,
         "type": "scatter",
         "x": [
          "2008-09-26T00:00:00"
         ],
         "xaxis": "x",
         "y": [
          5.833333
         ],
         "yaxis": "y"
        },
        {
         "hovertemplate": "County=Uintah<br>Date_Local=%{x}<br>NO2_Mean=%{y}<extra></extra>",
         "legendgroup": "Uintah",
         "marker": {
          "color": "#1616A7",
          "opacity": 0.7,
          "symbol": "circle"
         },
         "mode": "markers",
         "name": "Uintah",
         "orientation": "v",
         "showlegend": true,
         "type": "scatter",
         "x": [
          "2012-09-27T00:00:00"
         ],
         "xaxis": "x",
         "y": [
          2.133333
         ],
         "yaxis": "y"
        },
        {
         "hovertemplate": "County=King<br>Date_Local=%{x}<br>NO2_Mean=%{y}<extra></extra>",
         "legendgroup": "King",
         "marker": {
          "color": "#DA60CA",
          "opacity": 0.7,
          "symbol": "circle"
         },
         "mode": "markers",
         "name": "King",
         "orientation": "v",
         "showlegend": true,
         "type": "scatter",
         "x": [
          "2015-08-13T00:00:00"
         ],
         "xaxis": "x",
         "y": [
          14.034783
         ],
         "yaxis": "y"
        },
        {
         "hovertemplate": "County=Minnehaha<br>Date_Local=%{x}<br>NO2_Mean=%{y}<extra></extra>",
         "legendgroup": "Minnehaha",
         "marker": {
          "color": "#6C4516",
          "opacity": 0.7,
          "symbol": "circle"
         },
         "mode": "markers",
         "name": "Minnehaha",
         "orientation": "v",
         "showlegend": true,
         "type": "scatter",
         "x": [
          "2012-11-06T00:00:00",
          "2014-09-21T00:00:00"
         ],
         "xaxis": "x",
         "y": [
          4.1,
          3.608333
         ],
         "yaxis": "y"
        },
        {
         "hovertemplate": "County=Sweetwater<br>Date_Local=%{x}<br>NO2_Mean=%{y}<extra></extra>",
         "legendgroup": "Sweetwater",
         "marker": {
          "color": "#0D2A63",
          "opacity": 0.7,
          "symbol": "circle"
         },
         "mode": "markers",
         "name": "Sweetwater",
         "orientation": "v",
         "showlegend": true,
         "type": "scatter",
         "x": [
          "2012-12-24T00:00:00"
         ],
         "xaxis": "x",
         "y": [
          5.916667
         ],
         "yaxis": "y"
        },
        {
         "hovertemplate": "County=McCracken<br>Date_Local=%{x}<br>NO2_Mean=%{y}<extra></extra>",
         "legendgroup": "McCracken",
         "marker": {
          "color": "#AF0038",
          "opacity": 0.7,
          "symbol": "circle"
         },
         "mode": "markers",
         "name": "McCracken",
         "orientation": "v",
         "showlegend": true,
         "type": "scatter",
         "x": [
          "2001-04-08T00:00:00"
         ],
         "xaxis": "x",
         "y": [
          1.73913
         ],
         "yaxis": "y"
        }
       ],
       "layout": {
        "dragmode": "pan",
        "hovermode": "closest",
        "legend": {
         "title": {
          "text": "County"
         },
         "tracegroupgap": 0
        },
        "margin": {
         "b": 20,
         "l": 20,
         "r": 20,
         "t": 20
        },
        "template": {
         "data": {
          "bar": [
           {
            "error_x": {
             "color": "#2a3f5f"
            },
            "error_y": {
             "color": "#2a3f5f"
            },
            "marker": {
             "line": {
              "color": "#E5ECF6",
              "width": 0.5
             },
             "pattern": {
              "fillmode": "overlay",
              "size": 10,
              "solidity": 0.2
             }
            },
            "type": "bar"
           }
          ],
          "barpolar": [
           {
            "marker": {
             "line": {
              "color": "#E5ECF6",
              "width": 0.5
             },
             "pattern": {
              "fillmode": "overlay",
              "size": 10,
              "solidity": 0.2
             }
            },
            "type": "barpolar"
           }
          ],
          "carpet": [
           {
            "aaxis": {
             "endlinecolor": "#2a3f5f",
             "gridcolor": "white",
             "linecolor": "white",
             "minorgridcolor": "white",
             "startlinecolor": "#2a3f5f"
            },
            "baxis": {
             "endlinecolor": "#2a3f5f",
             "gridcolor": "white",
             "linecolor": "white",
             "minorgridcolor": "white",
             "startlinecolor": "#2a3f5f"
            },
            "type": "carpet"
           }
          ],
          "choropleth": [
           {
            "colorbar": {
             "outlinewidth": 0,
             "ticks": ""
            },
            "type": "choropleth"
           }
          ],
          "contour": [
           {
            "colorbar": {
             "outlinewidth": 0,
             "ticks": ""
            },
            "colorscale": [
             [
              0,
              "#0d0887"
             ],
             [
              0.1111111111111111,
              "#46039f"
             ],
             [
              0.2222222222222222,
              "#7201a8"
             ],
             [
              0.3333333333333333,
              "#9c179e"
             ],
             [
              0.4444444444444444,
              "#bd3786"
             ],
             [
              0.5555555555555556,
              "#d8576b"
             ],
             [
              0.6666666666666666,
              "#ed7953"
             ],
             [
              0.7777777777777778,
              "#fb9f3a"
             ],
             [
              0.8888888888888888,
              "#fdca26"
             ],
             [
              1,
              "#f0f921"
             ]
            ],
            "type": "contour"
           }
          ],
          "contourcarpet": [
           {
            "colorbar": {
             "outlinewidth": 0,
             "ticks": ""
            },
            "type": "contourcarpet"
           }
          ],
          "heatmap": [
           {
            "colorbar": {
             "outlinewidth": 0,
             "ticks": ""
            },
            "colorscale": [
             [
              0,
              "#0d0887"
             ],
             [
              0.1111111111111111,
              "#46039f"
             ],
             [
              0.2222222222222222,
              "#7201a8"
             ],
             [
              0.3333333333333333,
              "#9c179e"
             ],
             [
              0.4444444444444444,
              "#bd3786"
             ],
             [
              0.5555555555555556,
              "#d8576b"
             ],
             [
              0.6666666666666666,
              "#ed7953"
             ],
             [
              0.7777777777777778,
              "#fb9f3a"
             ],
             [
              0.8888888888888888,
              "#fdca26"
             ],
             [
              1,
              "#f0f921"
             ]
            ],
            "type": "heatmap"
           }
          ],
          "heatmapgl": [
           {
            "colorbar": {
             "outlinewidth": 0,
             "ticks": ""
            },
            "colorscale": [
             [
              0,
              "#0d0887"
             ],
             [
              0.1111111111111111,
              "#46039f"
             ],
             [
              0.2222222222222222,
              "#7201a8"
             ],
             [
              0.3333333333333333,
              "#9c179e"
             ],
             [
              0.4444444444444444,
              "#bd3786"
             ],
             [
              0.5555555555555556,
              "#d8576b"
             ],
             [
              0.6666666666666666,
              "#ed7953"
             ],
             [
              0.7777777777777778,
              "#fb9f3a"
             ],
             [
              0.8888888888888888,
              "#fdca26"
             ],
             [
              1,
              "#f0f921"
             ]
            ],
            "type": "heatmapgl"
           }
          ],
          "histogram": [
           {
            "marker": {
             "pattern": {
              "fillmode": "overlay",
              "size": 10,
              "solidity": 0.2
             }
            },
            "type": "histogram"
           }
          ],
          "histogram2d": [
           {
            "colorbar": {
             "outlinewidth": 0,
             "ticks": ""
            },
            "colorscale": [
             [
              0,
              "#0d0887"
             ],
             [
              0.1111111111111111,
              "#46039f"
             ],
             [
              0.2222222222222222,
              "#7201a8"
             ],
             [
              0.3333333333333333,
              "#9c179e"
             ],
             [
              0.4444444444444444,
              "#bd3786"
             ],
             [
              0.5555555555555556,
              "#d8576b"
             ],
             [
              0.6666666666666666,
              "#ed7953"
             ],
             [
              0.7777777777777778,
              "#fb9f3a"
             ],
             [
              0.8888888888888888,
              "#fdca26"
             ],
             [
              1,
              "#f0f921"
             ]
            ],
            "type": "histogram2d"
           }
          ],
          "histogram2dcontour": [
           {
            "colorbar": {
             "outlinewidth": 0,
             "ticks": ""
            },
            "colorscale": [
             [
              0,
              "#0d0887"
             ],
             [
              0.1111111111111111,
              "#46039f"
             ],
             [
              0.2222222222222222,
              "#7201a8"
             ],
             [
              0.3333333333333333,
              "#9c179e"
             ],
             [
              0.4444444444444444,
              "#bd3786"
             ],
             [
              0.5555555555555556,
              "#d8576b"
             ],
             [
              0.6666666666666666,
              "#ed7953"
             ],
             [
              0.7777777777777778,
              "#fb9f3a"
             ],
             [
              0.8888888888888888,
              "#fdca26"
             ],
             [
              1,
              "#f0f921"
             ]
            ],
            "type": "histogram2dcontour"
           }
          ],
          "mesh3d": [
           {
            "colorbar": {
             "outlinewidth": 0,
             "ticks": ""
            },
            "type": "mesh3d"
           }
          ],
          "parcoords": [
           {
            "line": {
             "colorbar": {
              "outlinewidth": 0,
              "ticks": ""
             }
            },
            "type": "parcoords"
           }
          ],
          "pie": [
           {
            "automargin": true,
            "type": "pie"
           }
          ],
          "scatter": [
           {
            "fillpattern": {
             "fillmode": "overlay",
             "size": 10,
             "solidity": 0.2
            },
            "type": "scatter"
           }
          ],
          "scatter3d": [
           {
            "line": {
             "colorbar": {
              "outlinewidth": 0,
              "ticks": ""
             }
            },
            "marker": {
             "colorbar": {
              "outlinewidth": 0,
              "ticks": ""
             }
            },
            "type": "scatter3d"
           }
          ],
          "scattercarpet": [
           {
            "marker": {
             "colorbar": {
              "outlinewidth": 0,
              "ticks": ""
             }
            },
            "type": "scattercarpet"
           }
          ],
          "scattergeo": [
           {
            "marker": {
             "colorbar": {
              "outlinewidth": 0,
              "ticks": ""
             }
            },
            "type": "scattergeo"
           }
          ],
          "scattergl": [
           {
            "marker": {
             "colorbar": {
              "outlinewidth": 0,
              "ticks": ""
             }
            },
            "type": "scattergl"
           }
          ],
          "scattermapbox": [
           {
            "marker": {
             "colorbar": {
              "outlinewidth": 0,
              "ticks": ""
             }
            },
            "type": "scattermapbox"
           }
          ],
          "scatterpolar": [
           {
            "marker": {
             "colorbar": {
              "outlinewidth": 0,
              "ticks": ""
             }
            },
            "type": "scatterpolar"
           }
          ],
          "scatterpolargl": [
           {
            "marker": {
             "colorbar": {
              "outlinewidth": 0,
              "ticks": ""
             }
            },
            "type": "scatterpolargl"
           }
          ],
          "scatterternary": [
           {
            "marker": {
             "colorbar": {
              "outlinewidth": 0,
              "ticks": ""
             }
            },
            "type": "scatterternary"
           }
          ],
          "surface": [
           {
            "colorbar": {
             "outlinewidth": 0,
             "ticks": ""
            },
            "colorscale": [
             [
              0,
              "#0d0887"
             ],
             [
              0.1111111111111111,
              "#46039f"
             ],
             [
              0.2222222222222222,
              "#7201a8"
             ],
             [
              0.3333333333333333,
              "#9c179e"
             ],
             [
              0.4444444444444444,
              "#bd3786"
             ],
             [
              0.5555555555555556,
              "#d8576b"
             ],
             [
              0.6666666666666666,
              "#ed7953"
             ],
             [
              0.7777777777777778,
              "#fb9f3a"
             ],
             [
              0.8888888888888888,
              "#fdca26"
             ],
             [
              1,
              "#f0f921"
             ]
            ],
            "type": "surface"
           }
          ],
          "table": [
           {
            "cells": {
             "fill": {
              "color": "#EBF0F8"
             },
             "line": {
              "color": "white"
             }
            },
            "header": {
             "fill": {
              "color": "#C8D4E3"
             },
             "line": {
              "color": "white"
             }
            },
            "type": "table"
           }
          ]
         },
         "layout": {
          "annotationdefaults": {
           "arrowcolor": "#2a3f5f",
           "arrowhead": 0,
           "arrowwidth": 1
          },
          "autotypenumbers": "strict",
          "coloraxis": {
           "colorbar": {
            "outlinewidth": 0,
            "ticks": ""
           }
          },
          "colorscale": {
           "diverging": [
            [
             0,
             "#8e0152"
            ],
            [
             0.1,
             "#c51b7d"
            ],
            [
             0.2,
             "#de77ae"
            ],
            [
             0.3,
             "#f1b6da"
            ],
            [
             0.4,
             "#fde0ef"
            ],
            [
             0.5,
             "#f7f7f7"
            ],
            [
             0.6,
             "#e6f5d0"
            ],
            [
             0.7,
             "#b8e186"
            ],
            [
             0.8,
             "#7fbc41"
            ],
            [
             0.9,
             "#4d9221"
            ],
            [
             1,
             "#276419"
            ]
           ],
           "sequential": [
            [
             0,
             "#0d0887"
            ],
            [
             0.1111111111111111,
             "#46039f"
            ],
            [
             0.2222222222222222,
             "#7201a8"
            ],
            [
             0.3333333333333333,
             "#9c179e"
            ],
            [
             0.4444444444444444,
             "#bd3786"
            ],
            [
             0.5555555555555556,
             "#d8576b"
            ],
            [
             0.6666666666666666,
             "#ed7953"
            ],
            [
             0.7777777777777778,
             "#fb9f3a"
            ],
            [
             0.8888888888888888,
             "#fdca26"
            ],
            [
             1,
             "#f0f921"
            ]
           ],
           "sequentialminus": [
            [
             0,
             "#0d0887"
            ],
            [
             0.1111111111111111,
             "#46039f"
            ],
            [
             0.2222222222222222,
             "#7201a8"
            ],
            [
             0.3333333333333333,
             "#9c179e"
            ],
            [
             0.4444444444444444,
             "#bd3786"
            ],
            [
             0.5555555555555556,
             "#d8576b"
            ],
            [
             0.6666666666666666,
             "#ed7953"
            ],
            [
             0.7777777777777778,
             "#fb9f3a"
            ],
            [
             0.8888888888888888,
             "#fdca26"
            ],
            [
             1,
             "#f0f921"
            ]
           ]
          },
          "colorway": [
           "#636efa",
           "#EF553B",
           "#00cc96",
           "#ab63fa",
           "#FFA15A",
           "#19d3f3",
           "#FF6692",
           "#B6E880",
           "#FF97FF",
           "#FECB52"
          ],
          "font": {
           "color": "#2a3f5f"
          },
          "geo": {
           "bgcolor": "white",
           "lakecolor": "white",
           "landcolor": "#E5ECF6",
           "showlakes": true,
           "showland": true,
           "subunitcolor": "white"
          },
          "hoverlabel": {
           "align": "left"
          },
          "hovermode": "closest",
          "mapbox": {
           "style": "light"
          },
          "paper_bgcolor": "white",
          "plot_bgcolor": "#E5ECF6",
          "polar": {
           "angularaxis": {
            "gridcolor": "white",
            "linecolor": "white",
            "ticks": ""
           },
           "bgcolor": "#E5ECF6",
           "radialaxis": {
            "gridcolor": "white",
            "linecolor": "white",
            "ticks": ""
           }
          },
          "scene": {
           "xaxis": {
            "backgroundcolor": "#E5ECF6",
            "gridcolor": "white",
            "gridwidth": 2,
            "linecolor": "white",
            "showbackground": true,
            "ticks": "",
            "zerolinecolor": "white"
           },
           "yaxis": {
            "backgroundcolor": "#E5ECF6",
            "gridcolor": "white",
            "gridwidth": 2,
            "linecolor": "white",
            "showbackground": true,
            "ticks": "",
            "zerolinecolor": "white"
           },
           "zaxis": {
            "backgroundcolor": "#E5ECF6",
            "gridcolor": "white",
            "gridwidth": 2,
            "linecolor": "white",
            "showbackground": true,
            "ticks": "",
            "zerolinecolor": "white"
           }
          },
          "shapedefaults": {
           "line": {
            "color": "#2a3f5f"
           }
          },
          "ternary": {
           "aaxis": {
            "gridcolor": "white",
            "linecolor": "white",
            "ticks": ""
           },
           "baxis": {
            "gridcolor": "white",
            "linecolor": "white",
            "ticks": ""
           },
           "bgcolor": "#E5ECF6",
           "caxis": {
            "gridcolor": "white",
            "linecolor": "white",
            "ticks": ""
           }
          },
          "title": {
           "x": 0.05
          },
          "xaxis": {
           "automargin": true,
           "gridcolor": "white",
           "linecolor": "white",
           "ticks": "",
           "title": {
            "standoff": 15
           },
           "zerolinecolor": "white",
           "zerolinewidth": 2
          },
          "yaxis": {
           "automargin": true,
           "gridcolor": "white",
           "linecolor": "white",
           "ticks": "",
           "title": {
            "standoff": 15
           },
           "zerolinecolor": "white",
           "zerolinewidth": 2
          }
         }
        },
        "xaxis": {
         "anchor": "y",
         "domain": [
          0,
          1
         ],
         "tickformat": "%Y-%m-%d",
         "title": {
          "text": "Date Local"
         }
        },
        "yaxis": {
         "anchor": "x",
         "domain": [
          0,
          1
         ],
         "range": [
          0,
          70
         ],
         "title": {
          "text": "NO2 Mean"
         }
        }
       }
      },
      "text/html": [
       "<div>                            <div id=\"07a21276-f0a8-41dd-8451-0eeb0bfeb102\" class=\"plotly-graph-div\" style=\"height:525px; width:100%;\"></div>            <script type=\"text/javascript\">                require([\"plotly\"], function(Plotly) {                    window.PLOTLYENV=window.PLOTLYENV || {};                                    if (document.getElementById(\"07a21276-f0a8-41dd-8451-0eeb0bfeb102\")) {                    Plotly.newPlot(                        \"07a21276-f0a8-41dd-8451-0eeb0bfeb102\",                        [{\"hovertemplate\":\"County=Bronx<br>Date_Local=%{x}<br>NO2_Mean=%{y}<extra></extra>\",\"legendgroup\":\"Bronx\",\"marker\":{\"color\":\"#2E91E5\",\"opacity\":0.7,\"symbol\":\"circle\"},\"mode\":\"markers\",\"name\":\"Bronx\",\"orientation\":\"v\",\"showlegend\":true,\"x\":[\"2013-11-22T00:00:00\",\"2011-04-13T00:00:00\",\"2008-07-13T00:00:00\",\"2004-08-11T00:00:00\",\"2003-07-27T00:00:00\",\"2004-07-22T00:00:00\",\"2007-06-15T00:00:00\",\"2006-02-17T00:00:00\",\"2001-10-09T00:00:00\"],\"xaxis\":\"x\",\"y\":[30.141667,15.025,9.416667,23.583333,20.791667,28.434783,20.791667,29.291667,39.125],\"yaxis\":\"y\",\"type\":\"scatter\"},{\"hovertemplate\":\"County=Marion<br>Date_Local=%{x}<br>NO2_Mean=%{y}<extra></extra>\",\"legendgroup\":\"Marion\",\"marker\":{\"color\":\"#E15F99\",\"opacity\":0.7,\"symbol\":\"circle\"},\"mode\":\"markers\",\"name\":\"Marion\",\"orientation\":\"v\",\"showlegend\":true,\"x\":[\"2000-06-18T00:00:00\",\"2015-06-14T00:00:00\",\"2001-04-28T00:00:00\",\"2014-03-21T00:00:00\",\"2015-09-15T00:00:00\",\"2007-06-24T00:00:00\",\"2013-06-17T00:00:00\",\"2015-06-01T00:00:00\",\"2000-09-20T00:00:00\"],\"xaxis\":\"x\",\"y\":[9.541667,9.808333,11.0,14.64,15.65,6.541667,13.7,9.866667,11.333333],\"yaxis\":\"y\",\"type\":\"scatter\"},{\"hovertemplate\":\"County=Fresno<br>Date_Local=%{x}<br>NO2_Mean=%{y}<extra></extra>\",\"legendgroup\":\"Fresno\",\"marker\":{\"color\":\"#1CA71C\",\"opacity\":0.7,\"symbol\":\"circle\"},\"mode\":\"markers\",\"name\":\"Fresno\",\"orientation\":\"v\",\"showlegend\":true,\"x\":[\"2007-12-09T00:00:00\",\"2014-11-04T00:00:00\",\"2012-03-25T00:00:00\",\"2009-12-17T00:00:00\",\"2015-01-15T00:00:00\",\"2009-02-01T00:00:00\",\"2011-07-31T00:00:00\",\"2009-10-05T00:00:00\",\"2016-01-25T00:00:00\",\"2008-12-22T00:00:00\",\"2009-09-05T00:00:00\",\"2003-07-18T00:00:00\",\"2003-04-18T00:00:00\"],\"xaxis\":\"x\",\"y\":[20.347826,16.495652,9.109524,17.086957,12.308696,21.043478,7.26087,13.521739,13.254545,17.772727,6.304348,24.521739,10.652174],\"yaxis\":\"y\",\"type\":\"scatter\"},{\"hovertemplate\":\"County=Maricopa<br>Date_Local=%{x}<br>NO2_Mean=%{y}<extra></extra>\",\"legendgroup\":\"Maricopa\",\"marker\":{\"color\":\"#FB0D0D\",\"opacity\":0.7,\"symbol\":\"circle\"},\"mode\":\"markers\",\"name\":\"Maricopa\",\"orientation\":\"v\",\"showlegend\":true,\"x\":[\"2012-03-02T00:00:00\",\"2004-06-15T00:00:00\",\"2004-12-12T00:00:00\",\"2000-01-18T00:00:00\",\"2007-12-31T00:00:00\",\"2006-09-18T00:00:00\",\"2005-08-01T00:00:00\",\"2009-03-03T00:00:00\",\"2008-09-15T00:00:00\",\"2009-02-01T00:00:00\",\"2001-03-28T00:00:00\",\"2008-03-12T00:00:00\",\"2005-03-02T00:00:00\",\"2001-03-22T00:00:00\",\"2008-02-03T00:00:00\",\"2011-05-21T00:00:00\",\"2014-04-26T00:00:00\",\"2008-02-09T00:00:00\",\"2010-05-29T00:00:00\",\"2014-09-07T00:00:00\",\"2011-07-12T00:00:00\",\"2005-08-11T00:00:00\",\"2006-06-25T00:00:00\",\"2007-09-17T00:00:00\",\"2015-11-21T00:00:00\",\"2011-01-31T00:00:00\",\"2006-03-14T00:00:00\",\"2011-11-07T00:00:00\"],\"xaxis\":\"x\",\"y\":[21.375,20.083333,21.291667,110.136364,23.875,26.779167,10.291667,31.333333,6.190476,26.75,33.5,20.958333,23.75,22.208333,18.291667,16.041667,5.083333,32.0,13.25,4.708333,12.541667,15.558333,14.583333,12.904762,24.333333,17.083333,33.791667,15.26087],\"yaxis\":\"y\",\"type\":\"scatter\"},{\"hovertemplate\":\"County=Humboldt<br>Date_Local=%{x}<br>NO2_Mean=%{y}<extra></extra>\",\"legendgroup\":\"Humboldt\",\"marker\":{\"color\":\"#DA16FF\",\"opacity\":0.7,\"symbol\":\"circle\"},\"mode\":\"markers\",\"name\":\"Humboldt\",\"orientation\":\"v\",\"showlegend\":true,\"x\":[\"2007-09-29T00:00:00\",\"2012-03-05T00:00:00\",\"2014-02-08T00:00:00\",\"2011-12-27T00:00:00\",\"2016-01-28T00:00:00\",\"2010-09-09T00:00:00\",\"2007-11-03T00:00:00\",\"2015-12-02T00:00:00\",\"2013-05-30T00:00:00\",\"2015-07-31T00:00:00\"],\"xaxis\":\"x\",\"y\":[3.619048,0.833333,1.890909,0.529167,3.465217,2.628571,7.142857,0.285,0.629167,1.55],\"yaxis\":\"y\",\"type\":\"scatter\"},{\"hovertemplate\":\"County=Washington<br>Date_Local=%{x}<br>NO2_Mean=%{y}<extra></extra>\",\"legendgroup\":\"Washington\",\"marker\":{\"color\":\"#222A2A\",\"opacity\":0.7,\"symbol\":\"circle\"},\"mode\":\"markers\",\"name\":\"Washington\",\"orientation\":\"v\",\"showlegend\":true,\"x\":[\"2011-04-29T00:00:00\",\"2003-08-24T00:00:00\",\"2000-10-21T00:00:00\",\"2013-11-24T00:00:00\",\"2015-12-29T00:00:00\",\"2011-12-22T00:00:00\",\"2002-04-02T00:00:00\",\"2002-09-08T00:00:00\",\"2014-05-28T00:00:00\",\"2015-12-09T00:00:00\"],\"xaxis\":\"x\",\"y\":[2.958333,11.916667,16.375,1.458333,8.916667,12.333333,20.75,22.791667,6.666667,11.916667],\"yaxis\":\"y\",\"type\":\"scatter\"},{\"hovertemplate\":\"County=Santa Barbara<br>Date_Local=%{x}<br>NO2_Mean=%{y}<extra></extra>\",\"legendgroup\":\"Santa Barbara\",\"marker\":{\"color\":\"#B68100\",\"opacity\":0.7,\"symbol\":\"circle\"},\"mode\":\"markers\",\"name\":\"Santa Barbara\",\"orientation\":\"v\",\"showlegend\":true,\"x\":[\"2013-07-24T00:00:00\",\"2010-09-01T00:00:00\",\"2004-04-01T00:00:00\",\"2012-10-01T00:00:00\",\"2002-04-19T00:00:00\",\"2011-12-21T00:00:00\",\"2015-06-22T00:00:00\",\"2007-06-05T00:00:00\",\"2005-02-16T00:00:00\",\"2005-08-28T00:00:00\",\"2008-04-04T00:00:00\",\"2003-06-27T00:00:00\",\"2005-09-16T00:00:00\",\"2000-08-20T00:00:00\",\"2007-05-31T00:00:00\",\"2013-06-14T00:00:00\",\"2001-06-11T00:00:00\",\"2004-06-22T00:00:00\",\"2003-10-18T00:00:00\",\"2010-06-23T00:00:00\",\"2008-05-11T00:00:00\",\"2003-05-16T00:00:00\",\"2015-05-06T00:00:00\",\"2012-06-04T00:00:00\",\"2015-04-05T00:00:00\",\"2004-04-08T00:00:00\",\"2009-08-13T00:00:00\",\"2012-04-05T00:00:00\",\"2012-02-09T00:00:00\",\"2003-07-02T00:00:00\",\"2004-10-16T00:00:00\",\"2002-05-21T00:00:00\",\"2009-02-20T00:00:00\",\"2004-04-17T00:00:00\",\"2015-08-26T00:00:00\",\"2000-01-25T00:00:00\",\"2009-01-25T00:00:00\"],\"xaxis\":\"x\",\"y\":[3.521739,5.173913,2.25,1.285714,5.73913,7.956522,0.714286,5.173913,10.869565,5.285714,1.0,6.26087,4.391304,0.0,5.913043,0.043478,3.043478,6.73913,13.428571,0.391304,1.0,0.1,0.0,1.0,0.086957,2.608696,0.869565,0.954545,8.391304,0.090909,2.380952,4.086957,1.608696,0.904762,1.478261,6.608696,2.521739],\"yaxis\":\"y\",\"type\":\"scatter\"},{\"hovertemplate\":\"County=Henrico<br>Date_Local=%{x}<br>NO2_Mean=%{y}<extra></extra>\",\"legendgroup\":\"Henrico\",\"marker\":{\"color\":\"#750D86\",\"opacity\":0.7,\"symbol\":\"circle\"},\"mode\":\"markers\",\"name\":\"Henrico\",\"orientation\":\"v\",\"showlegend\":true,\"x\":[\"2011-10-14T00:00:00\",\"2012-04-28T00:00:00\"],\"xaxis\":\"x\",\"y\":[8.921739,5.15],\"yaxis\":\"y\",\"type\":\"scatter\"},{\"hovertemplate\":\"County=Steuben<br>Date_Local=%{x}<br>NO2_Mean=%{y}<extra></extra>\",\"legendgroup\":\"Steuben\",\"marker\":{\"color\":\"#EB663B\",\"opacity\":0.7,\"symbol\":\"circle\"},\"mode\":\"markers\",\"name\":\"Steuben\",\"orientation\":\"v\",\"showlegend\":true,\"x\":[\"2011-05-08T00:00:00\"],\"xaxis\":\"x\",\"y\":[1.3375],\"yaxis\":\"y\",\"type\":\"scatter\"},{\"hovertemplate\":\"County=Contra Costa<br>Date_Local=%{x}<br>NO2_Mean=%{y}<extra></extra>\",\"legendgroup\":\"Contra Costa\",\"marker\":{\"color\":\"#511CFB\",\"opacity\":0.7,\"symbol\":\"circle\"},\"mode\":\"markers\",\"name\":\"Contra Costa\",\"orientation\":\"v\",\"showlegend\":true,\"x\":[\"2000-06-30T00:00:00\",\"2012-03-11T00:00:00\",\"2003-04-16T00:00:00\",\"2012-12-14T00:00:00\",\"2005-02-13T00:00:00\",\"2014-02-12T00:00:00\",\"2007-05-16T00:00:00\",\"2003-04-27T00:00:00\",\"2007-03-25T00:00:00\",\"2015-12-15T00:00:00\",\"2011-08-20T00:00:00\",\"2000-06-09T00:00:00\",\"2016-01-29T00:00:00\",\"2012-01-23T00:00:00\",\"2010-01-22T00:00:00\",\"2006-11-13T00:00:00\",\"2013-11-14T00:00:00\",\"2013-04-18T00:00:00\",\"2003-10-30T00:00:00\",\"2008-07-21T00:00:00\",\"2000-02-22T00:00:00\",\"2011-11-16T00:00:00\",\"2000-01-19T00:00:00\",\"2005-01-14T00:00:00\",\"2000-11-05T00:00:00\",\"2007-01-28T00:00:00\",\"2005-12-25T00:00:00\",\"2007-01-03T00:00:00\",\"2006-08-28T00:00:00\",\"2004-09-17T00:00:00\",\"2003-09-15T00:00:00\",\"2006-09-01T00:00:00\",\"2008-04-20T00:00:00\",\"2002-06-01T00:00:00\",\"2008-09-21T00:00:00\",\"2008-11-29T00:00:00\",\"2013-02-11T00:00:00\",\"2014-02-14T00:00:00\",\"2005-01-09T00:00:00\",\"2004-05-18T00:00:00\",\"2013-10-26T00:00:00\",\"2003-02-26T00:00:00\",\"2010-08-30T00:00:00\",\"2006-08-10T00:00:00\",\"2010-10-20T00:00:00\",\"2002-02-19T00:00:00\",\"2012-08-27T00:00:00\",\"2004-05-14T00:00:00\",\"2002-10-13T00:00:00\",\"2007-05-13T00:00:00\",\"2008-09-11T00:00:00\",\"2008-04-18T00:00:00\",\"2008-02-18T00:00:00\",\"2003-07-11T00:00:00\",\"2009-09-02T00:00:00\",\"2006-03-25T00:00:00\",\"2007-12-10T00:00:00\",\"2002-03-16T00:00:00\"],\"xaxis\":\"x\",\"y\":[7.826087,5.865217,8.956522,18.469565,12.913043,9.730435,6.347826,9.913043,2.347826,11.513043,4.104348,5.565217,6.965217,9.945833,12.478261,9.722222,13.458824,4.495652,5.869565,4.043478,10.26087,12.578261,13.217391,16.347826,13.043478,17.347826,12.608696,23.304348,6.521739,7.0,8.347826,9.521739,3.652174,6.652174,3.826087,15.26087,18.009091,8.53913,15.565217,5.304348,10.526087,14.130435,5.090909,14.136364,12.978261,12.869565,10.6,8.521739,17.478261,5.434783,6.956522,8.73913,10.391304,11.26087,11.086957,4.434783,9.636364,5.347826],\"yaxis\":\"y\",\"type\":\"scatter\"},{\"hovertemplate\":\"County=Los Angeles<br>Date_Local=%{x}<br>NO2_Mean=%{y}<extra></extra>\",\"legendgroup\":\"Los Angeles\",\"marker\":{\"color\":\"#00A08B\",\"opacity\":0.7,\"symbol\":\"circle\"},\"mode\":\"markers\",\"name\":\"Los Angeles\",\"orientation\":\"v\",\"showlegend\":true,\"x\":[\"2004-10-24T00:00:00\",\"2012-07-29T00:00:00\",\"2014-05-16T00:00:00\",\"2012-09-10T00:00:00\",\"2001-06-26T00:00:00\",\"2010-05-01T00:00:00\",\"2013-09-10T00:00:00\",\"2013-12-04T00:00:00\",\"2001-03-10T00:00:00\",\"2000-08-30T00:00:00\",\"2003-09-24T00:00:00\",\"2012-01-03T00:00:00\",\"2009-03-12T00:00:00\",\"2011-08-30T00:00:00\",\"2014-01-05T00:00:00\",\"2003-04-06T00:00:00\",\"2004-09-20T00:00:00\",\"2011-03-03T00:00:00\",\"2015-06-01T00:00:00\",\"2006-03-13T00:00:00\",\"2011-11-04T00:00:00\",\"2000-07-26T00:00:00\",\"2004-02-11T00:00:00\",\"2003-12-07T00:00:00\",\"2011-10-18T00:00:00\",\"2011-01-04T00:00:00\",\"2010-05-07T00:00:00\",\"2006-12-16T00:00:00\",\"2013-12-17T00:00:00\",\"2004-06-09T00:00:00\",\"2013-07-04T00:00:00\",\"2003-03-06T00:00:00\",\"2010-01-04T00:00:00\",\"2004-02-14T00:00:00\",\"2004-11-09T00:00:00\",\"2010-07-14T00:00:00\",\"2007-10-06T00:00:00\",\"2003-07-29T00:00:00\",\"2009-01-19T00:00:00\",\"2004-01-06T00:00:00\",\"2003-04-17T00:00:00\",\"2005-12-03T00:00:00\",\"2012-12-08T00:00:00\",\"2009-12-09T00:00:00\",\"2001-10-19T00:00:00\",\"2000-10-09T00:00:00\",\"2003-05-13T00:00:00\",\"2007-05-17T00:00:00\",\"2014-05-05T00:00:00\",\"2003-03-20T00:00:00\",\"2015-04-12T00:00:00\",\"2003-11-22T00:00:00\",\"2010-02-20T00:00:00\",\"2006-12-07T00:00:00\",\"2003-03-22T00:00:00\",\"2015-12-24T00:00:00\",\"2003-07-23T00:00:00\"],\"xaxis\":\"x\",\"y\":[18.086957,18.452174,20.056522,21.136364,15.130435,10.169565,15.131818,23.436364,23.363636,19.043478,28.166667,25.4,2.956522,22.245833,32.978261,20.26087,22.695652,18.677273,13.521739,25.521739,11.426087,41.869565,45.869565,20.434783,25.772727,22.468182,24.238095,10.695652,22.657143,15.0,11.008333,32.565217,39.782609,51.608696,14.26087,34.373913,23.956522,23.608696,37.652174,42.636364,19.391304,28.043478,30.386364,32.391304,60.304348,15.73913,30.26087,22.434783,4.919048,24.956522,7.227273,28.434783,12.555556,49.26087,44.521739,19.4,32.086957],\"yaxis\":\"y\",\"type\":\"scatter\"},{\"hovertemplate\":\"County=Jackson<br>Date_Local=%{x}<br>NO2_Mean=%{y}<extra></extra>\",\"legendgroup\":\"Jackson\",\"marker\":{\"color\":\"#FB00D1\",\"opacity\":0.7,\"symbol\":\"circle\"},\"mode\":\"markers\",\"name\":\"Jackson\",\"orientation\":\"v\",\"showlegend\":true,\"x\":[\"2014-01-07T00:00:00\"],\"xaxis\":\"x\",\"y\":[2.238095],\"yaxis\":\"y\",\"type\":\"scatter\"},{\"hovertemplate\":\"County=Multnomah<br>Date_Local=%{x}<br>NO2_Mean=%{y}<extra></extra>\",\"legendgroup\":\"Multnomah\",\"marker\":{\"color\":\"#FC0080\",\"opacity\":0.7,\"symbol\":\"circle\"},\"mode\":\"markers\",\"name\":\"Multnomah\",\"orientation\":\"v\",\"showlegend\":true,\"x\":[\"2009-05-15T00:00:00\",\"2013-09-23T00:00:00\",\"2009-06-07T00:00:00\",\"2011-05-10T00:00:00\",\"2009-07-15T00:00:00\",\"2015-04-27T00:00:00\",\"2009-05-21T00:00:00\"],\"xaxis\":\"x\",\"y\":[13.26087,6.004167,3.041667,12.6375,9.541667,6.920833,7.0],\"yaxis\":\"y\",\"type\":\"scatter\"},{\"hovertemplate\":\"County=DeKalb<br>Date_Local=%{x}<br>NO2_Mean=%{y}<extra></extra>\",\"legendgroup\":\"DeKalb\",\"marker\":{\"color\":\"#B2828D\",\"opacity\":0.7,\"symbol\":\"circle\"},\"mode\":\"markers\",\"name\":\"DeKalb\",\"orientation\":\"v\",\"showlegend\":true,\"x\":[\"2015-08-02T00:00:00\",\"2011-01-23T00:00:00\",\"2011-09-11T00:00:00\",\"2014-04-11T00:00:00\",\"2011-07-02T00:00:00\"],\"xaxis\":\"x\",\"y\":[7.029167,26.291667,17.920833,21.3875,13.357143],\"yaxis\":\"y\",\"type\":\"scatter\"},{\"hovertemplate\":\"County=Denver<br>Date_Local=%{x}<br>NO2_Mean=%{y}<extra></extra>\",\"legendgroup\":\"Denver\",\"marker\":{\"color\":\"#6C7C32\",\"opacity\":0.7,\"symbol\":\"circle\"},\"mode\":\"markers\",\"name\":\"Denver\",\"orientation\":\"v\",\"showlegend\":true,\"x\":[\"2015-09-01T00:00:00\",\"2014-02-24T00:00:00\",\"2014-10-08T00:00:00\",\"2014-12-24T00:00:00\",\"2016-02-12T00:00:00\",\"2014-11-16T00:00:00\",\"2007-06-23T00:00:00\",\"2012-04-22T00:00:00\",\"2006-01-05T00:00:00\",\"2014-03-02T00:00:00\"],\"xaxis\":\"x\",\"y\":[13.913636,21.004348,29.447826,31.130435,30.2875,28.13913,24.652174,14.608696,39.391304,20.373913],\"yaxis\":\"y\",\"type\":\"scatter\"},{\"hovertemplate\":\"County=Camden<br>Date_Local=%{x}<br>NO2_Mean=%{y}<extra></extra>\",\"legendgroup\":\"Camden\",\"marker\":{\"color\":\"#778AAE\",\"opacity\":0.7,\"symbol\":\"circle\"},\"mode\":\"markers\",\"name\":\"Camden\",\"orientation\":\"v\",\"showlegend\":true,\"x\":[\"2014-10-23T00:00:00\",\"2006-04-11T00:00:00\",\"2007-02-26T00:00:00\",\"2002-10-28T00:00:00\",\"2001-03-13T00:00:00\",\"2015-06-01T00:00:00\",\"2014-12-02T00:00:00\",\"2002-10-16T00:00:00\",\"2008-09-13T00:00:00\",\"2007-08-13T00:00:00\",\"2000-01-07T00:00:00\",\"2012-12-06T00:00:00\"],\"xaxis\":\"x\",\"y\":[6.47619,20.666667,33.916667,25.0,43.0,8.291667,19.375,16.0,13.291667,11.541667,19.454545,16.208333],\"yaxis\":\"y\",\"type\":\"scatter\"},{\"hovertemplate\":\"County=Northampton<br>Date_Local=%{x}<br>NO2_Mean=%{y}<extra></extra>\",\"legendgroup\":\"Northampton\",\"marker\":{\"color\":\"#862A16\",\"opacity\":0.7,\"symbol\":\"circle\"},\"mode\":\"markers\",\"name\":\"Northampton\",\"orientation\":\"v\",\"showlegend\":true,\"x\":[\"2000-05-09T00:00:00\",\"2002-07-15T00:00:00\",\"2007-09-24T00:00:00\",\"2005-09-18T00:00:00\",\"2005-07-30T00:00:00\"],\"xaxis\":\"x\",\"y\":[18.541667,13.541667,18.625,10.541667,7.666667],\"yaxis\":\"y\",\"type\":\"scatter\"},{\"hovertemplate\":\"County=Cook<br>Date_Local=%{x}<br>NO2_Mean=%{y}<extra></extra>\",\"legendgroup\":\"Cook\",\"marker\":{\"color\":\"#A777F1\",\"opacity\":0.7,\"symbol\":\"circle\"},\"mode\":\"markers\",\"name\":\"Cook\",\"orientation\":\"v\",\"showlegend\":true,\"x\":[\"2007-07-27T00:00:00\",\"2000-10-23T00:00:00\",\"2011-09-28T00:00:00\",\"2011-08-01T00:00:00\",\"2003-05-31T00:00:00\",\"2004-07-06T00:00:00\",\"2001-07-09T00:00:00\",\"2008-05-27T00:00:00\",\"2009-05-05T00:00:00\",\"2005-07-16T00:00:00\",\"2009-04-25T00:00:00\"],\"xaxis\":\"x\",\"y\":[8.090909,40.0,20.041667,17.416667,20.25,18.208333,36.458333,4.0,18.954545,17.833333,2.958333],\"yaxis\":\"y\",\"type\":\"scatter\"},{\"hovertemplate\":\"County=Adams<br>Date_Local=%{x}<br>NO2_Mean=%{y}<extra></extra>\",\"legendgroup\":\"Adams\",\"marker\":{\"color\":\"#620042\",\"opacity\":0.7,\"symbol\":\"circle\"},\"mode\":\"markers\",\"name\":\"Adams\",\"orientation\":\"v\",\"showlegend\":true,\"x\":[\"2000-06-12T00:00:00\",\"2009-05-05T00:00:00\",\"2014-08-29T00:00:00\",\"2000-07-08T00:00:00\",\"2009-06-21T00:00:00\",\"2007-11-26T00:00:00\",\"2008-01-30T00:00:00\",\"2008-04-11T00:00:00\",\"2005-06-11T00:00:00\",\"2006-09-05T00:00:00\",\"2006-03-29T00:00:00\",\"2000-04-25T00:00:00\",\"2011-11-18T00:00:00\",\"2003-01-20T00:00:00\"],\"xaxis\":\"x\",\"y\":[17.0,9.130435,22.043478,22.478261,3.0,31.695652,23.0,3.608696,13.565217,22.565217,23.391304,4.043478,28.521739,33.652174],\"yaxis\":\"y\",\"type\":\"scatter\"},{\"hovertemplate\":\"County=Pulaski<br>Date_Local=%{x}<br>NO2_Mean=%{y}<extra></extra>\",\"legendgroup\":\"Pulaski\",\"marker\":{\"color\":\"#1616A7\",\"opacity\":0.7,\"symbol\":\"circle\"},\"mode\":\"markers\",\"name\":\"Pulaski\",\"orientation\":\"v\",\"showlegend\":true,\"x\":[\"2011-09-05T00:00:00\",\"2011-01-07T00:00:00\",\"2014-04-08T00:00:00\",\"2010-05-28T00:00:00\",\"2013-09-26T00:00:00\",\"2012-01-04T00:00:00\",\"2011-02-10T00:00:00\",\"2010-05-31T00:00:00\",\"2013-12-12T00:00:00\",\"2010-05-14T00:00:00\",\"2015-05-01T00:00:00\",\"2015-10-01T00:00:00\",\"2014-05-02T00:00:00\",\"2010-05-25T00:00:00\",\"2012-02-20T00:00:00\",\"2008-03-31T00:00:00\",\"2012-07-28T00:00:00\",\"2011-07-08T00:00:00\",\"2012-04-15T00:00:00\",\"2011-12-10T00:00:00\",\"2010-01-09T00:00:00\",\"2011-09-13T00:00:00\",\"2011-11-14T00:00:00\",\"2008-08-14T00:00:00\",\"2013-10-09T00:00:00\"],\"xaxis\":\"x\",\"y\":[4.141667,8.2125,6.375,7.916667,12.133333,17.1375,10.65,11.375,19.358333,7.75,13.158333,4.829167,13.658333,13.291667,16.545833,4.666667,7.620833,8.041667,3.45,13.883333,5.875,21.595833,5.256522,7.875,12.216667],\"yaxis\":\"y\",\"type\":\"scatter\"},{\"hovertemplate\":\"County=San Diego<br>Date_Local=%{x}<br>NO2_Mean=%{y}<extra></extra>\",\"legendgroup\":\"San Diego\",\"marker\":{\"color\":\"#DA60CA\",\"opacity\":0.7,\"symbol\":\"circle\"},\"mode\":\"markers\",\"name\":\"San Diego\",\"orientation\":\"v\",\"showlegend\":true,\"x\":[\"2008-10-27T00:00:00\",\"2000-04-15T00:00:00\",\"2006-07-16T00:00:00\",\"2004-07-20T00:00:00\",\"2009-03-12T00:00:00\",\"2000-11-18T00:00:00\",\"2002-12-18T00:00:00\",\"2000-08-22T00:00:00\",\"2007-07-25T00:00:00\",\"2006-05-09T00:00:00\",\"2002-03-21T00:00:00\",\"2003-05-02T00:00:00\",\"2008-10-27T00:00:00\",\"2001-01-18T00:00:00\",\"2000-12-13T00:00:00\",\"2005-09-06T00:00:00\",\"2005-04-28T00:00:00\",\"2009-06-04T00:00:00\",\"2002-01-08T00:00:00\",\"2000-03-01T00:00:00\",\"2009-08-21T00:00:00\",\"2002-03-25T00:00:00\",\"2000-06-07T00:00:00\",\"2012-05-02T00:00:00\",\"2013-03-18T00:00:00\",\"2002-01-25T00:00:00\",\"2006-02-07T00:00:00\",\"2006-11-01T00:00:00\",\"2004-07-16T00:00:00\"],\"xaxis\":\"x\",\"y\":[48.73913,9.652174,5.130435,13.217391,14.0,29.086957,21.652174,9.727273,16.5,15.333333,51.227273,7.869565,48.73913,33.043478,17.363636,21.333333,12.391304,4.956522,39.869565,39.0,23.608696,13.73913,14.608696,3.875,8.130435,33.695652,31.782609,33.434783,22.130435],\"yaxis\":\"y\",\"type\":\"scatter\"},{\"hovertemplate\":\"County=Sacramento<br>Date_Local=%{x}<br>NO2_Mean=%{y}<extra></extra>\",\"legendgroup\":\"Sacramento\",\"marker\":{\"color\":\"#6C4516\",\"opacity\":0.7,\"symbol\":\"circle\"},\"mode\":\"markers\",\"name\":\"Sacramento\",\"orientation\":\"v\",\"showlegend\":true,\"x\":[\"2012-12-23T00:00:00\",\"2000-05-30T00:00:00\",\"2011-01-21T00:00:00\",\"2005-03-28T00:00:00\",\"2006-03-13T00:00:00\",\"2004-02-14T00:00:00\",\"2008-07-23T00:00:00\",\"2004-09-20T00:00:00\",\"2009-04-11T00:00:00\",\"2002-05-27T00:00:00\",\"2014-03-02T00:00:00\",\"2013-06-12T00:00:00\",\"2005-08-05T00:00:00\",\"2011-12-21T00:00:00\",\"2013-12-28T00:00:00\",\"2005-11-29T00:00:00\",\"2010-09-20T00:00:00\",\"2002-02-04T00:00:00\",\"2005-12-10T00:00:00\"],\"xaxis\":\"x\",\"y\":[1.708333,13.391304,19.3,4.608696,5.782609,17.130435,9.565217,10.608696,5.956522,4.913043,3.090909,2.636364,12.833333,13.375,10.5,8.565217,6.695652,27.26087,18.478261],\"yaxis\":\"y\",\"type\":\"scatter\"},{\"hovertemplate\":\"County=Solano<br>Date_Local=%{x}<br>NO2_Mean=%{y}<extra></extra>\",\"legendgroup\":\"Solano\",\"marker\":{\"color\":\"#0D2A63\",\"opacity\":0.7,\"symbol\":\"circle\"},\"mode\":\"markers\",\"name\":\"Solano\",\"orientation\":\"v\",\"showlegend\":true,\"x\":[\"2014-04-25T00:00:00\",\"2016-01-26T00:00:00\",\"2001-01-28T00:00:00\",\"2006-05-27T00:00:00\",\"2002-11-27T00:00:00\",\"2007-03-01T00:00:00\",\"2008-11-17T00:00:00\",\"2015-06-22T00:00:00\",\"2001-03-02T00:00:00\",\"2003-10-16T00:00:00\",\"2000-02-19T00:00:00\"],\"xaxis\":\"x\",\"y\":[3.891304,14.030435,22.043478,2.695652,30.26087,15.652174,15.347826,3.731818,22.954545,14.913043,14.869565],\"yaxis\":\"y\",\"type\":\"scatter\"},{\"hovertemplate\":\"County=Suffolk<br>Date_Local=%{x}<br>NO2_Mean=%{y}<extra></extra>\",\"legendgroup\":\"Suffolk\",\"marker\":{\"color\":\"#AF0038\",\"opacity\":0.7,\"symbol\":\"circle\"},\"mode\":\"markers\",\"name\":\"Suffolk\",\"orientation\":\"v\",\"showlegend\":true,\"x\":[\"2011-04-26T00:00:00\",\"2008-06-09T00:00:00\",\"2010-01-05T00:00:00\",\"2009-04-30T00:00:00\",\"2005-01-02T00:00:00\",\"2007-01-26T00:00:00\",\"2004-08-05T00:00:00\",\"2008-11-23T00:00:00\",\"2001-08-01T00:00:00\",\"2000-06-22T00:00:00\",\"2009-05-23T00:00:00\",\"2002-05-13T00:00:00\",\"2009-06-12T00:00:00\",\"2009-04-24T00:00:00\",\"2015-11-10T00:00:00\",\"2012-10-13T00:00:00\",\"2001-12-13T00:00:00\"],\"xaxis\":\"x\",\"y\":[21.105263,25.833333,26.9,7.833333,12.583333,16.333333,16.083333,13.708333,28.833333,17.125,9.833333,11.136364,9.227273,8.869565,28.272727,16.833333,21.375],\"yaxis\":\"y\",\"type\":\"scatter\"},{\"hovertemplate\":\"County=Saint Clair<br>Date_Local=%{x}<br>NO2_Mean=%{y}<extra></extra>\",\"legendgroup\":\"Saint Clair\",\"marker\":{\"color\":\"#2E91E5\",\"opacity\":0.7,\"symbol\":\"circle\"},\"mode\":\"markers\",\"name\":\"Saint Clair\",\"orientation\":\"v\",\"showlegend\":true,\"x\":[\"2003-02-22T00:00:00\",\"2001-07-02T00:00:00\",\"2008-02-24T00:00:00\",\"2014-01-02T00:00:00\",\"2009-04-16T00:00:00\",\"2012-11-30T00:00:00\",\"2013-10-13T00:00:00\",\"2015-06-01T00:00:00\",\"2010-11-26T00:00:00\",\"2012-11-05T00:00:00\",\"2012-05-10T00:00:00\",\"2013-12-02T00:00:00\",\"2012-01-14T00:00:00\",\"2010-12-31T00:00:00\"],\"xaxis\":\"x\",\"y\":[14.25,16.541667,17.916667,8.791667,18.136364,23.5,13.041667,3.958333,11.375,10.958333,12.166667,22.291667,23.833333,12.541667],\"yaxis\":\"y\",\"type\":\"scatter\"},{\"hovertemplate\":\"County=Harris<br>Date_Local=%{x}<br>NO2_Mean=%{y}<extra></extra>\",\"legendgroup\":\"Harris\",\"marker\":{\"color\":\"#E15F99\",\"opacity\":0.7,\"symbol\":\"circle\"},\"mode\":\"markers\",\"name\":\"Harris\",\"orientation\":\"v\",\"showlegend\":true,\"x\":[\"2015-08-07T00:00:00\",\"2009-02-17T00:00:00\",\"2014-06-14T00:00:00\",\"2004-05-16T00:00:00\",\"2008-05-29T00:00:00\",\"2012-12-22T00:00:00\",\"2007-06-29T00:00:00\",\"2014-07-30T00:00:00\",\"2013-06-25T00:00:00\",\"2010-09-22T00:00:00\",\"2014-11-28T00:00:00\",\"2012-07-28T00:00:00\",\"2001-08-06T00:00:00\",\"2013-04-05T00:00:00\",\"2008-04-21T00:00:00\",\"2007-08-08T00:00:00\",\"2015-05-23T00:00:00\",\"2013-02-17T00:00:00\",\"2008-03-30T00:00:00\",\"2013-04-25T00:00:00\",\"2006-07-27T00:00:00\",\"2013-07-12T00:00:00\"],\"xaxis\":\"x\",\"y\":[9.595833,2.541667,4.854167,6.681818,12.458333,15.025,8.416667,11.933333,4.7,12.295833,14.308333,3.241667,26.083333,18.070833,5.181818,5.166667,6.395833,13.555,2.541667,8.279167,13.708333,4.695833],\"yaxis\":\"y\",\"type\":\"scatter\"},{\"hovertemplate\":\"County=Philadelphia<br>Date_Local=%{x}<br>NO2_Mean=%{y}<extra></extra>\",\"legendgroup\":\"Philadelphia\",\"marker\":{\"color\":\"#1CA71C\",\"opacity\":0.7,\"symbol\":\"circle\"},\"mode\":\"markers\",\"name\":\"Philadelphia\",\"orientation\":\"v\",\"showlegend\":true,\"x\":[\"2001-07-28T00:00:00\",\"2004-12-24T00:00:00\",\"2011-12-22T00:00:00\",\"2007-01-07T00:00:00\",\"2003-07-02T00:00:00\",\"2003-02-18T00:00:00\",\"2002-08-12T00:00:00\",\"2006-10-10T00:00:00\",\"2007-11-02T00:00:00\",\"2002-08-12T00:00:00\",\"2002-10-29T00:00:00\",\"2011-06-12T00:00:00\"],\"xaxis\":\"x\",\"y\":[22.125,19.666667,23.066667,10.208333,27.208333,29.791667,31.333333,30.0,19.291667,31.333333,24.208333,11.543478],\"yaxis\":\"y\",\"type\":\"scatter\"},{\"hovertemplate\":\"County=Cuyahoga<br>Date_Local=%{x}<br>NO2_Mean=%{y}<extra></extra>\",\"legendgroup\":\"Cuyahoga\",\"marker\":{\"color\":\"#FB0D0D\",\"opacity\":0.7,\"symbol\":\"circle\"},\"mode\":\"markers\",\"name\":\"Cuyahoga\",\"orientation\":\"v\",\"showlegend\":true,\"x\":[\"2013-04-27T00:00:00\",\"2016-04-20T00:00:00\",\"2012-01-05T00:00:00\",\"2014-09-07T00:00:00\",\"2012-05-09T00:00:00\",\"2011-02-17T00:00:00\",\"2014-05-11T00:00:00\",\"2015-06-16T00:00:00\",\"2011-09-02T00:00:00\",\"2015-12-31T00:00:00\",\"2014-09-07T00:00:00\",\"2015-08-31T00:00:00\"],\"xaxis\":\"x\",\"y\":[24.434783,24.478261,14.086957,6.782609,15.0,12.826087,7.521739,10.2,24.0,6.0,6.782609,17.826087],\"yaxis\":\"y\",\"type\":\"scatter\"},{\"hovertemplate\":\"County=Westmoreland<br>Date_Local=%{x}<br>NO2_Mean=%{y}<extra></extra>\",\"legendgroup\":\"Westmoreland\",\"marker\":{\"color\":\"#DA16FF\",\"opacity\":0.7,\"symbol\":\"circle\"},\"mode\":\"markers\",\"name\":\"Westmoreland\",\"orientation\":\"v\",\"showlegend\":true,\"x\":[\"2008-05-04T00:00:00\",\"2001-07-27T00:00:00\",\"2001-05-18T00:00:00\",\"2005-08-12T00:00:00\",\"2001-07-11T00:00:00\",\"2006-08-16T00:00:00\",\"2001-08-11T00:00:00\",\"2000-04-03T00:00:00\"],\"xaxis\":\"x\",\"y\":[5.166667,9.375,18.916667,15.666667,8.583333,10.083333,10.541667,13.916667],\"yaxis\":\"y\",\"type\":\"scatter\"},{\"hovertemplate\":\"County=Aroostook<br>Date_Local=%{x}<br>NO2_Mean=%{y}<extra></extra>\",\"legendgroup\":\"Aroostook\",\"marker\":{\"color\":\"#222A2A\",\"opacity\":0.7,\"symbol\":\"circle\"},\"mode\":\"markers\",\"name\":\"Aroostook\",\"orientation\":\"v\",\"showlegend\":true,\"x\":[\"2011-11-01T00:00:00\",\"2008-07-03T00:00:00\",\"2014-11-25T00:00:00\",\"2015-11-09T00:00:00\",\"2008-01-08T00:00:00\",\"2012-09-01T00:00:00\",\"2008-03-24T00:00:00\",\"2010-03-11T00:00:00\",\"2014-11-17T00:00:00\",\"2014-02-15T00:00:00\",\"2014-05-25T00:00:00\",\"2011-06-12T00:00:00\",\"2009-08-25T00:00:00\"],\"xaxis\":\"x\",\"y\":[4.488235,1.808333,0.82,1.05,11.229167,-0.504167,6.421053,5.008333,3.65,2.9625,0.858333,0.995833,1.111111],\"yaxis\":\"y\",\"type\":\"scatter\"},{\"hovertemplate\":\"County=District of Columbia<br>Date_Local=%{x}<br>NO2_Mean=%{y}<extra></extra>\",\"legendgroup\":\"District of Columbia\",\"marker\":{\"color\":\"#B68100\",\"opacity\":0.7,\"symbol\":\"circle\"},\"mode\":\"markers\",\"name\":\"District of Columbia\",\"orientation\":\"v\",\"showlegend\":true,\"x\":[\"2008-03-10T00:00:00\",\"2009-09-01T00:00:00\",\"2014-03-24T00:00:00\",\"2015-05-15T00:00:00\",\"2015-10-30T00:00:00\",\"2011-03-21T00:00:00\",\"2007-05-11T00:00:00\",\"2014-01-02T00:00:00\",\"2010-02-24T00:00:00\",\"2008-03-18T00:00:00\",\"2013-07-24T00:00:00\",\"2008-10-20T00:00:00\",\"2011-11-21T00:00:00\",\"2011-12-28T00:00:00\",\"2003-04-04T00:00:00\",\"2002-02-15T00:00:00\",\"2004-09-19T00:00:00\"],\"xaxis\":\"x\",\"y\":[24.625,21.416667,8.5375,8.1625,11.008333,12.333333,14.583333,23.1125,21.125,19.869565,8.125,29.0,34.0,9.083333,22.583333,24.166667,10.791667],\"yaxis\":\"y\",\"type\":\"scatter\"},{\"hovertemplate\":\"County=Litchfield<br>Date_Local=%{x}<br>NO2_Mean=%{y}<extra></extra>\",\"legendgroup\":\"Litchfield\",\"marker\":{\"color\":\"#750D86\",\"opacity\":0.7,\"symbol\":\"circle\"},\"mode\":\"markers\",\"name\":\"Litchfield\",\"orientation\":\"v\",\"showlegend\":true,\"x\":[\"2011-12-26T00:00:00\",\"2015-08-11T00:00:00\",\"2012-11-13T00:00:00\",\"2014-09-16T00:00:00\",\"2010-12-25T00:00:00\"],\"xaxis\":\"x\",\"y\":[0.833333,1.404167,0.826087,1.956522,1.041667],\"yaxis\":\"y\",\"type\":\"scatter\"},{\"hovertemplate\":\"County=Lackawanna<br>Date_Local=%{x}<br>NO2_Mean=%{y}<extra></extra>\",\"legendgroup\":\"Lackawanna\",\"marker\":{\"color\":\"#EB663B\",\"opacity\":0.7,\"symbol\":\"circle\"},\"mode\":\"markers\",\"name\":\"Lackawanna\",\"orientation\":\"v\",\"showlegend\":true,\"x\":[\"2008-04-23T00:00:00\",\"2002-05-28T00:00:00\",\"2005-09-05T00:00:00\",\"2001-05-10T00:00:00\",\"2007-06-04T00:00:00\"],\"xaxis\":\"x\",\"y\":[14.0,18.583333,4.708333,23.083333,6.625],\"yaxis\":\"y\",\"type\":\"scatter\"},{\"hovertemplate\":\"County=Wake<br>Date_Local=%{x}<br>NO2_Mean=%{y}<extra></extra>\",\"legendgroup\":\"Wake\",\"marker\":{\"color\":\"#511CFB\",\"opacity\":0.7,\"symbol\":\"circle\"},\"mode\":\"markers\",\"name\":\"Wake\",\"orientation\":\"v\",\"showlegend\":true,\"x\":[\"2014-06-30T00:00:00\",\"2014-03-17T00:00:00\",\"2014-03-23T00:00:00\"],\"xaxis\":\"x\",\"y\":[3.734783,2.947826,4.165217],\"yaxis\":\"y\",\"type\":\"scatter\"},{\"hovertemplate\":\"County=St. Louis City<br>Date_Local=%{x}<br>NO2_Mean=%{y}<extra></extra>\",\"legendgroup\":\"St. Louis City\",\"marker\":{\"color\":\"#00A08B\",\"opacity\":0.7,\"symbol\":\"circle\"},\"mode\":\"markers\",\"name\":\"St. Louis City\",\"orientation\":\"v\",\"showlegend\":true,\"x\":[\"2015-05-31T00:00:00\",\"2006-08-08T00:00:00\",\"2005-06-23T00:00:00\",\"2008-09-21T00:00:00\",\"2015-06-22T00:00:00\",\"2008-09-22T00:00:00\"],\"xaxis\":\"x\",\"y\":[9.825,4.125,14.391304,14.541667,8.63,21.583333],\"yaxis\":\"y\",\"type\":\"scatter\"},{\"hovertemplate\":\"County=Orange<br>Date_Local=%{x}<br>NO2_Mean=%{y}<extra></extra>\",\"legendgroup\":\"Orange\",\"marker\":{\"color\":\"#FB00D1\",\"opacity\":0.7,\"symbol\":\"circle\"},\"mode\":\"markers\",\"name\":\"Orange\",\"orientation\":\"v\",\"showlegend\":true,\"x\":[\"2008-02-07T00:00:00\",\"2001-09-26T00:00:00\",\"2015-04-15T00:00:00\",\"2011-07-11T00:00:00\",\"2013-09-12T00:00:00\",\"2015-12-15T00:00:00\",\"2006-08-31T00:00:00\",\"2008-11-05T00:00:00\",\"2008-02-06T00:00:00\",\"2011-08-21T00:00:00\",\"2000-11-25T00:00:00\",\"2006-05-07T00:00:00\",\"2007-10-30T00:00:00\",\"2014-06-11T00:00:00\",\"2013-01-28T00:00:00\",\"2013-03-17T00:00:00\",\"2012-08-11T00:00:00\",\"2010-05-05T00:00:00\",\"2006-04-03T00:00:00\",\"2008-10-29T00:00:00\",\"2008-11-10T00:00:00\",\"2002-03-07T00:00:00\",\"2005-05-10T00:00:00\",\"2015-09-03T00:00:00\",\"2014-11-03T00:00:00\",\"2012-10-21T00:00:00\",\"2006-04-28T00:00:00\",\"2008-03-23T00:00:00\",\"2005-06-04T00:00:00\",\"2006-01-03T00:00:00\"],\"xaxis\":\"x\",\"y\":[10.291667,14.125,3.833333,1.273913,10.95,23.327273,9.166667,4.285714,8.272727,2.541667,50.73913,4.833333,1.833333,6.458333,16.204545,6.541667,2.295455,6.5,5.333333,12.631579,5.333333,8.043478,10.166667,2.80625,17.985714,4.333333,5.347826,4.458333,4.0,21.826087],\"yaxis\":\"y\",\"type\":\"scatter\"},{\"hovertemplate\":\"County=Cambria<br>Date_Local=%{x}<br>NO2_Mean=%{y}<extra></extra>\",\"legendgroup\":\"Cambria\",\"marker\":{\"color\":\"#FC0080\",\"opacity\":0.7,\"symbol\":\"circle\"},\"mode\":\"markers\",\"name\":\"Cambria\",\"orientation\":\"v\",\"showlegend\":true,\"x\":[\"2005-07-17T00:00:00\",\"2013-01-14T00:00:00\",\"2010-10-16T00:00:00\",\"2002-05-07T00:00:00\",\"2012-06-15T00:00:00\",\"2003-08-16T00:00:00\",\"2013-05-17T00:00:00\",\"2004-09-15T00:00:00\",\"2011-11-19T00:00:00\",\"2001-06-13T00:00:00\",\"2000-08-18T00:00:00\",\"2009-06-14T00:00:00\",\"2014-03-03T00:00:00\",\"2007-06-26T00:00:00\",\"2012-04-15T00:00:00\"],\"xaxis\":\"x\",\"y\":[5.875,7.416667,12.791667,13.583333,3.916667,8.25,7.041667,5.958333,13.708333,13.833333,18.833333,5.666667,6.916667,7.041667,7.333333],\"yaxis\":\"y\",\"type\":\"scatter\"},{\"hovertemplate\":\"County=Dallas<br>Date_Local=%{x}<br>NO2_Mean=%{y}<extra></extra>\",\"legendgroup\":\"Dallas\",\"marker\":{\"color\":\"#B2828D\",\"opacity\":0.7,\"symbol\":\"circle\"},\"mode\":\"markers\",\"name\":\"Dallas\",\"orientation\":\"v\",\"showlegend\":true,\"x\":[\"2007-06-20T00:00:00\",\"2014-10-28T00:00:00\",\"2013-08-24T00:00:00\",\"2008-11-24T00:00:00\",\"2007-01-05T00:00:00\",\"2014-05-04T00:00:00\",\"2015-02-09T00:00:00\",\"2011-03-28T00:00:00\",\"2007-06-19T00:00:00\",\"2015-08-16T00:00:00\",\"2002-12-31T00:00:00\",\"2006-05-18T00:00:00\"],\"xaxis\":\"x\",\"y\":[12.5,8.033333,8.108333,18.583333,19.708333,6.040909,21.931818,6.9625,8.166667,5.713636,18.772727,23.75],\"yaxis\":\"y\",\"type\":\"scatter\"},{\"hovertemplate\":\"County=Ventura<br>Date_Local=%{x}<br>NO2_Mean=%{y}<extra></extra>\",\"legendgroup\":\"Ventura\",\"marker\":{\"color\":\"#6C7C32\",\"opacity\":0.7,\"symbol\":\"circle\"},\"mode\":\"markers\",\"name\":\"Ventura\",\"orientation\":\"v\",\"showlegend\":true,\"x\":[\"2004-01-07T00:00:00\",\"2003-05-03T00:00:00\",\"2004-01-08T00:00:00\",\"2000-02-22T00:00:00\"],\"xaxis\":\"x\",\"y\":[34.952381,3.0,34.272727,14.521739],\"yaxis\":\"y\",\"type\":\"scatter\"},{\"hovertemplate\":\"County=Cass<br>Date_Local=%{x}<br>NO2_Mean=%{y}<extra></extra>\",\"legendgroup\":\"Cass\",\"marker\":{\"color\":\"#778AAE\",\"opacity\":0.7,\"symbol\":\"circle\"},\"mode\":\"markers\",\"name\":\"Cass\",\"orientation\":\"v\",\"showlegend\":true,\"x\":[\"2014-11-03T00:00:00\",\"2009-08-26T00:00:00\",\"2008-03-29T00:00:00\",\"2014-10-07T00:00:00\"],\"xaxis\":\"x\",\"y\":[3.428571,9.25,2.416667,1.529167],\"yaxis\":\"y\",\"type\":\"scatter\"},{\"hovertemplate\":\"County=Salt Lake<br>Date_Local=%{x}<br>NO2_Mean=%{y}<extra></extra>\",\"legendgroup\":\"Salt Lake\",\"marker\":{\"color\":\"#862A16\",\"opacity\":0.7,\"symbol\":\"circle\"},\"mode\":\"markers\",\"name\":\"Salt Lake\",\"orientation\":\"v\",\"showlegend\":true,\"x\":[\"2012-03-21T00:00:00\",\"2015-04-06T00:00:00\",\"2015-12-12T00:00:00\",\"2013-06-15T00:00:00\",\"2012-05-26T00:00:00\"],\"xaxis\":\"x\",\"y\":[16.190476,10.708333,16.625,9.708333,6.875],\"yaxis\":\"y\",\"type\":\"scatter\"},{\"hovertemplate\":\"County=Washoe<br>Date_Local=%{x}<br>NO2_Mean=%{y}<extra></extra>\",\"legendgroup\":\"Washoe\",\"marker\":{\"color\":\"#A777F1\",\"opacity\":0.7,\"symbol\":\"circle\"},\"mode\":\"markers\",\"name\":\"Washoe\",\"orientation\":\"v\",\"showlegend\":true,\"x\":[\"2013-08-01T00:00:00\",\"2014-04-27T00:00:00\",\"2012-07-11T00:00:00\"],\"xaxis\":\"x\",\"y\":[6.291667,3.558333,10.066667],\"yaxis\":\"y\",\"type\":\"scatter\"},{\"hovertemplate\":\"County=Bernalillo<br>Date_Local=%{x}<br>NO2_Mean=%{y}<extra></extra>\",\"legendgroup\":\"Bernalillo\",\"marker\":{\"color\":\"#620042\",\"opacity\":0.7,\"symbol\":\"circle\"},\"mode\":\"markers\",\"name\":\"Bernalillo\",\"orientation\":\"v\",\"showlegend\":true,\"x\":[\"2011-05-23T00:00:00\",\"2011-03-26T00:00:00\",\"2011-03-31T00:00:00\"],\"xaxis\":\"x\",\"y\":[11.0,7.570833,6.770833],\"yaxis\":\"y\",\"type\":\"scatter\"},{\"hovertemplate\":\"County=Alameda<br>Date_Local=%{x}<br>NO2_Mean=%{y}<extra></extra>\",\"legendgroup\":\"Alameda\",\"marker\":{\"color\":\"#1616A7\",\"opacity\":0.7,\"symbol\":\"circle\"},\"mode\":\"markers\",\"name\":\"Alameda\",\"orientation\":\"v\",\"showlegend\":true,\"x\":[\"2002-06-28T00:00:00\",\"2002-06-30T00:00:00\",\"2012-08-09T00:00:00\",\"2012-07-01T00:00:00\",\"2011-04-20T00:00:00\"],\"xaxis\":\"x\",\"y\":[7.304348,10.583333,15.427273,5.578261,8.25],\"yaxis\":\"y\",\"type\":\"scatter\"},{\"hovertemplate\":\"County=Scott<br>Date_Local=%{x}<br>NO2_Mean=%{y}<extra></extra>\",\"legendgroup\":\"Scott\",\"marker\":{\"color\":\"#DA60CA\",\"opacity\":0.7,\"symbol\":\"circle\"},\"mode\":\"markers\",\"name\":\"Scott\",\"orientation\":\"v\",\"showlegend\":true,\"x\":[\"2012-08-28T00:00:00\",\"2013-05-17T00:00:00\",\"2014-09-06T00:00:00\",\"2007-08-03T00:00:00\",\"2015-07-27T00:00:00\",\"2014-02-05T00:00:00\",\"2014-07-29T00:00:00\",\"2011-04-08T00:00:00\",\"2016-02-10T00:00:00\",\"2013-04-06T00:00:00\",\"2013-11-18T00:00:00\",\"2012-04-22T00:00:00\"],\"xaxis\":\"x\",\"y\":[10.655556,7.518182,4.55,5.454167,3.731818,7.809524,4.122727,9.983333,6.859091,5.422727,5.695238,6.459091],\"yaxis\":\"y\",\"type\":\"scatter\"},{\"hovertemplate\":\"County=Prince George's<br>Date_Local=%{x}<br>NO2_Mean=%{y}<extra></extra>\",\"legendgroup\":\"Prince George's\",\"marker\":{\"color\":\"#6C4516\",\"opacity\":0.7,\"symbol\":\"circle\"},\"mode\":\"markers\",\"name\":\"Prince George's\",\"orientation\":\"v\",\"showlegend\":true,\"x\":[\"2007-04-27T00:00:00\",\"2013-10-26T00:00:00\",\"2012-05-14T00:00:00\"],\"xaxis\":\"x\",\"y\":[13.73913,8.4375,3.004167],\"yaxis\":\"y\",\"type\":\"scatter\"},{\"hovertemplate\":\"County=Cumberland<br>Date_Local=%{x}<br>NO2_Mean=%{y}<extra></extra>\",\"legendgroup\":\"Cumberland\",\"marker\":{\"color\":\"#0D2A63\",\"opacity\":0.7,\"symbol\":\"circle\"},\"mode\":\"markers\",\"name\":\"Cumberland\",\"orientation\":\"v\",\"showlegend\":true,\"x\":[\"2011-06-26T00:00:00\",\"2012-10-31T00:00:00\",\"2014-12-24T00:00:00\",\"2012-10-19T00:00:00\",\"2015-01-10T00:00:00\",\"2012-09-02T00:00:00\"],\"xaxis\":\"x\",\"y\":[3.625,7.083333,5.3875,8.654167,8.579167,7.429167],\"yaxis\":\"y\",\"type\":\"scatter\"},{\"hovertemplate\":\"County=El Paso<br>Date_Local=%{x}<br>NO2_Mean=%{y}<extra></extra>\",\"legendgroup\":\"El Paso\",\"marker\":{\"color\":\"#AF0038\",\"opacity\":0.7,\"symbol\":\"circle\"},\"mode\":\"markers\",\"name\":\"El Paso\",\"orientation\":\"v\",\"showlegend\":true,\"x\":[\"2014-03-13T00:00:00\",\"2015-06-22T00:00:00\",\"2012-07-27T00:00:00\",\"2007-02-05T00:00:00\",\"2004-04-03T00:00:00\",\"2010-05-25T00:00:00\",\"2009-01-16T00:00:00\",\"2002-07-21T00:00:00\",\"2000-09-26T00:00:00\",\"2004-07-11T00:00:00\",\"2008-07-17T00:00:00\",\"2007-12-05T00:00:00\",\"2004-02-15T00:00:00\",\"2005-02-25T00:00:00\",\"2012-06-21T00:00:00\",\"2004-04-27T00:00:00\",\"2006-12-15T00:00:00\",\"2012-10-12T00:00:00\",\"2003-08-19T00:00:00\"],\"xaxis\":\"x\",\"y\":[13.483333,9.620833,11.441667,28.041667,12.125,18.269565,27.85,12.4,27.9,10.363636,13.666667,32.333333,31.727273,12.25,9.245833,6.166667,22.333333,11.320833,9.875],\"yaxis\":\"y\",\"type\":\"scatter\"},{\"hovertemplate\":\"County=Mecklenburg<br>Date_Local=%{x}<br>NO2_Mean=%{y}<extra></extra>\",\"legendgroup\":\"Mecklenburg\",\"marker\":{\"color\":\"#2E91E5\",\"opacity\":0.7,\"symbol\":\"circle\"},\"mode\":\"markers\",\"name\":\"Mecklenburg\",\"orientation\":\"v\",\"showlegend\":true,\"x\":[\"2000-09-26T00:00:00\",\"2008-12-02T00:00:00\",\"2013-10-07T00:00:00\",\"2011-07-19T00:00:00\",\"2009-06-16T00:00:00\",\"2006-08-02T00:00:00\",\"2008-01-27T00:00:00\",\"2015-10-30T00:00:00\",\"2015-08-25T00:00:00\",\"2012-07-06T00:00:00\",\"2015-02-16T00:00:00\",\"2011-01-01T00:00:00\",\"2007-03-06T00:00:00\",\"2008-09-02T00:00:00\",\"2008-11-07T00:00:00\",\"2010-10-06T00:00:00\",\"2003-04-13T00:00:00\",\"2007-06-18T00:00:00\",\"2013-04-05T00:00:00\",\"2007-12-21T00:00:00\",\"2008-10-29T00:00:00\",\"2011-10-18T00:00:00\",\"2010-11-09T00:00:00\",\"2003-06-09T00:00:00\",\"2001-07-08T00:00:00\",\"2014-02-18T00:00:00\"],\"xaxis\":\"x\",\"y\":[11.0,18.541667,3.916667,10.083333,3.25,13.041667,21.541667,10.7,5.8,10.916667,4.682609,14.916667,19.227273,13.454545,15.166667,16.666667,23.0,22.875,8.791667,13.25,16.416667,6.666667,24.708333,18.208333,12.208333,17.708333],\"yaxis\":\"y\",\"type\":\"scatter\"},{\"hovertemplate\":\"County=Bucks<br>Date_Local=%{x}<br>NO2_Mean=%{y}<extra></extra>\",\"legendgroup\":\"Bucks\",\"marker\":{\"color\":\"#E15F99\",\"opacity\":0.7,\"symbol\":\"circle\"},\"mode\":\"markers\",\"name\":\"Bucks\",\"orientation\":\"v\",\"showlegend\":true,\"x\":[\"2007-04-14T00:00:00\",\"2011-12-31T00:00:00\",\"2003-09-18T00:00:00\",\"2010-07-25T00:00:00\",\"2004-09-12T00:00:00\",\"2004-05-14T00:00:00\",\"2008-10-19T00:00:00\",\"2010-08-30T00:00:00\",\"2013-12-21T00:00:00\"],\"xaxis\":\"x\",\"y\":[7.958333,12.416667,6.090909,3.791667,11.666667,11.625,6.833333,18.75,8.083333],\"yaxis\":\"y\",\"type\":\"scatter\"},{\"hovertemplate\":\"County=Erie<br>Date_Local=%{x}<br>NO2_Mean=%{y}<extra></extra>\",\"legendgroup\":\"Erie\",\"marker\":{\"color\":\"#1CA71C\",\"opacity\":0.7,\"symbol\":\"circle\"},\"mode\":\"markers\",\"name\":\"Erie\",\"orientation\":\"v\",\"showlegend\":true,\"x\":[\"2015-06-08T00:00:00\",\"2015-12-24T00:00:00\",\"2015-05-06T00:00:00\",\"2014-03-10T00:00:00\",\"2014-03-09T00:00:00\",\"2013-08-26T00:00:00\",\"2012-04-10T00:00:00\",\"2008-07-22T00:00:00\",\"2012-05-02T00:00:00\",\"2015-04-16T00:00:00\",\"2013-05-24T00:00:00\",\"2015-08-21T00:00:00\",\"2006-05-09T00:00:00\",\"2015-10-23T00:00:00\",\"2015-02-14T00:00:00\",\"2007-04-06T00:00:00\"],\"xaxis\":\"x\",\"y\":[4.25,6.75,7.291667,10.208333,7.041667,6.25,3.166667,10.833333,9.833333,4.583333,1.458333,4.458333,18.25,8.333333,3.708333,3.458333],\"yaxis\":\"y\",\"type\":\"scatter\"},{\"hovertemplate\":\"County=Berks<br>Date_Local=%{x}<br>NO2_Mean=%{y}<extra></extra>\",\"legendgroup\":\"Berks\",\"marker\":{\"color\":\"#FB0D0D\",\"opacity\":0.7,\"symbol\":\"circle\"},\"mode\":\"markers\",\"name\":\"Berks\",\"orientation\":\"v\",\"showlegend\":true,\"x\":[\"2007-10-16T00:00:00\",\"2009-05-18T00:00:00\",\"2007-08-11T00:00:00\",\"2001-04-17T00:00:00\",\"2014-06-28T00:00:00\"],\"xaxis\":\"x\",\"y\":[16.791667,6.25,7.875,14.833333,3.166667],\"yaxis\":\"y\",\"type\":\"scatter\"},{\"hovertemplate\":\"County=Hillsborough<br>Date_Local=%{x}<br>NO2_Mean=%{y}<extra></extra>\",\"legendgroup\":\"Hillsborough\",\"marker\":{\"color\":\"#DA16FF\",\"opacity\":0.7,\"symbol\":\"circle\"},\"mode\":\"markers\",\"name\":\"Hillsborough\",\"orientation\":\"v\",\"showlegend\":true,\"x\":[\"2002-07-07T00:00:00\",\"2008-08-24T00:00:00\",\"2009-12-18T00:00:00\",\"2003-07-02T00:00:00\",\"2008-02-08T00:00:00\",\"2007-05-12T00:00:00\",\"2010-09-01T00:00:00\",\"2004-07-07T00:00:00\",\"2004-04-30T00:00:00\"],\"xaxis\":\"x\",\"y\":[6.208333,0.291667,7.316667,13.0,8.041667,4.391304,8.604348,7.416667,18.458333],\"yaxis\":\"y\",\"type\":\"scatter\"},{\"hovertemplate\":\"County=Fairfield<br>Date_Local=%{x}<br>NO2_Mean=%{y}<extra></extra>\",\"legendgroup\":\"Fairfield\",\"marker\":{\"color\":\"#222A2A\",\"opacity\":0.7,\"symbol\":\"circle\"},\"mode\":\"markers\",\"name\":\"Fairfield\",\"orientation\":\"v\",\"showlegend\":true,\"x\":[\"2009-07-25T00:00:00\",\"2008-08-19T00:00:00\",\"2009-08-25T00:00:00\"],\"xaxis\":\"x\",\"y\":[6.833333,8.666667,5.913043],\"yaxis\":\"y\",\"type\":\"scatter\"},{\"hovertemplate\":\"County=San Bernardino<br>Date_Local=%{x}<br>NO2_Mean=%{y}<extra></extra>\",\"legendgroup\":\"San Bernardino\",\"marker\":{\"color\":\"#B68100\",\"opacity\":0.7,\"symbol\":\"circle\"},\"mode\":\"markers\",\"name\":\"San Bernardino\",\"orientation\":\"v\",\"showlegend\":true,\"x\":[\"2015-12-30T00:00:00\",\"2008-07-01T00:00:00\",\"2008-10-12T00:00:00\",\"2000-08-01T00:00:00\",\"2010-11-15T00:00:00\",\"2000-02-12T00:00:00\",\"2000-03-11T00:00:00\",\"2010-12-22T00:00:00\",\"2013-02-15T00:00:00\",\"2003-07-03T00:00:00\",\"2013-02-16T00:00:00\",\"2004-01-23T00:00:00\",\"2006-02-08T00:00:00\",\"2008-11-10T00:00:00\",\"2014-11-06T00:00:00\",\"2014-10-25T00:00:00\",\"2008-07-23T00:00:00\",\"2013-03-12T00:00:00\",\"2005-10-04T00:00:00\",\"2009-03-09T00:00:00\",\"2007-07-25T00:00:00\",\"2003-08-04T00:00:00\",\"2013-10-24T00:00:00\",\"2000-04-09T00:00:00\",\"2002-06-14T00:00:00\",\"2012-02-16T00:00:00\",\"2002-02-04T00:00:00\"],\"xaxis\":\"x\",\"y\":[23.552174,35.695652,0.0,32.391304,27.26087,10.0,18.695652,10.26087,24.672727,7.434783,26.082609,28.0,34.26087,21.956522,22.655,7.877273,15.565217,37.418182,9.727273,9.478261,15.913043,28.0,22.722727,1.956522,30.521739,1.779167,33.6875],\"yaxis\":\"y\",\"type\":\"scatter\"},{\"hovertemplate\":\"County=Lancaster<br>Date_Local=%{x}<br>NO2_Mean=%{y}<extra></extra>\",\"legendgroup\":\"Lancaster\",\"marker\":{\"color\":\"#750D86\",\"opacity\":0.7,\"symbol\":\"circle\"},\"mode\":\"markers\",\"name\":\"Lancaster\",\"orientation\":\"v\",\"showlegend\":true,\"x\":[\"2004-08-04T00:00:00\",\"2003-07-17T00:00:00\",\"2007-09-30T00:00:00\",\"2003-05-25T00:00:00\",\"2007-10-24T00:00:00\",\"2003-07-09T00:00:00\"],\"xaxis\":\"x\",\"y\":[11.166667,13.0,9.916667,3.833333,10.555556,12.375],\"yaxis\":\"y\",\"type\":\"scatter\"},{\"hovertemplate\":\"County=Milwaukee<br>Date_Local=%{x}<br>NO2_Mean=%{y}<extra></extra>\",\"legendgroup\":\"Milwaukee\",\"marker\":{\"color\":\"#EB663B\",\"opacity\":0.7,\"symbol\":\"circle\"},\"mode\":\"markers\",\"name\":\"Milwaukee\",\"orientation\":\"v\",\"showlegend\":true,\"x\":[\"2006-03-19T00:00:00\",\"2006-06-06T00:00:00\"],\"xaxis\":\"x\",\"y\":[17.083333,22.041667],\"yaxis\":\"y\",\"type\":\"scatter\"},{\"hovertemplate\":\"County=Riverside<br>Date_Local=%{x}<br>NO2_Mean=%{y}<extra></extra>\",\"legendgroup\":\"Riverside\",\"marker\":{\"color\":\"#511CFB\",\"opacity\":0.7,\"symbol\":\"circle\"},\"mode\":\"markers\",\"name\":\"Riverside\",\"orientation\":\"v\",\"showlegend\":true,\"x\":[\"2006-09-03T00:00:00\",\"2006-11-24T00:00:00\",\"2000-02-07T00:00:00\",\"2014-10-22T00:00:00\",\"2008-10-12T00:00:00\",\"2005-10-15T00:00:00\",\"2010-05-05T00:00:00\",\"2011-12-08T00:00:00\"],\"xaxis\":\"x\",\"y\":[19.869565,20.347826,20.478261,27.309091,0.0,23.956522,12.914286,32.704545],\"yaxis\":\"y\",\"type\":\"scatter\"},{\"hovertemplate\":\"County=Henderson<br>Date_Local=%{x}<br>NO2_Mean=%{y}<extra></extra>\",\"legendgroup\":\"Henderson\",\"marker\":{\"color\":\"#00A08B\",\"opacity\":0.7,\"symbol\":\"circle\"},\"mode\":\"markers\",\"name\":\"Henderson\",\"orientation\":\"v\",\"showlegend\":true,\"x\":[\"2000-09-24T00:00:00\",\"2000-05-19T00:00:00\"],\"xaxis\":\"x\",\"y\":[7.26087,12.565217],\"yaxis\":\"y\",\"type\":\"scatter\"},{\"hovertemplate\":\"County=Honolulu<br>Date_Local=%{x}<br>NO2_Mean=%{y}<extra></extra>\",\"legendgroup\":\"Honolulu\",\"marker\":{\"color\":\"#FB00D1\",\"opacity\":0.7,\"symbol\":\"circle\"},\"mode\":\"markers\",\"name\":\"Honolulu\",\"orientation\":\"v\",\"showlegend\":true,\"x\":[\"2011-01-08T00:00:00\",\"2012-05-30T00:00:00\",\"2014-05-03T00:00:00\",\"2011-04-03T00:00:00\",\"2011-09-22T00:00:00\",\"2012-03-08T00:00:00\",\"2011-11-26T00:00:00\",\"2011-12-30T00:00:00\",\"2015-04-10T00:00:00\",\"2015-09-24T00:00:00\",\"2013-04-12T00:00:00\",\"2015-08-31T00:00:00\",\"2013-07-06T00:00:00\",\"2015-10-25T00:00:00\"],\"xaxis\":\"x\",\"y\":[6.041667,2.416667,4.3125,2.434783,2.4375,1.857143,1.291667,4.833333,2.779167,2.82381,2.75,3.390476,3.916667,3.319048],\"yaxis\":\"y\",\"type\":\"scatter\"},{\"hovertemplate\":\"County=Boyd<br>Date_Local=%{x}<br>NO2_Mean=%{y}<extra></extra>\",\"legendgroup\":\"Boyd\",\"marker\":{\"color\":\"#FC0080\",\"opacity\":0.7,\"symbol\":\"circle\"},\"mode\":\"markers\",\"name\":\"Boyd\",\"orientation\":\"v\",\"showlegend\":true,\"x\":[\"2001-07-24T00:00:00\",\"2002-06-28T00:00:00\",\"2000-05-01T00:00:00\"],\"xaxis\":\"x\",\"y\":[17.695652,6.695652,23.695652],\"yaxis\":\"y\",\"type\":\"scatter\"},{\"hovertemplate\":\"County=San Francisco<br>Date_Local=%{x}<br>NO2_Mean=%{y}<extra></extra>\",\"legendgroup\":\"San Francisco\",\"marker\":{\"color\":\"#B2828D\",\"opacity\":0.7,\"symbol\":\"circle\"},\"mode\":\"markers\",\"name\":\"San Francisco\",\"orientation\":\"v\",\"showlegend\":true,\"x\":[\"2008-07-05T00:00:00\",\"2000-10-24T00:00:00\",\"2008-07-31T00:00:00\",\"2008-02-29T00:00:00\",\"2008-10-26T00:00:00\",\"2005-02-10T00:00:00\",\"2004-01-14T00:00:00\",\"2007-10-28T00:00:00\",\"2002-11-18T00:00:00\",\"2004-12-17T00:00:00\",\"2000-02-06T00:00:00\",\"2000-01-25T00:00:00\",\"2003-07-31T00:00:00\"],\"xaxis\":\"x\",\"y\":[4.478261,34.173913,7.652174,11.608696,12.608696,33.869565,29.173913,23.0,33.782609,26.521739,27.782609,22.5,13.086957],\"yaxis\":\"y\",\"type\":\"scatter\"},{\"hovertemplate\":\"County=Cherokee<br>Date_Local=%{x}<br>NO2_Mean=%{y}<extra></extra>\",\"legendgroup\":\"Cherokee\",\"marker\":{\"color\":\"#6C7C32\",\"opacity\":0.7,\"symbol\":\"circle\"},\"mode\":\"markers\",\"name\":\"Cherokee\",\"orientation\":\"v\",\"showlegend\":true,\"x\":[\"2005-02-16T00:00:00\",\"2001-10-29T00:00:00\",\"2001-09-07T00:00:00\",\"2007-08-26T00:00:00\"],\"xaxis\":\"x\",\"y\":[10.652174,12.521739,3.347826,5.041667],\"yaxis\":\"y\",\"type\":\"scatter\"},{\"hovertemplate\":\"County=Allegheny<br>Date_Local=%{x}<br>NO2_Mean=%{y}<extra></extra>\",\"legendgroup\":\"Allegheny\",\"marker\":{\"color\":\"#778AAE\",\"opacity\":0.7,\"symbol\":\"circle\"},\"mode\":\"markers\",\"name\":\"Allegheny\",\"orientation\":\"v\",\"showlegend\":true,\"x\":[\"2014-04-25T00:00:00\",\"2011-11-15T00:00:00\",\"2002-10-12T00:00:00\",\"2014-05-27T00:00:00\",\"2001-10-19T00:00:00\",\"2004-06-05T00:00:00\",\"2013-05-18T00:00:00\"],\"xaxis\":\"x\",\"y\":[14.408333,8.870833,12.791667,12.445833,28.695652,17.583333,8.808333],\"yaxis\":\"y\",\"type\":\"scatter\"},{\"hovertemplate\":\"County=East Baton Rouge<br>Date_Local=%{x}<br>NO2_Mean=%{y}<extra></extra>\",\"legendgroup\":\"East Baton Rouge\",\"marker\":{\"color\":\"#862A16\",\"opacity\":0.7,\"symbol\":\"circle\"},\"mode\":\"markers\",\"name\":\"East Baton Rouge\",\"orientation\":\"v\",\"showlegend\":true,\"x\":[\"2000-03-21T00:00:00\",\"2003-03-12T00:00:00\",\"2000-05-11T00:00:00\",\"2008-06-16T00:00:00\",\"2011-01-31T00:00:00\",\"2013-02-28T00:00:00\",\"2008-10-05T00:00:00\",\"2003-01-09T00:00:00\"],\"xaxis\":\"x\",\"y\":[21.166667,19.73913,9.0,10.708333,13.770833,16.891667,7.952381,14.833333],\"yaxis\":\"y\",\"type\":\"scatter\"},{\"hovertemplate\":\"County=Saint Louis<br>Date_Local=%{x}<br>NO2_Mean=%{y}<extra></extra>\",\"legendgroup\":\"Saint Louis\",\"marker\":{\"color\":\"#A777F1\",\"opacity\":0.7,\"symbol\":\"circle\"},\"mode\":\"markers\",\"name\":\"Saint Louis\",\"orientation\":\"v\",\"showlegend\":true,\"x\":[\"2000-07-08T00:00:00\",\"2000-04-26T00:00:00\",\"2000-05-05T00:00:00\",\"2004-04-20T00:00:00\",\"2000-09-30T00:00:00\",\"2000-06-14T00:00:00\",\"2000-06-01T00:00:00\"],\"xaxis\":\"x\",\"y\":[13.708333,29.833333,13.333333,4.958333,17.958333,12.458333,28.565217],\"yaxis\":\"y\",\"type\":\"scatter\"},{\"hovertemplate\":\"County=Beaver<br>Date_Local=%{x}<br>NO2_Mean=%{y}<extra></extra>\",\"legendgroup\":\"Beaver\",\"marker\":{\"color\":\"#620042\",\"opacity\":0.7,\"symbol\":\"circle\"},\"mode\":\"markers\",\"name\":\"Beaver\",\"orientation\":\"v\",\"showlegend\":true,\"x\":[\"2000-08-10T00:00:00\",\"2007-05-25T00:00:00\",\"2001-07-26T00:00:00\"],\"xaxis\":\"x\",\"y\":[12.208333,15.458333,8.708333],\"yaxis\":\"y\",\"type\":\"scatter\"},{\"hovertemplate\":\"County=Polk<br>Date_Local=%{x}<br>NO2_Mean=%{y}<extra></extra>\",\"legendgroup\":\"Polk\",\"marker\":{\"color\":\"#1616A7\",\"opacity\":0.7,\"symbol\":\"circle\"},\"mode\":\"markers\",\"name\":\"Polk\",\"orientation\":\"v\",\"showlegend\":true,\"x\":[\"2013-08-25T00:00:00\",\"2009-04-26T00:00:00\",\"2009-07-21T00:00:00\",\"2010-07-27T00:00:00\",\"2014-05-26T00:00:00\",\"2012-09-17T00:00:00\",\"2007-04-16T00:00:00\"],\"xaxis\":\"x\",\"y\":[3.195833,5.666667,10.291667,5.458333,3.958333,5.608333,17.625],\"yaxis\":\"y\",\"type\":\"scatter\"},{\"hovertemplate\":\"County=Santa Cruz<br>Date_Local=%{x}<br>NO2_Mean=%{y}<extra></extra>\",\"legendgroup\":\"Santa Cruz\",\"marker\":{\"color\":\"#DA60CA\",\"opacity\":0.7,\"symbol\":\"circle\"},\"mode\":\"markers\",\"name\":\"Santa Cruz\",\"orientation\":\"v\",\"showlegend\":true,\"x\":[\"2008-02-25T00:00:00\",\"2004-12-07T00:00:00\",\"2004-10-26T00:00:00\",\"2005-05-12T00:00:00\"],\"xaxis\":\"x\",\"y\":[2.666667,2.521739,2.222222,3.666667],\"yaxis\":\"y\",\"type\":\"scatter\"},{\"hovertemplate\":\"County=Queens<br>Date_Local=%{x}<br>NO2_Mean=%{y}<extra></extra>\",\"legendgroup\":\"Queens\",\"marker\":{\"color\":\"#6C4516\",\"opacity\":0.7,\"symbol\":\"circle\"},\"mode\":\"markers\",\"name\":\"Queens\",\"orientation\":\"v\",\"showlegend\":true,\"x\":[\"2013-05-06T00:00:00\",\"2015-04-13T00:00:00\",\"2003-11-15T00:00:00\",\"2005-10-23T00:00:00\",\"2015-04-20T00:00:00\",\"2001-10-13T00:00:00\",\"2005-02-12T00:00:00\"],\"xaxis\":\"x\",\"y\":[14.808333,22.983333,18.666667,17.904762,10.369565,27.208333,22.958333],\"yaxis\":\"y\",\"type\":\"scatter\"},{\"hovertemplate\":\"County=Kent<br>Date_Local=%{x}<br>NO2_Mean=%{y}<extra></extra>\",\"legendgroup\":\"Kent\",\"marker\":{\"color\":\"#0D2A63\",\"opacity\":0.7,\"symbol\":\"circle\"},\"mode\":\"markers\",\"name\":\"Kent\",\"orientation\":\"v\",\"showlegend\":true,\"x\":[\"2004-06-30T00:00:00\"],\"xaxis\":\"x\",\"y\":[15.391304],\"yaxis\":\"y\",\"type\":\"scatter\"},{\"hovertemplate\":\"County=Jefferson<br>Date_Local=%{x}<br>NO2_Mean=%{y}<extra></extra>\",\"legendgroup\":\"Jefferson\",\"marker\":{\"color\":\"#AF0038\",\"opacity\":0.7,\"symbol\":\"circle\"},\"mode\":\"markers\",\"name\":\"Jefferson\",\"orientation\":\"v\",\"showlegend\":true,\"x\":[\"2002-04-30T00:00:00\",\"2015-09-28T00:00:00\",\"2015-10-16T00:00:00\"],\"xaxis\":\"x\",\"y\":[15.291667,6.191667,7.0625],\"yaxis\":\"y\",\"type\":\"scatter\"},{\"hovertemplate\":\"County=Blount<br>Date_Local=%{x}<br>NO2_Mean=%{y}<extra></extra>\",\"legendgroup\":\"Blount\",\"marker\":{\"color\":\"#2E91E5\",\"opacity\":0.7,\"symbol\":\"circle\"},\"mode\":\"markers\",\"name\":\"Blount\",\"orientation\":\"v\",\"showlegend\":true,\"x\":[\"2009-10-13T00:00:00\",\"2015-08-22T00:00:00\",\"2009-12-20T00:00:00\",\"2009-07-12T00:00:00\"],\"xaxis\":\"x\",\"y\":[0.8,0.479167,4.479167,0.125],\"yaxis\":\"y\",\"type\":\"scatter\"},{\"hovertemplate\":\"County=Fairfax<br>Date_Local=%{x}<br>NO2_Mean=%{y}<extra></extra>\",\"legendgroup\":\"Fairfax\",\"marker\":{\"color\":\"#E15F99\",\"opacity\":0.7,\"symbol\":\"circle\"},\"mode\":\"markers\",\"name\":\"Fairfax\",\"orientation\":\"v\",\"showlegend\":true,\"x\":[\"2000-10-28T00:00:00\",\"2006-05-26T00:00:00\",\"2008-05-21T00:00:00\",\"2006-10-13T00:00:00\",\"2008-05-30T00:00:00\",\"2008-05-02T00:00:00\",\"2000-12-29T00:00:00\",\"2006-05-04T00:00:00\",\"2009-02-27T00:00:00\",\"2000-02-22T00:00:00\",\"2006-11-07T00:00:00\"],\"xaxis\":\"x\",\"y\":[13.0,7.541667,2.791667,14.583333,5.347826,14.333333,20.666667,16.416667,11.208333,15.666667,20.583333],\"yaxis\":\"y\",\"type\":\"scatter\"},{\"hovertemplate\":\"County=Tulsa<br>Date_Local=%{x}<br>NO2_Mean=%{y}<extra></extra>\",\"legendgroup\":\"Tulsa\",\"marker\":{\"color\":\"#1CA71C\",\"opacity\":0.7,\"symbol\":\"circle\"},\"mode\":\"markers\",\"name\":\"Tulsa\",\"orientation\":\"v\",\"showlegend\":true,\"x\":[\"2011-12-22T00:00:00\",\"2009-09-06T00:00:00\",\"2006-12-30T00:00:00\",\"2007-08-24T00:00:00\",\"2015-01-26T00:00:00\",\"2007-08-09T00:00:00\"],\"xaxis\":\"x\",\"y\":[7.529167,7.708333,7.458333,10.166667,17.129167,10.25],\"yaxis\":\"y\",\"type\":\"scatter\"},{\"hovertemplate\":\"County=Bexar<br>Date_Local=%{x}<br>NO2_Mean=%{y}<extra></extra>\",\"legendgroup\":\"Bexar\",\"marker\":{\"color\":\"#FB0D0D\",\"opacity\":0.7,\"symbol\":\"circle\"},\"mode\":\"markers\",\"name\":\"Bexar\",\"orientation\":\"v\",\"showlegend\":true,\"x\":[\"2008-01-27T00:00:00\",\"2008-04-09T00:00:00\"],\"xaxis\":\"x\",\"y\":[12.55,2.5],\"yaxis\":\"y\",\"type\":\"scatter\"},{\"hovertemplate\":\"County=Blair<br>Date_Local=%{x}<br>NO2_Mean=%{y}<extra></extra>\",\"legendgroup\":\"Blair\",\"marker\":{\"color\":\"#DA16FF\",\"opacity\":0.7,\"symbol\":\"circle\"},\"mode\":\"markers\",\"name\":\"Blair\",\"orientation\":\"v\",\"showlegend\":true,\"x\":[\"2000-08-02T00:00:00\",\"2001-05-08T00:00:00\",\"2001-04-23T00:00:00\",\"2006-07-28T00:00:00\",\"2007-09-28T00:00:00\"],\"xaxis\":\"x\",\"y\":[11.833333,13.208333,16.375,10.0,5.375],\"yaxis\":\"y\",\"type\":\"scatter\"},{\"hovertemplate\":\"County=Travis<br>Date_Local=%{x}<br>NO2_Mean=%{y}<extra></extra>\",\"legendgroup\":\"Travis\",\"marker\":{\"color\":\"#222A2A\",\"opacity\":0.7,\"symbol\":\"circle\"},\"mode\":\"markers\",\"name\":\"Travis\",\"orientation\":\"v\",\"showlegend\":true,\"x\":[\"2013-09-24T00:00:00\"],\"xaxis\":\"x\",\"y\":[10.741667],\"yaxis\":\"y\",\"type\":\"scatter\"},{\"hovertemplate\":\"County=Garrett<br>Date_Local=%{x}<br>NO2_Mean=%{y}<extra></extra>\",\"legendgroup\":\"Garrett\",\"marker\":{\"color\":\"#B68100\",\"opacity\":0.7,\"symbol\":\"circle\"},\"mode\":\"markers\",\"name\":\"Garrett\",\"orientation\":\"v\",\"showlegend\":true,\"x\":[\"2015-01-13T00:00:00\",\"2015-04-21T00:00:00\",\"2015-01-03T00:00:00\",\"2014-05-02T00:00:00\"],\"xaxis\":\"x\",\"y\":[2.63913,1.295652,3.4625,2.904167],\"yaxis\":\"y\",\"type\":\"scatter\"},{\"hovertemplate\":\"County=New Haven<br>Date_Local=%{x}<br>NO2_Mean=%{y}<extra></extra>\",\"legendgroup\":\"New Haven\",\"marker\":{\"color\":\"#750D86\",\"opacity\":0.7,\"symbol\":\"circle\"},\"mode\":\"markers\",\"name\":\"New Haven\",\"orientation\":\"v\",\"showlegend\":true,\"x\":[\"2011-01-23T00:00:00\",\"2015-05-22T00:00:00\",\"2006-09-24T00:00:00\",\"2010-04-18T00:00:00\"],\"xaxis\":\"x\",\"y\":[16.958333,8.566667,20.916667,5.25],\"yaxis\":\"y\",\"type\":\"scatter\"},{\"hovertemplate\":\"County=Hartford<br>Date_Local=%{x}<br>NO2_Mean=%{y}<extra></extra>\",\"legendgroup\":\"Hartford\",\"marker\":{\"color\":\"#EB663B\",\"opacity\":0.7,\"symbol\":\"circle\"},\"mode\":\"markers\",\"name\":\"Hartford\",\"orientation\":\"v\",\"showlegend\":true,\"x\":[\"2009-04-15T00:00:00\",\"2008-07-30T00:00:00\",\"2015-07-14T00:00:00\",\"2012-07-23T00:00:00\"],\"xaxis\":\"x\",\"y\":[7.217391,8.083333,5.4,9.708333],\"yaxis\":\"y\",\"type\":\"scatter\"},{\"hovertemplate\":\"County=York<br>Date_Local=%{x}<br>NO2_Mean=%{y}<extra></extra>\",\"legendgroup\":\"York\",\"marker\":{\"color\":\"#511CFB\",\"opacity\":0.7,\"symbol\":\"circle\"},\"mode\":\"markers\",\"name\":\"York\",\"orientation\":\"v\",\"showlegend\":true,\"x\":[\"2004-09-08T00:00:00\",\"2012-06-17T00:00:00\",\"2002-05-27T00:00:00\",\"2001-07-24T00:00:00\",\"2005-09-27T00:00:00\",\"2016-02-16T00:00:00\",\"2012-09-02T00:00:00\",\"2004-09-06T00:00:00\",\"2010-08-23T00:00:00\",\"2007-04-04T00:00:00\",\"2012-01-20T00:00:00\"],\"xaxis\":\"x\",\"y\":[9.083333,4.583333,8.208333,10.166667,15.333333,14.541667,7.5,1.916667,8.333333,9.909091,14.25],\"yaxis\":\"y\",\"type\":\"scatter\"},{\"hovertemplate\":\"County=Adair<br>Date_Local=%{x}<br>NO2_Mean=%{y}<extra></extra>\",\"legendgroup\":\"Adair\",\"marker\":{\"color\":\"#00A08B\",\"opacity\":0.7,\"symbol\":\"circle\"},\"mode\":\"markers\",\"name\":\"Adair\",\"orientation\":\"v\",\"showlegend\":true,\"x\":[\"2012-10-30T00:00:00\"],\"xaxis\":\"x\",\"y\":[3.763636],\"yaxis\":\"y\",\"type\":\"scatter\"},{\"hovertemplate\":\"County=Pima<br>Date_Local=%{x}<br>NO2_Mean=%{y}<extra></extra>\",\"legendgroup\":\"Pima\",\"marker\":{\"color\":\"#FB00D1\",\"opacity\":0.7,\"symbol\":\"circle\"},\"mode\":\"markers\",\"name\":\"Pima\",\"orientation\":\"v\",\"showlegend\":true,\"x\":[\"2003-06-20T00:00:00\",\"2015-05-08T00:00:00\",\"2009-09-05T00:00:00\",\"2002-01-16T00:00:00\",\"2002-05-01T00:00:00\",\"2009-09-28T00:00:00\",\"2006-12-01T00:00:00\",\"2009-11-25T00:00:00\",\"2009-05-26T00:00:00\"],\"xaxis\":\"x\",\"y\":[8.541667,3.395833,6.541667,27.173913,13.916667,12.708333,25.125,13.083333,7.5],\"yaxis\":\"y\",\"type\":\"scatter\"},{\"hovertemplate\":\"County=Meigs<br>Date_Local=%{x}<br>NO2_Mean=%{y}<extra></extra>\",\"legendgroup\":\"Meigs\",\"marker\":{\"color\":\"#FC0080\",\"opacity\":0.7,\"symbol\":\"circle\"},\"mode\":\"markers\",\"name\":\"Meigs\",\"orientation\":\"v\",\"showlegend\":true,\"x\":[\"2002-09-28T00:00:00\",\"2003-03-01T00:00:00\"],\"xaxis\":\"x\",\"y\":[2.782609,8.826087],\"yaxis\":\"y\",\"type\":\"scatter\"},{\"hovertemplate\":\"County=Charleston<br>Date_Local=%{x}<br>NO2_Mean=%{y}<extra></extra>\",\"legendgroup\":\"Charleston\",\"marker\":{\"color\":\"#B2828D\",\"opacity\":0.7,\"symbol\":\"circle\"},\"mode\":\"markers\",\"name\":\"Charleston\",\"orientation\":\"v\",\"showlegend\":true,\"x\":[\"2006-03-19T00:00:00\"],\"xaxis\":\"x\",\"y\":[3.25],\"yaxis\":\"y\",\"type\":\"scatter\"},{\"hovertemplate\":\"County=Laramie<br>Date_Local=%{x}<br>NO2_Mean=%{y}<extra></extra>\",\"legendgroup\":\"Laramie\",\"marker\":{\"color\":\"#6C7C32\",\"opacity\":0.7,\"symbol\":\"circle\"},\"mode\":\"markers\",\"name\":\"Laramie\",\"orientation\":\"v\",\"showlegend\":true,\"x\":[\"2013-01-05T00:00:00\",\"2015-07-12T00:00:00\",\"2015-12-06T00:00:00\",\"2013-06-28T00:00:00\"],\"xaxis\":\"x\",\"y\":[4.9625,2.766667,9.690909,2.83913],\"yaxis\":\"y\",\"type\":\"scatter\"},{\"hovertemplate\":\"County=Oklahoma<br>Date_Local=%{x}<br>NO2_Mean=%{y}<extra></extra>\",\"legendgroup\":\"Oklahoma\",\"marker\":{\"color\":\"#778AAE\",\"opacity\":0.7,\"symbol\":\"circle\"},\"mode\":\"markers\",\"name\":\"Oklahoma\",\"orientation\":\"v\",\"showlegend\":true,\"x\":[\"2012-11-08T00:00:00\",\"2014-10-12T00:00:00\",\"2014-11-02T00:00:00\",\"2011-12-16T00:00:00\"],\"xaxis\":\"x\",\"y\":[1.958333,4.375,2.083333,11.541667],\"yaxis\":\"y\",\"type\":\"scatter\"},{\"hovertemplate\":\"County=McLennan<br>Date_Local=%{x}<br>NO2_Mean=%{y}<extra></extra>\",\"legendgroup\":\"McLennan\",\"marker\":{\"color\":\"#862A16\",\"opacity\":0.7,\"symbol\":\"circle\"},\"mode\":\"markers\",\"name\":\"McLennan\",\"orientation\":\"v\",\"showlegend\":true,\"x\":[\"2014-10-23T00:00:00\",\"2009-04-12T00:00:00\",\"2010-09-11T00:00:00\",\"2015-02-25T00:00:00\",\"2008-12-19T00:00:00\",\"2008-07-27T00:00:00\",\"2014-04-20T00:00:00\",\"2012-07-16T00:00:00\"],\"xaxis\":\"x\",\"y\":[1.929167,0.254545,1.85,1.65,5.941667,0.772727,-0.568182,1.008333],\"yaxis\":\"y\",\"type\":\"scatter\"},{\"hovertemplate\":\"County=Dauphin<br>Date_Local=%{x}<br>NO2_Mean=%{y}<extra></extra>\",\"legendgroup\":\"Dauphin\",\"marker\":{\"color\":\"#A777F1\",\"opacity\":0.7,\"symbol\":\"circle\"},\"mode\":\"markers\",\"name\":\"Dauphin\",\"orientation\":\"v\",\"showlegend\":true,\"x\":[\"2008-07-01T00:00:00\"],\"xaxis\":\"x\",\"y\":[8.875],\"yaxis\":\"y\",\"type\":\"scatter\"},{\"hovertemplate\":\"County=Santa Clara<br>Date_Local=%{x}<br>NO2_Mean=%{y}<extra></extra>\",\"legendgroup\":\"Santa Clara\",\"marker\":{\"color\":\"#620042\",\"opacity\":0.7,\"symbol\":\"circle\"},\"mode\":\"markers\",\"name\":\"Santa Clara\",\"orientation\":\"v\",\"showlegend\":true,\"x\":[\"2011-07-26T00:00:00\",\"2011-10-12T00:00:00\",\"2013-08-11T00:00:00\",\"2011-03-14T00:00:00\",\"2010-09-01T00:00:00\",\"2010-07-31T00:00:00\",\"2009-08-01T00:00:00\",\"2011-10-14T00:00:00\",\"2012-02-16T00:00:00\"],\"xaxis\":\"x\",\"y\":[5.838095,6.917391,4.209091,6.008696,10.210526,9.565217,5.782609,35.918182,12.4625],\"yaxis\":\"y\",\"type\":\"scatter\"},{\"hovertemplate\":\"County=Lawrence<br>Date_Local=%{x}<br>NO2_Mean=%{y}<extra></extra>\",\"legendgroup\":\"Lawrence\",\"marker\":{\"color\":\"#1616A7\",\"opacity\":0.7,\"symbol\":\"circle\"},\"mode\":\"markers\",\"name\":\"Lawrence\",\"orientation\":\"v\",\"showlegend\":true,\"x\":[\"2002-05-14T00:00:00\",\"2001-07-05T00:00:00\",\"2004-06-08T00:00:00\",\"2002-08-13T00:00:00\",\"2001-06-18T00:00:00\"],\"xaxis\":\"x\",\"y\":[12.666667,16.125,19.75,23.625,18.916667],\"yaxis\":\"y\",\"type\":\"scatter\"},{\"hovertemplate\":\"County=Essex<br>Date_Local=%{x}<br>NO2_Mean=%{y}<extra></extra>\",\"legendgroup\":\"Essex\",\"marker\":{\"color\":\"#DA60CA\",\"opacity\":0.7,\"symbol\":\"circle\"},\"mode\":\"markers\",\"name\":\"Essex\",\"orientation\":\"v\",\"showlegend\":true,\"x\":[\"2011-02-11T00:00:00\",\"2002-12-07T00:00:00\",\"2002-09-28T00:00:00\",\"2011-03-29T00:00:00\",\"2013-07-21T00:00:00\",\"2001-10-22T00:00:00\"],\"xaxis\":\"x\",\"y\":[39.125,41.458333,10.916667,11.75,13.0,37.208333],\"yaxis\":\"y\",\"type\":\"scatter\"},{\"hovertemplate\":\"County=Alexandria City<br>Date_Local=%{x}<br>NO2_Mean=%{y}<extra></extra>\",\"legendgroup\":\"Alexandria City\",\"marker\":{\"color\":\"#6C4516\",\"opacity\":0.7,\"symbol\":\"circle\"},\"mode\":\"markers\",\"name\":\"Alexandria City\",\"orientation\":\"v\",\"showlegend\":true,\"x\":[\"2011-08-25T00:00:00\",\"2007-04-03T00:00:00\",\"2013-10-15T00:00:00\",\"2010-10-14T00:00:00\"],\"xaxis\":\"x\",\"y\":[9.991667,27.666667,16.620833,14.870833],\"yaxis\":\"y\",\"type\":\"scatter\"},{\"hovertemplate\":\"County=Kay<br>Date_Local=%{x}<br>NO2_Mean=%{y}<extra></extra>\",\"legendgroup\":\"Kay\",\"marker\":{\"color\":\"#0D2A63\",\"opacity\":0.7,\"symbol\":\"circle\"},\"mode\":\"markers\",\"name\":\"Kay\",\"orientation\":\"v\",\"showlegend\":true,\"x\":[\"2003-10-13T00:00:00\"],\"xaxis\":\"x\",\"y\":[5.125],\"yaxis\":\"y\",\"type\":\"scatter\"},{\"hovertemplate\":\"County=Imperial<br>Date_Local=%{x}<br>NO2_Mean=%{y}<extra></extra>\",\"legendgroup\":\"Imperial\",\"marker\":{\"color\":\"#AF0038\",\"opacity\":0.7,\"symbol\":\"circle\"},\"mode\":\"markers\",\"name\":\"Imperial\",\"orientation\":\"v\",\"showlegend\":true,\"x\":[\"2014-10-20T00:00:00\",\"2011-05-09T00:00:00\",\"2010-07-10T00:00:00\",\"2000-11-27T00:00:00\",\"2011-01-06T00:00:00\",\"2012-12-04T00:00:00\",\"2000-04-30T00:00:00\",\"2014-06-11T00:00:00\",\"2011-10-25T00:00:00\",\"2001-06-08T00:00:00\",\"2000-07-05T00:00:00\"],\"xaxis\":\"x\",\"y\":[15.717391,3.869565,13.043478,36.913043,20.347826,16.695652,14.826087,9.06087,11.26087,11.772727,13.217391],\"yaxis\":\"y\",\"type\":\"scatter\"},{\"hovertemplate\":\"County=Fremont<br>Date_Local=%{x}<br>NO2_Mean=%{y}<extra></extra>\",\"legendgroup\":\"Fremont\",\"marker\":{\"color\":\"#2E91E5\",\"opacity\":0.7,\"symbol\":\"circle\"},\"mode\":\"markers\",\"name\":\"Fremont\",\"orientation\":\"v\",\"showlegend\":true,\"x\":[\"2014-10-08T00:00:00\"],\"xaxis\":\"x\",\"y\":[1.958333],\"yaxis\":\"y\",\"type\":\"scatter\"},{\"hovertemplate\":\"County=Baltimore<br>Date_Local=%{x}<br>NO2_Mean=%{y}<extra></extra>\",\"legendgroup\":\"Baltimore\",\"marker\":{\"color\":\"#E15F99\",\"opacity\":0.7,\"symbol\":\"circle\"},\"mode\":\"markers\",\"name\":\"Baltimore\",\"orientation\":\"v\",\"showlegend\":true,\"x\":[\"2006-07-24T00:00:00\"],\"xaxis\":\"x\",\"y\":[12.478261],\"yaxis\":\"y\",\"type\":\"scatter\"},{\"hovertemplate\":\"County=Wyandotte<br>Date_Local=%{x}<br>NO2_Mean=%{y}<extra></extra>\",\"legendgroup\":\"Wyandotte\",\"marker\":{\"color\":\"#1CA71C\",\"opacity\":0.7,\"symbol\":\"circle\"},\"mode\":\"markers\",\"name\":\"Wyandotte\",\"orientation\":\"v\",\"showlegend\":true,\"x\":[\"2012-05-04T00:00:00\",\"2001-01-25T00:00:00\",\"2009-11-25T00:00:00\",\"2006-03-25T00:00:00\",\"2006-01-02T00:00:00\",\"2005-06-22T00:00:00\",\"2010-09-10T00:00:00\",\"2005-05-30T00:00:00\",\"2012-08-24T00:00:00\",\"2008-06-12T00:00:00\"],\"xaxis\":\"x\",\"y\":[8.070833,21.083333,5.875,16.083333,11.416667,23.875,12.217391,8.833333,10.416667,10.125],\"yaxis\":\"y\",\"type\":\"scatter\"},{\"hovertemplate\":\"County=Kern<br>Date_Local=%{x}<br>NO2_Mean=%{y}<extra></extra>\",\"legendgroup\":\"Kern\",\"marker\":{\"color\":\"#FB0D0D\",\"opacity\":0.7,\"symbol\":\"circle\"},\"mode\":\"markers\",\"name\":\"Kern\",\"orientation\":\"v\",\"showlegend\":true,\"x\":[\"2001-01-12T00:00:00\"],\"xaxis\":\"x\",\"y\":[22.521739],\"yaxis\":\"y\",\"type\":\"scatter\"},{\"hovertemplate\":\"County=Hamilton<br>Date_Local=%{x}<br>NO2_Mean=%{y}<extra></extra>\",\"legendgroup\":\"Hamilton\",\"marker\":{\"color\":\"#DA16FF\",\"opacity\":0.7,\"symbol\":\"circle\"},\"mode\":\"markers\",\"name\":\"Hamilton\",\"orientation\":\"v\",\"showlegend\":true,\"x\":[\"2014-08-11T00:00:00\",\"2015-07-09T00:00:00\"],\"xaxis\":\"x\",\"y\":[7.875,5.208333],\"yaxis\":\"y\",\"type\":\"scatter\"},{\"hovertemplate\":\"County=Anoka<br>Date_Local=%{x}<br>NO2_Mean=%{y}<extra></extra>\",\"legendgroup\":\"Anoka\",\"marker\":{\"color\":\"#222A2A\",\"opacity\":0.7,\"symbol\":\"circle\"},\"mode\":\"markers\",\"name\":\"Anoka\",\"orientation\":\"v\",\"showlegend\":true,\"x\":[\"2011-06-26T00:00:00\",\"2014-05-06T00:00:00\"],\"xaxis\":\"x\",\"y\":[2.75,1.958333],\"yaxis\":\"y\",\"type\":\"scatter\"},{\"hovertemplate\":\"County=Providence<br>Date_Local=%{x}<br>NO2_Mean=%{y}<extra></extra>\",\"legendgroup\":\"Providence\",\"marker\":{\"color\":\"#B68100\",\"opacity\":0.7,\"symbol\":\"circle\"},\"mode\":\"markers\",\"name\":\"Providence\",\"orientation\":\"v\",\"showlegend\":true,\"x\":[\"2013-10-27T00:00:00\",\"2015-06-24T00:00:00\",\"2014-06-10T00:00:00\",\"2012-03-20T00:00:00\"],\"xaxis\":\"x\",\"y\":[6.225,2.8125,3.452174,10.0375],\"yaxis\":\"y\",\"type\":\"scatter\"},{\"hovertemplate\":\"County=Wayne<br>Date_Local=%{x}<br>NO2_Mean=%{y}<extra></extra>\",\"legendgroup\":\"Wayne\",\"marker\":{\"color\":\"#750D86\",\"opacity\":0.7,\"symbol\":\"circle\"},\"mode\":\"markers\",\"name\":\"Wayne\",\"orientation\":\"v\",\"showlegend\":true,\"x\":[\"2002-07-17T00:00:00\",\"2002-04-17T00:00:00\",\"2003-08-02T00:00:00\"],\"xaxis\":\"x\",\"y\":[23.791667,24.333333,18.708333],\"yaxis\":\"y\",\"type\":\"scatter\"},{\"hovertemplate\":\"County=New Castle<br>Date_Local=%{x}<br>NO2_Mean=%{y}<extra></extra>\",\"legendgroup\":\"New Castle\",\"marker\":{\"color\":\"#EB663B\",\"opacity\":0.7,\"symbol\":\"circle\"},\"mode\":\"markers\",\"name\":\"New Castle\",\"orientation\":\"v\",\"showlegend\":true,\"x\":[\"2011-09-22T00:00:00\"],\"xaxis\":\"x\",\"y\":[8.208333],\"yaxis\":\"y\",\"type\":\"scatter\"},{\"hovertemplate\":\"County=Fayette<br>Date_Local=%{x}<br>NO2_Mean=%{y}<extra></extra>\",\"legendgroup\":\"Fayette\",\"marker\":{\"color\":\"#511CFB\",\"opacity\":0.7,\"symbol\":\"circle\"},\"mode\":\"markers\",\"name\":\"Fayette\",\"orientation\":\"v\",\"showlegend\":true,\"x\":[\"2002-07-01T00:00:00\",\"2001-05-27T00:00:00\"],\"xaxis\":\"x\",\"y\":[18.869565,3.826087],\"yaxis\":\"y\",\"type\":\"scatter\"},{\"hovertemplate\":\"County=Uinta<br>Date_Local=%{x}<br>NO2_Mean=%{y}<extra></extra>\",\"legendgroup\":\"Uinta\",\"marker\":{\"color\":\"#00A08B\",\"opacity\":0.7,\"symbol\":\"circle\"},\"mode\":\"markers\",\"name\":\"Uinta\",\"orientation\":\"v\",\"showlegend\":true,\"x\":[\"2007-05-25T00:00:00\",\"2007-04-20T00:00:00\",\"2007-11-21T00:00:00\"],\"xaxis\":\"x\",\"y\":[0.666667,0.0,3.25],\"yaxis\":\"y\",\"type\":\"scatter\"},{\"hovertemplate\":\"County=Linn<br>Date_Local=%{x}<br>NO2_Mean=%{y}<extra></extra>\",\"legendgroup\":\"Linn\",\"marker\":{\"color\":\"#FB00D1\",\"opacity\":0.7,\"symbol\":\"circle\"},\"mode\":\"markers\",\"name\":\"Linn\",\"orientation\":\"v\",\"showlegend\":true,\"x\":[\"2002-12-26T00:00:00\"],\"xaxis\":\"x\",\"y\":[8.041667],\"yaxis\":\"y\",\"type\":\"scatter\"},{\"hovertemplate\":\"County=Hampton City<br>Date_Local=%{x}<br>NO2_Mean=%{y}<extra></extra>\",\"legendgroup\":\"Hampton City\",\"marker\":{\"color\":\"#FC0080\",\"opacity\":0.7,\"symbol\":\"circle\"},\"mode\":\"markers\",\"name\":\"Hampton City\",\"orientation\":\"v\",\"showlegend\":true,\"x\":[\"2010-10-20T00:00:00\",\"2010-08-18T00:00:00\",\"2012-10-15T00:00:00\",\"2011-08-16T00:00:00\"],\"xaxis\":\"x\",\"y\":[1.815789,3.768182,3.747826,5.142105],\"yaxis\":\"y\",\"type\":\"scatter\"},{\"hovertemplate\":\"County=Haywood<br>Date_Local=%{x}<br>NO2_Mean=%{y}<extra></extra>\",\"legendgroup\":\"Haywood\",\"marker\":{\"color\":\"#B2828D\",\"opacity\":0.7,\"symbol\":\"circle\"},\"mode\":\"markers\",\"name\":\"Haywood\",\"orientation\":\"v\",\"showlegend\":true,\"x\":[\"2002-05-30T00:00:00\"],\"xaxis\":\"x\",\"y\":[1.0],\"yaxis\":\"y\",\"type\":\"scatter\"},{\"hovertemplate\":\"County=Montgomery<br>Date_Local=%{x}<br>NO2_Mean=%{y}<extra></extra>\",\"legendgroup\":\"Montgomery\",\"marker\":{\"color\":\"#6C7C32\",\"opacity\":0.7,\"symbol\":\"circle\"},\"mode\":\"markers\",\"name\":\"Montgomery\",\"orientation\":\"v\",\"showlegend\":true,\"x\":[\"2006-06-28T00:00:00\",\"2003-06-08T00:00:00\",\"2006-05-09T00:00:00\",\"2001-09-14T00:00:00\"],\"xaxis\":\"x\",\"y\":[8.333333,9.5,11.75,11.25],\"yaxis\":\"y\",\"type\":\"scatter\"},{\"hovertemplate\":\"County=Union<br>Date_Local=%{x}<br>NO2_Mean=%{y}<extra></extra>\",\"legendgroup\":\"Union\",\"marker\":{\"color\":\"#778AAE\",\"opacity\":0.7,\"symbol\":\"circle\"},\"mode\":\"markers\",\"name\":\"Union\",\"orientation\":\"v\",\"showlegend\":true,\"x\":[\"2013-04-01T00:00:00\"],\"xaxis\":\"x\",\"y\":[1.970833],\"yaxis\":\"y\",\"type\":\"scatter\"},{\"hovertemplate\":\"County=Fairbanks North Star <br>Date_Local=%{x}<br>NO2_Mean=%{y}<extra></extra>\",\"legendgroup\":\"Fairbanks North Star \",\"marker\":{\"color\":\"#862A16\",\"opacity\":0.7,\"symbol\":\"circle\"},\"mode\":\"markers\",\"name\":\"Fairbanks North Star \",\"orientation\":\"v\",\"showlegend\":true,\"x\":[\"2014-11-25T00:00:00\"],\"xaxis\":\"x\",\"y\":[13.2],\"yaxis\":\"y\",\"type\":\"scatter\"},{\"hovertemplate\":\"County=Clark<br>Date_Local=%{x}<br>NO2_Mean=%{y}<extra></extra>\",\"legendgroup\":\"Clark\",\"marker\":{\"color\":\"#A777F1\",\"opacity\":0.7,\"symbol\":\"circle\"},\"mode\":\"markers\",\"name\":\"Clark\",\"orientation\":\"v\",\"showlegend\":true,\"x\":[\"2003-01-08T00:00:00\"],\"xaxis\":\"x\",\"y\":[7.347826],\"yaxis\":\"y\",\"type\":\"scatter\"},{\"hovertemplate\":\"County=Luzerne<br>Date_Local=%{x}<br>NO2_Mean=%{y}<extra></extra>\",\"legendgroup\":\"Luzerne\",\"marker\":{\"color\":\"#620042\",\"opacity\":0.7,\"symbol\":\"circle\"},\"mode\":\"markers\",\"name\":\"Luzerne\",\"orientation\":\"v\",\"showlegend\":true,\"x\":[\"2008-09-26T00:00:00\"],\"xaxis\":\"x\",\"y\":[5.833333],\"yaxis\":\"y\",\"type\":\"scatter\"},{\"hovertemplate\":\"County=Uintah<br>Date_Local=%{x}<br>NO2_Mean=%{y}<extra></extra>\",\"legendgroup\":\"Uintah\",\"marker\":{\"color\":\"#1616A7\",\"opacity\":0.7,\"symbol\":\"circle\"},\"mode\":\"markers\",\"name\":\"Uintah\",\"orientation\":\"v\",\"showlegend\":true,\"x\":[\"2012-09-27T00:00:00\"],\"xaxis\":\"x\",\"y\":[2.133333],\"yaxis\":\"y\",\"type\":\"scatter\"},{\"hovertemplate\":\"County=King<br>Date_Local=%{x}<br>NO2_Mean=%{y}<extra></extra>\",\"legendgroup\":\"King\",\"marker\":{\"color\":\"#DA60CA\",\"opacity\":0.7,\"symbol\":\"circle\"},\"mode\":\"markers\",\"name\":\"King\",\"orientation\":\"v\",\"showlegend\":true,\"x\":[\"2015-08-13T00:00:00\"],\"xaxis\":\"x\",\"y\":[14.034783],\"yaxis\":\"y\",\"type\":\"scatter\"},{\"hovertemplate\":\"County=Minnehaha<br>Date_Local=%{x}<br>NO2_Mean=%{y}<extra></extra>\",\"legendgroup\":\"Minnehaha\",\"marker\":{\"color\":\"#6C4516\",\"opacity\":0.7,\"symbol\":\"circle\"},\"mode\":\"markers\",\"name\":\"Minnehaha\",\"orientation\":\"v\",\"showlegend\":true,\"x\":[\"2012-11-06T00:00:00\",\"2014-09-21T00:00:00\"],\"xaxis\":\"x\",\"y\":[4.1,3.608333],\"yaxis\":\"y\",\"type\":\"scatter\"},{\"hovertemplate\":\"County=Sweetwater<br>Date_Local=%{x}<br>NO2_Mean=%{y}<extra></extra>\",\"legendgroup\":\"Sweetwater\",\"marker\":{\"color\":\"#0D2A63\",\"opacity\":0.7,\"symbol\":\"circle\"},\"mode\":\"markers\",\"name\":\"Sweetwater\",\"orientation\":\"v\",\"showlegend\":true,\"x\":[\"2012-12-24T00:00:00\"],\"xaxis\":\"x\",\"y\":[5.916667],\"yaxis\":\"y\",\"type\":\"scatter\"},{\"hovertemplate\":\"County=McCracken<br>Date_Local=%{x}<br>NO2_Mean=%{y}<extra></extra>\",\"legendgroup\":\"McCracken\",\"marker\":{\"color\":\"#AF0038\",\"opacity\":0.7,\"symbol\":\"circle\"},\"mode\":\"markers\",\"name\":\"McCracken\",\"orientation\":\"v\",\"showlegend\":true,\"x\":[\"2001-04-08T00:00:00\"],\"xaxis\":\"x\",\"y\":[1.73913],\"yaxis\":\"y\",\"type\":\"scatter\"}],                        {\"template\":{\"data\":{\"histogram2dcontour\":[{\"type\":\"histogram2dcontour\",\"colorbar\":{\"outlinewidth\":0,\"ticks\":\"\"},\"colorscale\":[[0.0,\"#0d0887\"],[0.1111111111111111,\"#46039f\"],[0.2222222222222222,\"#7201a8\"],[0.3333333333333333,\"#9c179e\"],[0.4444444444444444,\"#bd3786\"],[0.5555555555555556,\"#d8576b\"],[0.6666666666666666,\"#ed7953\"],[0.7777777777777778,\"#fb9f3a\"],[0.8888888888888888,\"#fdca26\"],[1.0,\"#f0f921\"]]}],\"choropleth\":[{\"type\":\"choropleth\",\"colorbar\":{\"outlinewidth\":0,\"ticks\":\"\"}}],\"histogram2d\":[{\"type\":\"histogram2d\",\"colorbar\":{\"outlinewidth\":0,\"ticks\":\"\"},\"colorscale\":[[0.0,\"#0d0887\"],[0.1111111111111111,\"#46039f\"],[0.2222222222222222,\"#7201a8\"],[0.3333333333333333,\"#9c179e\"],[0.4444444444444444,\"#bd3786\"],[0.5555555555555556,\"#d8576b\"],[0.6666666666666666,\"#ed7953\"],[0.7777777777777778,\"#fb9f3a\"],[0.8888888888888888,\"#fdca26\"],[1.0,\"#f0f921\"]]}],\"heatmap\":[{\"type\":\"heatmap\",\"colorbar\":{\"outlinewidth\":0,\"ticks\":\"\"},\"colorscale\":[[0.0,\"#0d0887\"],[0.1111111111111111,\"#46039f\"],[0.2222222222222222,\"#7201a8\"],[0.3333333333333333,\"#9c179e\"],[0.4444444444444444,\"#bd3786\"],[0.5555555555555556,\"#d8576b\"],[0.6666666666666666,\"#ed7953\"],[0.7777777777777778,\"#fb9f3a\"],[0.8888888888888888,\"#fdca26\"],[1.0,\"#f0f921\"]]}],\"heatmapgl\":[{\"type\":\"heatmapgl\",\"colorbar\":{\"outlinewidth\":0,\"ticks\":\"\"},\"colorscale\":[[0.0,\"#0d0887\"],[0.1111111111111111,\"#46039f\"],[0.2222222222222222,\"#7201a8\"],[0.3333333333333333,\"#9c179e\"],[0.4444444444444444,\"#bd3786\"],[0.5555555555555556,\"#d8576b\"],[0.6666666666666666,\"#ed7953\"],[0.7777777777777778,\"#fb9f3a\"],[0.8888888888888888,\"#fdca26\"],[1.0,\"#f0f921\"]]}],\"contourcarpet\":[{\"type\":\"contourcarpet\",\"colorbar\":{\"outlinewidth\":0,\"ticks\":\"\"}}],\"contour\":[{\"type\":\"contour\",\"colorbar\":{\"outlinewidth\":0,\"ticks\":\"\"},\"colorscale\":[[0.0,\"#0d0887\"],[0.1111111111111111,\"#46039f\"],[0.2222222222222222,\"#7201a8\"],[0.3333333333333333,\"#9c179e\"],[0.4444444444444444,\"#bd3786\"],[0.5555555555555556,\"#d8576b\"],[0.6666666666666666,\"#ed7953\"],[0.7777777777777778,\"#fb9f3a\"],[0.8888888888888888,\"#fdca26\"],[1.0,\"#f0f921\"]]}],\"surface\":[{\"type\":\"surface\",\"colorbar\":{\"outlinewidth\":0,\"ticks\":\"\"},\"colorscale\":[[0.0,\"#0d0887\"],[0.1111111111111111,\"#46039f\"],[0.2222222222222222,\"#7201a8\"],[0.3333333333333333,\"#9c179e\"],[0.4444444444444444,\"#bd3786\"],[0.5555555555555556,\"#d8576b\"],[0.6666666666666666,\"#ed7953\"],[0.7777777777777778,\"#fb9f3a\"],[0.8888888888888888,\"#fdca26\"],[1.0,\"#f0f921\"]]}],\"mesh3d\":[{\"type\":\"mesh3d\",\"colorbar\":{\"outlinewidth\":0,\"ticks\":\"\"}}],\"scatter\":[{\"fillpattern\":{\"fillmode\":\"overlay\",\"size\":10,\"solidity\":0.2},\"type\":\"scatter\"}],\"parcoords\":[{\"type\":\"parcoords\",\"line\":{\"colorbar\":{\"outlinewidth\":0,\"ticks\":\"\"}}}],\"scatterpolargl\":[{\"type\":\"scatterpolargl\",\"marker\":{\"colorbar\":{\"outlinewidth\":0,\"ticks\":\"\"}}}],\"bar\":[{\"error_x\":{\"color\":\"#2a3f5f\"},\"error_y\":{\"color\":\"#2a3f5f\"},\"marker\":{\"line\":{\"color\":\"#E5ECF6\",\"width\":0.5},\"pattern\":{\"fillmode\":\"overlay\",\"size\":10,\"solidity\":0.2}},\"type\":\"bar\"}],\"scattergeo\":[{\"type\":\"scattergeo\",\"marker\":{\"colorbar\":{\"outlinewidth\":0,\"ticks\":\"\"}}}],\"scatterpolar\":[{\"type\":\"scatterpolar\",\"marker\":{\"colorbar\":{\"outlinewidth\":0,\"ticks\":\"\"}}}],\"histogram\":[{\"marker\":{\"pattern\":{\"fillmode\":\"overlay\",\"size\":10,\"solidity\":0.2}},\"type\":\"histogram\"}],\"scattergl\":[{\"type\":\"scattergl\",\"marker\":{\"colorbar\":{\"outlinewidth\":0,\"ticks\":\"\"}}}],\"scatter3d\":[{\"type\":\"scatter3d\",\"line\":{\"colorbar\":{\"outlinewidth\":0,\"ticks\":\"\"}},\"marker\":{\"colorbar\":{\"outlinewidth\":0,\"ticks\":\"\"}}}],\"scattermapbox\":[{\"type\":\"scattermapbox\",\"marker\":{\"colorbar\":{\"outlinewidth\":0,\"ticks\":\"\"}}}],\"scatterternary\":[{\"type\":\"scatterternary\",\"marker\":{\"colorbar\":{\"outlinewidth\":0,\"ticks\":\"\"}}}],\"scattercarpet\":[{\"type\":\"scattercarpet\",\"marker\":{\"colorbar\":{\"outlinewidth\":0,\"ticks\":\"\"}}}],\"carpet\":[{\"aaxis\":{\"endlinecolor\":\"#2a3f5f\",\"gridcolor\":\"white\",\"linecolor\":\"white\",\"minorgridcolor\":\"white\",\"startlinecolor\":\"#2a3f5f\"},\"baxis\":{\"endlinecolor\":\"#2a3f5f\",\"gridcolor\":\"white\",\"linecolor\":\"white\",\"minorgridcolor\":\"white\",\"startlinecolor\":\"#2a3f5f\"},\"type\":\"carpet\"}],\"table\":[{\"cells\":{\"fill\":{\"color\":\"#EBF0F8\"},\"line\":{\"color\":\"white\"}},\"header\":{\"fill\":{\"color\":\"#C8D4E3\"},\"line\":{\"color\":\"white\"}},\"type\":\"table\"}],\"barpolar\":[{\"marker\":{\"line\":{\"color\":\"#E5ECF6\",\"width\":0.5},\"pattern\":{\"fillmode\":\"overlay\",\"size\":10,\"solidity\":0.2}},\"type\":\"barpolar\"}],\"pie\":[{\"automargin\":true,\"type\":\"pie\"}]},\"layout\":{\"autotypenumbers\":\"strict\",\"colorway\":[\"#636efa\",\"#EF553B\",\"#00cc96\",\"#ab63fa\",\"#FFA15A\",\"#19d3f3\",\"#FF6692\",\"#B6E880\",\"#FF97FF\",\"#FECB52\"],\"font\":{\"color\":\"#2a3f5f\"},\"hovermode\":\"closest\",\"hoverlabel\":{\"align\":\"left\"},\"paper_bgcolor\":\"white\",\"plot_bgcolor\":\"#E5ECF6\",\"polar\":{\"bgcolor\":\"#E5ECF6\",\"angularaxis\":{\"gridcolor\":\"white\",\"linecolor\":\"white\",\"ticks\":\"\"},\"radialaxis\":{\"gridcolor\":\"white\",\"linecolor\":\"white\",\"ticks\":\"\"}},\"ternary\":{\"bgcolor\":\"#E5ECF6\",\"aaxis\":{\"gridcolor\":\"white\",\"linecolor\":\"white\",\"ticks\":\"\"},\"baxis\":{\"gridcolor\":\"white\",\"linecolor\":\"white\",\"ticks\":\"\"},\"caxis\":{\"gridcolor\":\"white\",\"linecolor\":\"white\",\"ticks\":\"\"}},\"coloraxis\":{\"colorbar\":{\"outlinewidth\":0,\"ticks\":\"\"}},\"colorscale\":{\"sequential\":[[0.0,\"#0d0887\"],[0.1111111111111111,\"#46039f\"],[0.2222222222222222,\"#7201a8\"],[0.3333333333333333,\"#9c179e\"],[0.4444444444444444,\"#bd3786\"],[0.5555555555555556,\"#d8576b\"],[0.6666666666666666,\"#ed7953\"],[0.7777777777777778,\"#fb9f3a\"],[0.8888888888888888,\"#fdca26\"],[1.0,\"#f0f921\"]],\"sequentialminus\":[[0.0,\"#0d0887\"],[0.1111111111111111,\"#46039f\"],[0.2222222222222222,\"#7201a8\"],[0.3333333333333333,\"#9c179e\"],[0.4444444444444444,\"#bd3786\"],[0.5555555555555556,\"#d8576b\"],[0.6666666666666666,\"#ed7953\"],[0.7777777777777778,\"#fb9f3a\"],[0.8888888888888888,\"#fdca26\"],[1.0,\"#f0f921\"]],\"diverging\":[[0,\"#8e0152\"],[0.1,\"#c51b7d\"],[0.2,\"#de77ae\"],[0.3,\"#f1b6da\"],[0.4,\"#fde0ef\"],[0.5,\"#f7f7f7\"],[0.6,\"#e6f5d0\"],[0.7,\"#b8e186\"],[0.8,\"#7fbc41\"],[0.9,\"#4d9221\"],[1,\"#276419\"]]},\"xaxis\":{\"gridcolor\":\"white\",\"linecolor\":\"white\",\"ticks\":\"\",\"title\":{\"standoff\":15},\"zerolinecolor\":\"white\",\"automargin\":true,\"zerolinewidth\":2},\"yaxis\":{\"gridcolor\":\"white\",\"linecolor\":\"white\",\"ticks\":\"\",\"title\":{\"standoff\":15},\"zerolinecolor\":\"white\",\"automargin\":true,\"zerolinewidth\":2},\"scene\":{\"xaxis\":{\"backgroundcolor\":\"#E5ECF6\",\"gridcolor\":\"white\",\"linecolor\":\"white\",\"showbackground\":true,\"ticks\":\"\",\"zerolinecolor\":\"white\",\"gridwidth\":2},\"yaxis\":{\"backgroundcolor\":\"#E5ECF6\",\"gridcolor\":\"white\",\"linecolor\":\"white\",\"showbackground\":true,\"ticks\":\"\",\"zerolinecolor\":\"white\",\"gridwidth\":2},\"zaxis\":{\"backgroundcolor\":\"#E5ECF6\",\"gridcolor\":\"white\",\"linecolor\":\"white\",\"showbackground\":true,\"ticks\":\"\",\"zerolinecolor\":\"white\",\"gridwidth\":2}},\"shapedefaults\":{\"line\":{\"color\":\"#2a3f5f\"}},\"annotationdefaults\":{\"arrowcolor\":\"#2a3f5f\",\"arrowhead\":0,\"arrowwidth\":1},\"geo\":{\"bgcolor\":\"white\",\"landcolor\":\"#E5ECF6\",\"subunitcolor\":\"white\",\"showland\":true,\"showlakes\":true,\"lakecolor\":\"white\"},\"title\":{\"x\":0.05},\"mapbox\":{\"style\":\"light\"}}},\"xaxis\":{\"anchor\":\"y\",\"domain\":[0.0,1.0],\"title\":{\"text\":\"Date Local\"},\"tickformat\":\"%Y-%m-%d\"},\"yaxis\":{\"anchor\":\"x\",\"domain\":[0.0,1.0],\"title\":{\"text\":\"NO2 Mean\"},\"range\":[0,70]},\"legend\":{\"title\":{\"text\":\"County\"},\"tracegroupgap\":0},\"margin\":{\"t\":20,\"l\":20,\"r\":20,\"b\":20},\"dragmode\":\"pan\",\"hovermode\":\"closest\"},                        {\"responsive\": true}                    ).then(function(){\n",
       "                            \n",
       "var gd = document.getElementById('07a21276-f0a8-41dd-8451-0eeb0bfeb102');\n",
       "var x = new MutationObserver(function (mutations, observer) {{\n",
       "        var display = window.getComputedStyle(gd).display;\n",
       "        if (!display || display === 'none') {{\n",
       "            console.log([gd, 'removed!']);\n",
       "            Plotly.purge(gd);\n",
       "            observer.disconnect();\n",
       "        }}\n",
       "}});\n",
       "\n",
       "// Listen for the removal of the full notebook cells\n",
       "var notebookContainer = gd.closest('#notebook-container');\n",
       "if (notebookContainer) {{\n",
       "    x.observe(notebookContainer, {childList: true});\n",
       "}}\n",
       "\n",
       "// Listen for the clearing of the current output cell\n",
       "var outputEl = gd.closest('.output');\n",
       "if (outputEl) {{\n",
       "    x.observe(outputEl, {childList: true});\n",
       "}}\n",
       "\n",
       "                        })                };                });            </script>        </div>"
      ]
     },
     "metadata": {},
     "output_type": "display_data"
    }
   ],
   "source": [
    "import plotly.express as px\n",
    "import pandas as pd\n",
    "\n",
    "\n",
    "# Trực quan hóa dữ liệu bằng scatter plot với Date Local là trục x, NO2 Mean là trục y\n",
    "fig = px.scatter(df.sample(n=1000), x=\"Date_Local\", y=\"NO2_Mean\", color=\"County\", color_discrete_sequence=px.colors.qualitative.Dark24, opacity=0.7, size_max=3)\n",
    "\n",
    "# Sử dụng kỹ thuật Manipulate View để cho phép người dùng tương tác với biểu đồ bằng cách zoom hoặc di chuyển trục\n",
    "# Cập nhật layout cho biểu đồ\n",
    "fig.update_layout(\n",
    "    margin=dict(l=20, r=20, t=20, b=20),\n",
    "    xaxis=dict(title=\"Date Local\", tickformat=\"%Y-%m-%d\"),\n",
    "    yaxis=dict(title=\"NO2 Mean\", range=[0, 70]),\n",
    "    dragmode=\"pan\",\n",
    "    hovermode=\"closest\"\n",
    ")\n",
    "\n",
    "# Sử dụng kỹ thuật Facet để phân chia biểu đồ thành các subplot theo từng quận hoặc thành phố\n",
    "#fig = px.scatter(df, x=\"Date_Local\", y=\"NO2_Mean\", facet_col=\"County\",facet_col_spacing = 0.007,color_discrete_sequence=px.colors.qualitative.Pastel)\n",
    "\n",
    "# Sử dụng kỹ thuật Reduce để giảm số lượng dữ liệu hiển thị trên biểu đồ bằng cách lấy mẫu ngẫu nhiên\n",
    "#fig = px.scatter(df.sample(n=1000), x=\"Date_Local\", y=\"NO2_Mean\", color_discrete_sequence=px.colors.qualitative.Pastel)\n",
    "\n",
    "fig.show()\n",
    "# Sử dụng kỹ thuật Embed để nhúng biểu đồ vào ứng dụng web hoặc website\n",
    "# Để nhúng biểu đồ vào ứng dụng web hoặc website, ta có thể sử dụng đoạn mã sau\n",
    "# Thay đổi username và api_key bằng thông tin tài khoản của bạn trên plotly\n",
    "#"
   ]
  },
  {
   "cell_type": "markdown",
   "metadata": {},
   "source": [
    "- Nhận xét :\n",
    "  + Nồng độ NO2 giảm dần theo thời gian từng năm\n",
    "  + 3 tháng 11,12,1 trong năm thường là thời gian nồng độ NO2 đạt cao nhất\n",
    "  + Các tháng 4,5,6 thường là thời gian nồng đồ NO2 thấp nhất\n",
    "  + Mức độ chênh lệch giữa NO2 cao nhất và NO2 thấp nhất trong năm càng ngày càng giảm\n"
   ]
  },
  {
   "cell_type": "markdown",
   "metadata": {},
   "source": [
    "Tiếp theo ta sẽ sử dụng chuỗi thời gian phân rã để nhận xét các thành phần của chuỗi thời gian\n",
    "- Biểu đồ trending:"
   ]
  },
  {
   "cell_type": "code",
   "execution_count": 38,
   "metadata": {},
   "outputs": [
    {
     "data": {
      "image/png": "[encoded data removed]",
      "text/plain": [
       "<Figure size 640x480 with 1 Axes>"
      ]
     },
     "metadata": {},
     "output_type": "display_data"
    }
   ],
   "source": [
    "df['Year'] = pd.DatetimeIndex(df['Date_Local']).year\n",
    "df['Month'] = pd.DatetimeIndex(df['Date_Local']).month\n",
    "plt.plot(df['Date_Local'], df['NO2_Mean'])\n",
    "plt.xlabel('Date Local')\n",
    "plt.ylabel('NO2 Mean')\n",
    "plt.title('Trend of NO2 Mean over time')\n",
    "plt.show()\n"
   ]
  },
  {
   "cell_type": "markdown",
   "metadata": {},
   "source": [
    "- Nhận xét:\n",
    "    + Dễ dàng thấy rằng các đỉnh nồng độ NO2 ngày càng giảm dần theo thời gian\n",
    "    + Điều này cho thấy trend của nồng độ NO2 vẫn là giảm dần\n"
   ]
  },
  {
   "cell_type": "markdown",
   "metadata": {},
   "source": [
    "- Biểu đồ chu kỳ:"
   ]
  },
  {
   "cell_type": "code",
   "execution_count": 39,
   "metadata": {},
   "outputs": [
    {
     "data": {
      "image/png": "[encoded data removed]",
      "text/plain": [
       "<Figure size 640x480 with 1 Axes>"
      ]
     },
     "metadata": {},
     "output_type": "display_data"
    }
   ],
   "source": [
    "df_cycle = df.groupby(['Month'])['NO2_Mean'].mean()\n",
    "plt.plot(df_cycle.index, df_cycle.values)\n",
    "plt.xlabel('Month')\n",
    "plt.ylabel('NO2 Mean')\n",
    "plt.title('Cycle of NO2 Mean')\n",
    "plt.show()\n"
   ]
  },
  {
   "cell_type": "markdown",
   "metadata": {},
   "source": [
    "- Nhận xét:\n",
    "  + Chu kỳ nồng độ CO2 thường đạt đỉnh vào tháng 1, sau đó có xu hướng giảm dần tới tháng 7 và bật tăng trở lại tới tháng 1."
   ]
  },
  {
   "cell_type": "markdown",
   "metadata": {},
   "source": [
    "- Biểu đồ thời vụ:"
   ]
  },
  {
   "cell_type": "code",
   "execution_count": 40,
   "metadata": {},
   "outputs": [
    {
     "data": {
      "image/png": "[encoded data removed]",
      "text/plain": [
       "<Figure size 640x480 with 1 Axes>"
      ]
     },
     "metadata": {},
     "output_type": "display_data"
    }
   ],
   "source": [
    "df_season = df.copy()\n",
    "df_season['Season'] = df_season['Month'].apply(lambda x: 'Winter' if (x == 12 or x <= 2) else ('Spring' if (x >= 3 and x <= 5) else ('Summer' if (x >= 6 and x <= 8) else 'Fall')))\n",
    "df_season = df_season.sort_values(by='Season')\n",
    "\n",
    "fig, ax = plt.subplots()\n",
    "ax.boxplot([df_season[df_season['Season'] == 'Winter']['NO2_Mean'], df_season[df_season['Season'] == 'Spring']['NO2_Mean'], df_season[df_season['Season'] == 'Summer']['NO2_Mean'], df_season[df_season['Season'] == 'Fall']['NO2_Mean']])\n",
    "ax.set_xticklabels(['Winter', 'Spring', 'Summer', 'Fall'])\n",
    "plt.xlabel('Season')\n",
    "plt.ylabel('NO2 Mean')\n",
    "plt.title('Seasonal variation of NO2 Mean')\n",
    "plt.show()\n"
   ]
  },
  {
   "cell_type": "markdown",
   "metadata": {},
   "source": [
    "- Nhận xét:\n",
    "  + Mùa đông thường là mùa có nồng độ CO2 cao nhất, trong khi đó mùa hè là mùa có nồng độ CO2 thập nhất\n",
    "  + Nồng độ NO2 thường cao nhất vào mùa xuân, sau đó giảm dần tới mùa hè và rồi tăng trở lại vào mùa thu"
   ]
  },
  {
   "cell_type": "markdown",
   "metadata": {},
   "source": [
    "- Biểu đồ noise:"
   ]
  },
  {
   "cell_type": "code",
   "execution_count": 41,
   "metadata": {},
   "outputs": [
    {
     "data": {
      "image/png": "[encoded data removed]",
      "text/plain": [
       "<Figure size 640x480 with 1 Axes>"
      ]
     },
     "metadata": {},
     "output_type": "display_data"
    }
   ],
   "source": [
    "plt.hist(df['NO2_Mean'], bins=100)\n",
    "plt.xlabel('NO2 Mean')\n",
    "plt.ylabel('Frequency')\n",
    "plt.title('Noise of NO2 Mean')\n",
    "plt.show()\n"
   ]
  },
  {
   "cell_type": "markdown",
   "metadata": {},
   "source": [
    "- Nhận xét:\n",
    "  + Dữ liệu NO2_Mean phân bố đều trong phạm vi giá trị từ khoảng 0 đến khoảng 60\n",
    "  + Điều này cho thấy sự  ổn định của dữ liệu từ khoảng 0 đến khoảng 60\n",
    "  + Khi nồng độ NO2 càng cao thì tần suất phân bố càng thấp"
   ]
  },
  {
   "cell_type": "markdown",
   "metadata": {},
   "source": [
    "## **D. Xây dựng mô hình học máy:**"
   ]
  },
  {
   "cell_type": "markdown",
   "metadata": {},
   "source": [
    "### **1. Chuẩn bị dữ liệu**: "
   ]
  },
  {
   "cell_type": "markdown",
   "metadata": {},
   "source": [
    "### **2. Xây dựng mô hình**"
   ]
  },
  {
   "cell_type": "markdown",
   "metadata": {},
   "source": [
    "### **3. Trực quan hóa mô hình:**"
   ]
  },
  {
   "cell_type": "markdown",
   "metadata": {},
   "source": [
    "## **E. Tài liệu tham khảo**"
   ]
  },
  {
   "cell_type": "markdown",
   "metadata": {},
   "source": [
    "https://simerp.io/blog/tim-hieu-nhu-cau-khach-hang/\n",
    "\n",
    "https://vitalflux.com/pca-explained-variance-concept-python-example/\n",
    "\n",
    "https://www.datacamp.com/tutorial/decision-tree-classification-python\n",
    "\n",
    "https://www.kaggle.com/code/utkarshsaxenadn/shop-customer-clustering?fbclid=IwAR29tq6_MlfU848Svyr_Rghg9U3nxiIYaZa3kHgURPZvRh1NwN8Lo8wrkp0"
   ]
  }
 ],
 "metadata": {
  "kernelspec": {
   "display_name": "Python 3 (ipykernel)",
   "language": "python",
   "name": "python3"
  },
  "language_info": {
   "codemirror_mode": {
    "name": "ipython",
    "version": 3
   },
   "file_extension": ".py",
   "mimetype": "text/x-python",
   "name": "python",
   "nbconvert_exporter": "python",
   "pygments_lexer": "ipython3",
   "version": "3.9.13"
  }
 },
 "nbformat": 4,
 "nbformat_minor": 2
}
